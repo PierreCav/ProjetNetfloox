{
  "cells": [
    {
      "cell_type": "markdown",
      "metadata": {
        "id": "SWvToFh4Kjo6"
      },
      "source": [
        "# Collab groupe 2"
      ]
    },
    {
      "cell_type": "markdown",
      "metadata": {
        "id": "l14xIv-XLnWu"
      },
      "source": [
        "##Chargement base de donnée et bibliotèques"
      ]
    },
    {
      "cell_type": "markdown",
      "metadata": {
        "id": "TJnDkabyKh8Q"
      },
      "source": [
        "Chargement des bibliotèques :"
      ]
    },
    {
      "cell_type": "code",
      "execution_count": null,
      "metadata": {
        "colab": {
          "base_uri": "https://localhost:8080/",
          "height": 378
        },
        "id": "U44envaxKgT-",
        "outputId": "d11149d8-dad5-4103-d1e7-e61b80f5bb4e"
      },
      "outputs": [],
      "source": [
        "import pandas as pd\n",
        "import numpy as np\n",
        "from dotenv import load_dotenv\n",
        "import os\n",
        "import pandas as pd\n",
        "from sqlalchemy import create_engine\n",
        "import matplotlib.pyplot as plt\n",
        "import math\n",
        "import seaborn as sns\n",
        "from sklearn.experimental import enable_halving_search_cv\n",
        "from sklearn.model_selection import HalvingGridSearchCV, train_test_split, GridSearchCV\n",
        "from sklearn.impute import SimpleImputer\n",
        "from sklearn.compose import ColumnTransformer\n",
        "from sklearn.feature_extraction.text import CountVectorizer, TfidfVectorizer\n",
        "from sklearn.preprocessing import StandardScaler, OneHotEncoder, RobustScaler\n",
        "from sklearn.pipeline import Pipeline\n",
        "from sklearn.linear_model import LinearRegression, Ridge, Lasso, ElasticNet\n",
        "from sklearn.ensemble import RandomForestRegressor, GradientBoostingRegressor\n",
        "from sklearn.svm import SVR\n",
        "from sklearn.metrics import mean_squared_error\n",
        "from sklearn.preprocessing import FunctionTransformer\n",
        "#from sklearn.metrics import root_mean_squared_error"
      ]
    },
    {
      "cell_type": "markdown",
      "metadata": {
        "id": "XV15rgZOK3Al"
      },
      "source": [
        "Chargement des données sur la base de donnée :"
      ]
    },
    {
      "cell_type": "code",
      "execution_count": null,
      "metadata": {
        "colab": {
          "base_uri": "https://localhost:8080/",
          "height": 207
        },
        "id": "QiFlrRxxKgUA",
        "outputId": "c7e93bb2-10d0-41e1-f835-c82c80920fa5"
      },
      "outputs": [],
      "source": [
        "load_dotenv('BDD_URL.env')\n",
        "BDD_URL = os.environ['BDD_URL']\n",
        "engine = create_engine(BDD_URL)\n",
        "\n",
        "SQL_filtre= \"\"\"\n",
        "SET search_path to principal;\n",
        "SELECT *\n",
        "from \"filmview\"\n",
        "where 'Comedy' = ANY(string_to_array(\"genres\", ','))\n",
        "limit 10000;\n",
        "\"\"\"\n",
        "SQL= \"\"\"\n",
        "SET search_path to principal;\n",
        "SELECT  \"primaryTitle\", \"titleType\", \"isAdult\", \"startYear\", \"runtimeMinutes\", \"genres\", \"averageRating\", \"directors\", \"writers\", \"actor\", \"producer\", \"cinematographer\", \"composer\", \"editor\", \"production_designer\", \"self\", \"archive_footage\", \"archive_sound\"\n",
        "from \"castview\"\n",
        "where \"runtimeMinutes\" Is NOT null and \"averageRating\" is NOT NULL and \"genres\" is NOT NULL and \"startYear\" is NOT NULL and \"isAdult\" is NOT NULL  and \"directors\" is NOT NULL and  \"writers\" is NOT NULL  and  \"actor\" is NOT NULL  and  \"producer\" is NOT NULL\n",
        "limit 100000;\n",
        "\"\"\"\n",
        "\n",
        "#and \"titleType\" = 'movie'\n",
        "\n",
        "df = pd.read_sql(SQL, engine)\n",
        "engine.dispose()\n",
        "df"
      ]
    },
    {
      "cell_type": "markdown",
      "metadata": {
        "id": "wDgKys-ILhng"
      },
      "source": [
        "## Analyse des données"
      ]
    },
    {
      "cell_type": "markdown",
      "metadata": {
        "id": "an1QYBKiLwq_"
      },
      "source": [
        "Répartition des données"
      ]
    },
    {
      "cell_type": "code",
      "execution_count": null,
      "metadata": {
        "colab": {
          "base_uri": "https://localhost:8080/",
          "height": 139
        },
        "id": "CmSXxD7hKgUB",
        "outputId": "ba5e5a8b-a508-4fce-a931-8f27b626d1b0"
      },
      "outputs": [],
      "source": [
        "df.info()"
      ]
    },
    {
      "cell_type": "markdown",
      "metadata": {
        "id": "_YtdzPHwNQRD"
      },
      "source": [
        "Répartition des ratings"
      ]
    },
    {
      "cell_type": "code",
      "execution_count": null,
      "metadata": {
        "colab": {
          "base_uri": "https://localhost:8080/",
          "height": 190
        },
        "id": "eb-h5sHkKgUC",
        "outputId": "c6dbd71d-5635-4d5f-8a60-0256e908fb6e"
      },
      "outputs": [],
      "source": [
        "df['averageRating'].hist()\n",
        "plt.title('Distribution des Rating ')\n",
        "plt.xlabel('averageRating')\n",
        "plt.ylabel('Nombre de Film')"
      ]
    },
    {
      "cell_type": "markdown",
      "metadata": {
        "id": "IV2FFv12NWSl"
      },
      "source": [
        "Création d'un diagramme en boîte qui montre la distribution des durées des films (runtimeMinutes) pour chaque type de titre (titleType)."
      ]
    },
    {
      "cell_type": "code",
      "execution_count": null,
      "metadata": {
        "id": "0mve5BdkKgUC"
      },
      "outputs": [],
      "source": [
        "plt.figure(figsize=(10, 6))\n",
        "sns.boxplot(x='titleType', y='runtimeMinutes', data=df)\n",
        "plt.title('Distribution des runtimeMinutes par Type (titleType)')\n",
        "plt.xlabel('titleType')\n",
        "plt.ylabel('runtimeMinutes (min)')\n",
        "plt.show()"
      ]
    },
    {
      "cell_type": "markdown",
      "metadata": {
        "id": "d_bAXOGhNdTb"
      },
      "source": [
        "## Création des fonctions"
      ]
    },
    {
      "cell_type": "markdown",
      "metadata": {
        "id": "WKxeYNt5NuGu"
      },
      "source": [
        "Convertion liste en une chaine de caractère"
      ]
    },
    {
      "cell_type": "code",
      "execution_count": null,
      "metadata": {
        "id": "LlrutIxJKgUC"
      },
      "outputs": [],
      "source": [
        "def liste_en_texte(lst):\n",
        "    if isinstance(lst, list):\n",
        "        return ' '.join(lst)\n",
        "    else:\n",
        "        return lst"
      ]
    },
    {
      "cell_type": "markdown",
      "metadata": {
        "id": "gNzgXV9xNxFO"
      },
      "source": [
        "Nettoyage des données"
      ]
    },
    {
      "cell_type": "code",
      "execution_count": null,
      "metadata": {
        "id": "zHwDHd3yKgUD"
      },
      "outputs": [],
      "source": [
        "def cleanText(df):\n",
        "    df.fillna('missing', inplace=True)\n",
        "    df=df.str.replace(',', ' ')\n",
        "    return df"
      ]
    },
    {
      "cell_type": "markdown",
      "metadata": {
        "id": "aQCDQY4cOazx"
      },
      "source": [
        "##Création du DF avec les colonnes choisies"
      ]
    },
    {
      "cell_type": "code",
      "execution_count": null,
      "metadata": {
        "id": "y39y7kMcKgUD"
      },
      "outputs": [],
      "source": [
        "columns_to_clean = ['primaryTitle', 'titleType', 'genres', 'directors', 'writers',\n",
        "                    'actor', 'producer', 'cinematographer', 'composer', 'editor',\n",
        "                    'production_designer', 'self', 'archive_footage', 'archive_sound']\n",
        "\n",
        "for column in columns_to_clean:\n",
        "    df[column] = cleanText(df[column])"
      ]
    },
    {
      "cell_type": "code",
      "execution_count": null,
      "metadata": {
        "id": "7ErmOIxLKgUE"
      },
      "outputs": [],
      "source": [
        "df"
      ]
    },
    {
      "cell_type": "markdown",
      "metadata": {
        "id": "hY2R2hTZOiFJ"
      },
      "source": [
        "##Entrainement du modèle"
      ]
    },
    {
      "cell_type": "markdown",
      "metadata": {
        "id": "CTfIJ47sOnb1"
      },
      "source": [
        "Séparation des caractéristiques et de la cible et des données d'entraînement et de test avec y comme target et X les features"
      ]
    },
    {
      "cell_type": "code",
      "execution_count": null,
      "metadata": {
        "id": "6sRSQLIVKgUE"
      },
      "outputs": [],
      "source": [
        "\n",
        "X = df.drop(columns=[\"averageRating\"])\n",
        "y = df[\"averageRating\"]\n",
        "\n",
        "X_train, X_test, y_train, y_test = train_test_split(X, y, test_size=0.2, random_state=42)\n",
        "\n"
      ]
    },
    {
      "cell_type": "markdown",
      "metadata": {
        "id": "9ZNwTCIVO4yO"
      },
      "source": [
        "Définition des colonnes numériques, textuelles et de description"
      ]
    },
    {
      "cell_type": "code",
      "execution_count": null,
      "metadata": {
        "id": "K0etvH-DKgUE"
      },
      "outputs": [],
      "source": [
        "numeric_features = ['startYear', 'runtimeMinutes']\n",
        "boolean_features = 'isAdult'\n",
        "text_features = ['titleType']"
      ]
    },
    {
      "cell_type": "markdown",
      "metadata": {
        "id": "8ehKrKU2PCmX"
      },
      "source": [
        "Création des transformers pour les colonnes numériques, booléennes, textuelles et de description et du ColumnTransformer"
      ]
    },
    {
      "cell_type": "code",
      "execution_count": null,
      "metadata": {
        "id": "2x57m_8dKgUE"
      },
      "outputs": [],
      "source": [
        "numeric_transformer = Pipeline(steps=[\n",
        "    ('imputer', SimpleImputer(strategy='median')),\n",
        "    ('scaler', RobustScaler())\n",
        "])\n",
        "\n",
        "boolean_transformer = FunctionTransformer(lambda x: x.astype(bool).values.reshape(-1, 1))\n",
        "\n",
        "text_transformer = Pipeline(steps=[\n",
        "    ('imputer', SimpleImputer(strategy='constant', fill_value='missing')),\n",
        "    ('onehot', OneHotEncoder(handle_unknown='ignore'))\n",
        "])\n",
        "\n",
        "Vect_transformer = Pipeline([\n",
        "    ('vect', CountVectorizer(decode_error='ignore', analyzer='word')) #max_features=1000, analyzer=\"word\"\n",
        "])\n",
        "tfidf_transformer = Pipeline([\n",
        "    ('tf_idf', TfidfVectorizer(decode_error='ignore',analyzer='word')) #max_features=1000, sublinear_tf=True\n",
        "])\n",
        "\n",
        "\n",
        "preprocessor = ColumnTransformer(\n",
        "    transformers=[\n",
        "        ('num', numeric_transformer, numeric_features),\n",
        "        ('bool', boolean_transformer, boolean_features),\n",
        "        ('text', text_transformer, text_features), # c'est titleType\n",
        "\n",
        "        ('title', Vect_transformer, 'primaryTitle'),\n",
        "\n",
        "        ('genres', tfidf_transformer, 'genres'),\n",
        "        ('producer', tfidf_transformer, 'producer'),\n",
        "        ('directors', tfidf_transformer, 'directors'),\n",
        "        ('writers', tfidf_transformer, 'writers'),\n",
        "        ('actor', tfidf_transformer, 'actor'),\n",
        "\n",
        "        ('cinematographer', tfidf_transformer, 'cinematographer'),\n",
        "        ('composer', tfidf_transformer, 'composer'),\n",
        "        ('editor', tfidf_transformer, 'editor'),\n",
        "        ('production_designer', tfidf_transformer, 'production_designer'),\n",
        "        ('selfy', tfidf_transformer, 'self'),\n",
        "        ('archive_footage', tfidf_transformer, 'archive_footage'),\n",
        "        ('archive_sound', tfidf_transformer, 'archive_sound')\n",
        "\n",
        "\n",
        "    ])\n",
        "preprocessor"
      ]
    },
    {
      "cell_type": "markdown",
      "metadata": {
        "id": "pKQm1ONgVK37"
      },
      "source": [
        "Création des pipelines pour chaque modèle et leur paramètres.\n",
        "Affichage des différents scoring."
      ]
    },
    {
      "cell_type": "code",
      "execution_count": null,
      "metadata": {
        "id": "PO_TqLQ5KgUF"
      },
      "outputs": [],
      "source": [
        "# Création des pipelines pour chaque modèle\n",
        "pipelines = {\n",
        "    'Linear Regression': Pipeline([('preprocessor', preprocessor), ('regressor', LinearRegression())]),\n",
        "    'Ridge Regression': Pipeline([('preprocessor', preprocessor), ('regressor', Ridge())]),\n",
        "    'Lasso Regression': Pipeline([('preprocessor', preprocessor), ('regressor', Lasso())]),\n",
        "    'ElasticNet': Pipeline([('preprocessor', preprocessor), ('regressor', ElasticNet())]),\n",
        "    'Random Forest Regression': Pipeline([('preprocessor', preprocessor), ('regressor', RandomForestRegressor())]),\n",
        "    'Gradient Boosting Regression': Pipeline([('preprocessor', preprocessor), ('regressor', GradientBoostingRegressor())]),\n",
        "    'SVR': Pipeline([('preprocessor', preprocessor), ('regressor', SVR())]),\n",
        "}\n",
        "\n",
        "# Paramètres pour GridSearchCV pour chaque modèle\n",
        "parameters = {\n",
        "    'Linear Regression': {'regressor__fit_intercept': [True,False]},\n",
        "    'Ridge Regression': {'regressor__alpha': [0.1, 1.0, 5.0,10]},\n",
        "    'Lasso Regression': {'regressor__alpha': [0.1, 1.0, 5.0,10]},\n",
        "    'ElasticNet': {'regressor__alpha': [0.1, 1.0, 5.0,10], 'regressor__l1_ratio': [0.1, 0.5, 0.9]},\n",
        "    'Random Forest Regression': {'regressor__n_estimators': [150,200], 'regressor__max_depth': [50, 100]},# None,\n",
        "    'Gradient Boosting Regression': {'regressor__n_estimators': [150,200], 'regressor__max_depth': [50, 100]},\n",
        "    'SVR': {'regressor__kernel': ['linear', 'rbf'], 'regressor__C': [0.1, 1.0, 10.0]},\n",
        "}\n",
        "\n",
        "# Scoring : RMSE, R2 et MAE\n",
        "scoring = {'RMSE': 'neg_root_mean_squared_error',\n",
        "           'R2': 'r2',\n",
        "           'MAE': 'neg_mean_absolute_error'}\n"
      ]
    },
    {
      "cell_type": "markdown",
      "metadata": {
        "id": "bQN-HJilV01R"
      },
      "source": [
        "## Résultats et évaluations"
      ]
    },
    {
      "cell_type": "markdown",
      "metadata": {
        "id": "8ksbBjGxVaPa"
      },
      "source": [
        "Création du GridSearch pour avoir les meilleurs scores, modèles, paramètres."
      ]
    },
    {
      "cell_type": "code",
      "execution_count": null,
      "metadata": {
        "id": "ZAREC_2LKgUF"
      },
      "outputs": [],
      "source": [
        "def Grid(X_train, y_train, pipeline, parameters, cv=5):\n",
        "\n",
        "\n",
        "  # Grid search\n",
        "  grid = GridSearchCV(pipeline, parameters,  scoring=scoring, refit='RMSE', cv=cv, n_jobs =-1, verbose = 0)#, error_score='raise'\n",
        "\n",
        "  # Fit\n",
        "  grid.fit(X_train, y_train)\n",
        "\n",
        "  # Scores and results\n",
        "  best_score = grid.best_score_.round(4)\n",
        "  best_params = grid.best_params_\n",
        "  training_time = grid.cv_results_['mean_fit_time'].mean().round(4)\n",
        "\n",
        "  # Output\n",
        "  return({\n",
        "      'best_score': best_score,\n",
        "      'best_params': best_params,\n",
        "      'training_time': training_time,\n",
        "      'fitted_model': grid.best_estimator_\n",
        "  })"
      ]
    },
    {
      "cell_type": "markdown",
      "metadata": {
        "id": "DDajHSONVh6p"
      },
      "source": [
        "Création de la fonction pour l'affichage des résultats."
      ]
    },
    {
      "cell_type": "code",
      "execution_count": null,
      "metadata": {
        "id": "2ElZsMUMKgUF"
      },
      "outputs": [],
      "source": [
        "def afficheResults (grid):\n",
        "    model_name = grid['fitted_model'].named_steps['regressor'].__class__.__name__\n",
        "    print(f\"{model_name} training time: {grid['training_time']}\")\n",
        "    print(f\"Best {model_name} parameters: {grid['best_params']}\")\n",
        "    print(f\"Best {model_name} score: {-grid['best_score']}\")\n",
        "\n",
        "\n"
      ]
    },
    {
      "cell_type": "markdown",
      "metadata": {
        "id": "3sikKzLjVsAp"
      },
      "source": [
        "Affichage des résultats pour chaque modèles et les meilleurs paramètres associés."
      ]
    },
    {
      "cell_type": "code",
      "execution_count": null,
      "metadata": {
        "id": "Fv9dCmUNKgUG",
        "outputId": "e9868931-c5e9-474b-d19c-248f8f99afdb"
      },
      "outputs": [],
      "source": [
        "# Boucle sur les modèles pour ajuster avec GridSearchCV\n",
        "models = {}\n",
        "\n",
        "# Boucle sur les modèles pour ajuster avec GridSearchCV et évaluation\n",
        "for model_name, pipeline in pipelines.items():\n",
        "    print(f\"\\n..............{model_name}..............................\")\n",
        "    grid_search = Grid(X_train, y_train, pipeline, parameters[model_name], cv=5)\n",
        "    afficheResults (grid_search)\n",
        "\n",
        "    best_model = grid_search['fitted_model']\n",
        "    y_pred = best_model.predict(X_test)\n",
        "    mse = mean_squared_error(y_test, y_pred)\n",
        "    Rmse = round(math.sqrt(mse), 4)\n",
        "    models[model_name] = [best_model,Rmse]\n",
        "    print(f\"{model_name} RMSE: {Rmse}\")"
      ]
    },
    {
      "cell_type": "code",
      "execution_count": null,
      "metadata": {
        "id": "dmGjsEUhKgUG",
        "outputId": "7fbaa69d-fbdf-4f1e-e864-b3546863b46a"
      },
      "outputs": [],
      "source": [
        "'''\n",
        "# Evaluation des modèles sur les données de test\n",
        "print(\"\\nComparaison des performances des modèles sur les données de test:\")\n",
        "for model_name, mse in results.items():\n",
        "    print(f\"{model_name}: MSE = {mse}\")\n",
        "\n",
        "'''"
      ]
    }
  ],
  "metadata": {
    "colab": {
      "collapsed_sections": [
        "l14xIv-XLnWu",
        "wDgKys-ILhng",
        "d_bAXOGhNdTb",
        "aQCDQY4cOazx",
        "hY2R2hTZOiFJ",
        "bQN-HJilV01R"
      ],
      "provenance": []
    },
    "kernelspec": {
      "display_name": "base",
      "language": "python",
      "name": "python3"
    },
    "language_info": {
      "codemirror_mode": {
        "name": "ipython",
        "version": 3
      },
      "file_extension": ".py",
      "mimetype": "text/x-python",
      "name": "python",
      "nbconvert_exporter": "python",
      "pygments_lexer": "ipython3",
      "version": "3.11.5"
    }
  },
  "nbformat": 4,
  "nbformat_minor": 0
}
