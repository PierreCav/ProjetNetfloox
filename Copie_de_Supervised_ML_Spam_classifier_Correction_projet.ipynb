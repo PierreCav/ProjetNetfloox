{
  "cells": [
    {
      "cell_type": "markdown",
      "metadata": {
        "id": "pJsqufvk5fOq"
      },
      "source": [
        "# Challenge ML\n",
        "\n",
        "**Bienvenue dans le challenge ML !** Il s'agit d'évaluer les compétences acquises pour développer un modèle de Machine Learning.\n",
        "\n",
        "Vous allez développer un classifieur automatique de Spam grâce à une collection existante de SMS labellisés (Spam / Ham). Ce dataset provient de [UCI Machine Learning Repository](https://archive.ics.uci.edu/dataset/228/sms+spam+collection).  \n",
        "Pour ce challenge, voici les étapes sur lesquelles vous serez particulièrement évalué :\n",
        "- Preprocessing\n",
        "- Automatisation du process avec un pipeline\n",
        "- Entrainement et validation croisée des modèles\n",
        "- Recherche des hyper-paramètres\n",
        "- Comparaison de différents modèles de classification\n",
        "- Sélection d'une métrique d'erreur convenablement choisie vis-à-vis du contexte\n",
        "- Sélection d'un modèle de classification et justification du choix  \n",
        "\n",
        "Et en bonus :\n",
        "- Compréhension et analyses des erreurs du modèle\n",
        "- Compréhension et analyses des caractéristiques (features) d'intérêt\n",
        "  \n",
        "**Consignes :**\n",
        "- Faites une copie de ce notebook et modifiez-le librement.\n",
        "- Structuer votre notebook afin d'en faire un véritable rapport :\n",
        "  - Titres, zones de texte et zones de code.\n",
        "  - Il est important d'apporter des explications et des justifications pour les choix réalisés.\n",
        "- En fin de challenge, partagez votre travail sur Simplonline (veuillez vous assurer que les accès à votre document sont autorisés à des tiers)."
      ]
    },
    {
      "cell_type": "markdown",
      "metadata": {
        "id": "5IbBCDL-3hRL"
      },
      "source": [
        "#1.Chargement des librairies"
      ]
    },
    {
      "cell_type": "code",
      "execution_count": null,
      "metadata": {
        "id": "NSylVOpy3hg5"
      },
      "outputs": [],
      "source": [
        "# Data\n",
        "import pandas as pd\n",
        "import numpy as np\n",
        "\n",
        "# Graphics\n",
        "import seaborn as sns ; sns.set()\n",
        "\n",
        "# Machine learning - Preprocessing\n",
        "from sklearn.feature_extraction.text import CountVectorizer, TfidfVectorizer\n",
        "from sklearn.preprocessing import MinMaxScaler\n",
        "from sklearn.compose import ColumnTransformer\n",
        "\n",
        "# Machine learning - Automatisation\n",
        "from sklearn.pipeline import Pipeline\n",
        "from sklearn import set_config\n",
        "\n",
        "# Machine learning - Models\n",
        "from sklearn.linear_model import LogisticRegression\n",
        "from sklearn.svm import SVC\n",
        "from sklearn.ensemble import RandomForestClassifier, GradientBoostingClassifier, HistGradientBoostingClassifier\n",
        "from sklearn.naive_bayes import ComplementNB, GaussianNB, MultinomialNB\n",
        "\n",
        "# Machine learning - Model selection\n",
        "from sklearn.model_selection import train_test_split, GridSearchCV\n",
        "\n",
        "# Machine learning - Metrics\n",
        "from sklearn import metrics\n",
        "from sklearn.metrics import confusion_matrix, accuracy_score, ConfusionMatrixDisplay, f1_score, fbeta_score, recall_score, fbeta_score, make_scorer, roc_curve\n",
        "from sklearn.preprocessing import LabelEncoder"
      ]
    },
    {
      "cell_type": "markdown",
      "metadata": {
        "id": "6y1xm1u0FmiE"
      },
      "source": [
        "#2.Chargement de la collection de SMS"
      ]
    },
    {
      "cell_type": "code",
      "execution_count": null,
      "metadata": {
        "colab": {
          "base_uri": "https://localhost:8080/",
          "height": 206
        },
        "id": "cq-CXuXW3sls",
        "outputId": "258b188e-88b5-42be-8b3d-8909a59fe158"
      },
      "outputs": [
        {
          "data": {
            "text/html": [
              "\n",
              "  <div id=\"df-2d014c5b-6e99-4e60-8ae2-7130c0ef8109\" class=\"colab-df-container\">\n",
              "    <div>\n",
              "<style scoped>\n",
              "    .dataframe tbody tr th:only-of-type {\n",
              "        vertical-align: middle;\n",
              "    }\n",
              "\n",
              "    .dataframe tbody tr th {\n",
              "        vertical-align: top;\n",
              "    }\n",
              "\n",
              "    .dataframe thead th {\n",
              "        text-align: right;\n",
              "    }\n",
              "</style>\n",
              "<table border=\"1\" class=\"dataframe\">\n",
              "  <thead>\n",
              "    <tr style=\"text-align: right;\">\n",
              "      <th></th>\n",
              "      <th>label</th>\n",
              "      <th>message</th>\n",
              "    </tr>\n",
              "  </thead>\n",
              "  <tbody>\n",
              "    <tr>\n",
              "      <th>0</th>\n",
              "      <td>ham</td>\n",
              "      <td>Ok lar... Joking wif u oni...</td>\n",
              "    </tr>\n",
              "    <tr>\n",
              "      <th>1</th>\n",
              "      <td>spam</td>\n",
              "      <td>Free entry in 2 a wkly comp to win FA Cup fina...</td>\n",
              "    </tr>\n",
              "    <tr>\n",
              "      <th>2</th>\n",
              "      <td>ham</td>\n",
              "      <td>U dun say so early hor... U c already then say...</td>\n",
              "    </tr>\n",
              "    <tr>\n",
              "      <th>3</th>\n",
              "      <td>ham</td>\n",
              "      <td>Nah I don't think he goes to usf, he lives aro...</td>\n",
              "    </tr>\n",
              "    <tr>\n",
              "      <th>4</th>\n",
              "      <td>spam</td>\n",
              "      <td>FreeMsg Hey there darling it's been 3 week's n...</td>\n",
              "    </tr>\n",
              "  </tbody>\n",
              "</table>\n",
              "</div>\n",
              "    <div class=\"colab-df-buttons\">\n",
              "\n",
              "  <div class=\"colab-df-container\">\n",
              "    <button class=\"colab-df-convert\" onclick=\"convertToInteractive('df-2d014c5b-6e99-4e60-8ae2-7130c0ef8109')\"\n",
              "            title=\"Convert this dataframe to an interactive table.\"\n",
              "            style=\"display:none;\">\n",
              "\n",
              "  <svg xmlns=\"http://www.w3.org/2000/svg\" height=\"24px\" viewBox=\"0 -960 960 960\">\n",
              "    <path d=\"M120-120v-720h720v720H120Zm60-500h600v-160H180v160Zm220 220h160v-160H400v160Zm0 220h160v-160H400v160ZM180-400h160v-160H180v160Zm440 0h160v-160H620v160ZM180-180h160v-160H180v160Zm440 0h160v-160H620v160Z\"/>\n",
              "  </svg>\n",
              "    </button>\n",
              "\n",
              "  <style>\n",
              "    .colab-df-container {\n",
              "      display:flex;\n",
              "      gap: 12px;\n",
              "    }\n",
              "\n",
              "    .colab-df-convert {\n",
              "      background-color: #E8F0FE;\n",
              "      border: none;\n",
              "      border-radius: 50%;\n",
              "      cursor: pointer;\n",
              "      display: none;\n",
              "      fill: #1967D2;\n",
              "      height: 32px;\n",
              "      padding: 0 0 0 0;\n",
              "      width: 32px;\n",
              "    }\n",
              "\n",
              "    .colab-df-convert:hover {\n",
              "      background-color: #E2EBFA;\n",
              "      box-shadow: 0px 1px 2px rgba(60, 64, 67, 0.3), 0px 1px 3px 1px rgba(60, 64, 67, 0.15);\n",
              "      fill: #174EA6;\n",
              "    }\n",
              "\n",
              "    .colab-df-buttons div {\n",
              "      margin-bottom: 4px;\n",
              "    }\n",
              "\n",
              "    [theme=dark] .colab-df-convert {\n",
              "      background-color: #3B4455;\n",
              "      fill: #D2E3FC;\n",
              "    }\n",
              "\n",
              "    [theme=dark] .colab-df-convert:hover {\n",
              "      background-color: #434B5C;\n",
              "      box-shadow: 0px 1px 3px 1px rgba(0, 0, 0, 0.15);\n",
              "      filter: drop-shadow(0px 1px 2px rgba(0, 0, 0, 0.3));\n",
              "      fill: #FFFFFF;\n",
              "    }\n",
              "  </style>\n",
              "\n",
              "    <script>\n",
              "      const buttonEl =\n",
              "        document.querySelector('#df-2d014c5b-6e99-4e60-8ae2-7130c0ef8109 button.colab-df-convert');\n",
              "      buttonEl.style.display =\n",
              "        google.colab.kernel.accessAllowed ? 'block' : 'none';\n",
              "\n",
              "      async function convertToInteractive(key) {\n",
              "        const element = document.querySelector('#df-2d014c5b-6e99-4e60-8ae2-7130c0ef8109');\n",
              "        const dataTable =\n",
              "          await google.colab.kernel.invokeFunction('convertToInteractive',\n",
              "                                                    [key], {});\n",
              "        if (!dataTable) return;\n",
              "\n",
              "        const docLinkHtml = 'Like what you see? Visit the ' +\n",
              "          '<a target=\"_blank\" href=https://colab.research.google.com/notebooks/data_table.ipynb>data table notebook</a>'\n",
              "          + ' to learn more about interactive tables.';\n",
              "        element.innerHTML = '';\n",
              "        dataTable['output_type'] = 'display_data';\n",
              "        await google.colab.output.renderOutput(dataTable, element);\n",
              "        const docLink = document.createElement('div');\n",
              "        docLink.innerHTML = docLinkHtml;\n",
              "        element.appendChild(docLink);\n",
              "      }\n",
              "    </script>\n",
              "  </div>\n",
              "\n",
              "\n",
              "<div id=\"df-0de1a3ad-0bdf-46f9-930e-2c35ec201cf9\">\n",
              "  <button class=\"colab-df-quickchart\" onclick=\"quickchart('df-0de1a3ad-0bdf-46f9-930e-2c35ec201cf9')\"\n",
              "            title=\"Suggest charts\"\n",
              "            style=\"display:none;\">\n",
              "\n",
              "<svg xmlns=\"http://www.w3.org/2000/svg\" height=\"24px\"viewBox=\"0 0 24 24\"\n",
              "     width=\"24px\">\n",
              "    <g>\n",
              "        <path d=\"M19 3H5c-1.1 0-2 .9-2 2v14c0 1.1.9 2 2 2h14c1.1 0 2-.9 2-2V5c0-1.1-.9-2-2-2zM9 17H7v-7h2v7zm4 0h-2V7h2v10zm4 0h-2v-4h2v4z\"/>\n",
              "    </g>\n",
              "</svg>\n",
              "  </button>\n",
              "\n",
              "<style>\n",
              "  .colab-df-quickchart {\n",
              "      --bg-color: #E8F0FE;\n",
              "      --fill-color: #1967D2;\n",
              "      --hover-bg-color: #E2EBFA;\n",
              "      --hover-fill-color: #174EA6;\n",
              "      --disabled-fill-color: #AAA;\n",
              "      --disabled-bg-color: #DDD;\n",
              "  }\n",
              "\n",
              "  [theme=dark] .colab-df-quickchart {\n",
              "      --bg-color: #3B4455;\n",
              "      --fill-color: #D2E3FC;\n",
              "      --hover-bg-color: #434B5C;\n",
              "      --hover-fill-color: #FFFFFF;\n",
              "      --disabled-bg-color: #3B4455;\n",
              "      --disabled-fill-color: #666;\n",
              "  }\n",
              "\n",
              "  .colab-df-quickchart {\n",
              "    background-color: var(--bg-color);\n",
              "    border: none;\n",
              "    border-radius: 50%;\n",
              "    cursor: pointer;\n",
              "    display: none;\n",
              "    fill: var(--fill-color);\n",
              "    height: 32px;\n",
              "    padding: 0;\n",
              "    width: 32px;\n",
              "  }\n",
              "\n",
              "  .colab-df-quickchart:hover {\n",
              "    background-color: var(--hover-bg-color);\n",
              "    box-shadow: 0 1px 2px rgba(60, 64, 67, 0.3), 0 1px 3px 1px rgba(60, 64, 67, 0.15);\n",
              "    fill: var(--button-hover-fill-color);\n",
              "  }\n",
              "\n",
              "  .colab-df-quickchart-complete:disabled,\n",
              "  .colab-df-quickchart-complete:disabled:hover {\n",
              "    background-color: var(--disabled-bg-color);\n",
              "    fill: var(--disabled-fill-color);\n",
              "    box-shadow: none;\n",
              "  }\n",
              "\n",
              "  .colab-df-spinner {\n",
              "    border: 2px solid var(--fill-color);\n",
              "    border-color: transparent;\n",
              "    border-bottom-color: var(--fill-color);\n",
              "    animation:\n",
              "      spin 1s steps(1) infinite;\n",
              "  }\n",
              "\n",
              "  @keyframes spin {\n",
              "    0% {\n",
              "      border-color: transparent;\n",
              "      border-bottom-color: var(--fill-color);\n",
              "      border-left-color: var(--fill-color);\n",
              "    }\n",
              "    20% {\n",
              "      border-color: transparent;\n",
              "      border-left-color: var(--fill-color);\n",
              "      border-top-color: var(--fill-color);\n",
              "    }\n",
              "    30% {\n",
              "      border-color: transparent;\n",
              "      border-left-color: var(--fill-color);\n",
              "      border-top-color: var(--fill-color);\n",
              "      border-right-color: var(--fill-color);\n",
              "    }\n",
              "    40% {\n",
              "      border-color: transparent;\n",
              "      border-right-color: var(--fill-color);\n",
              "      border-top-color: var(--fill-color);\n",
              "    }\n",
              "    60% {\n",
              "      border-color: transparent;\n",
              "      border-right-color: var(--fill-color);\n",
              "    }\n",
              "    80% {\n",
              "      border-color: transparent;\n",
              "      border-right-color: var(--fill-color);\n",
              "      border-bottom-color: var(--fill-color);\n",
              "    }\n",
              "    90% {\n",
              "      border-color: transparent;\n",
              "      border-bottom-color: var(--fill-color);\n",
              "    }\n",
              "  }\n",
              "</style>\n",
              "\n",
              "  <script>\n",
              "    async function quickchart(key) {\n",
              "      const quickchartButtonEl =\n",
              "        document.querySelector('#' + key + ' button');\n",
              "      quickchartButtonEl.disabled = true;  // To prevent multiple clicks.\n",
              "      quickchartButtonEl.classList.add('colab-df-spinner');\n",
              "      try {\n",
              "        const charts = await google.colab.kernel.invokeFunction(\n",
              "            'suggestCharts', [key], {});\n",
              "      } catch (error) {\n",
              "        console.error('Error during call to suggestCharts:', error);\n",
              "      }\n",
              "      quickchartButtonEl.classList.remove('colab-df-spinner');\n",
              "      quickchartButtonEl.classList.add('colab-df-quickchart-complete');\n",
              "    }\n",
              "    (() => {\n",
              "      let quickchartButtonEl =\n",
              "        document.querySelector('#df-0de1a3ad-0bdf-46f9-930e-2c35ec201cf9 button');\n",
              "      quickchartButtonEl.style.display =\n",
              "        google.colab.kernel.accessAllowed ? 'block' : 'none';\n",
              "    })();\n",
              "  </script>\n",
              "</div>\n",
              "    </div>\n",
              "  </div>\n"
            ],
            "text/plain": [
              "  label                                            message\n",
              "0   ham                      Ok lar... Joking wif u oni...\n",
              "1  spam  Free entry in 2 a wkly comp to win FA Cup fina...\n",
              "2   ham  U dun say so early hor... U c already then say...\n",
              "3   ham  Nah I don't think he goes to usf, he lives aro...\n",
              "4  spam  FreeMsg Hey there darling it's been 3 week's n..."
            ]
          },
          "execution_count": 2,
          "metadata": {},
          "output_type": "execute_result"
        }
      ],
      "source": [
        "url = \"https://raw.githubusercontent.com/remijul/dataset/master/SMSSpamCollection\"\n",
        "df = pd.read_csv(url, sep=\"\\t\", header=0, names=['label', 'message'])\n",
        "df.head()"
      ]
    },
    {
      "cell_type": "markdown",
      "metadata": {
        "id": "6AV2NbuiFte2"
      },
      "source": [
        "#3.Inspection des données"
      ]
    },
    {
      "cell_type": "markdown",
      "metadata": {
        "id": "cPW614Rdy79I"
      },
      "source": [
        "#3.1.Vue d'ensemble"
      ]
    },
    {
      "cell_type": "markdown",
      "metadata": {
        "id": "GE31fdNKFxvT"
      },
      "source": [
        "Informations générales sur le jeu de données"
      ]
    },
    {
      "cell_type": "code",
      "execution_count": null,
      "metadata": {
        "colab": {
          "base_uri": "https://localhost:8080/"
        },
        "id": "E010RxRqF4I9",
        "outputId": "6cd8c088-a92d-4ead-b0b2-535e35c8567b"
      },
      "outputs": [
        {
          "name": "stdout",
          "output_type": "stream",
          "text": [
            "<class 'pandas.core.frame.DataFrame'>\n",
            "RangeIndex: 5571 entries, 0 to 5570\n",
            "Data columns (total 2 columns):\n",
            " #   Column   Non-Null Count  Dtype \n",
            "---  ------   --------------  ----- \n",
            " 0   label    5571 non-null   object\n",
            " 1   message  5571 non-null   object\n",
            "dtypes: object(2)\n",
            "memory usage: 87.2+ KB\n"
          ]
        }
      ],
      "source": [
        "df.info()"
      ]
    },
    {
      "cell_type": "markdown",
      "metadata": {
        "id": "7mY6Nl27F7v3"
      },
      "source": [
        "Présence de données manquantes ?"
      ]
    },
    {
      "cell_type": "code",
      "execution_count": null,
      "metadata": {
        "colab": {
          "base_uri": "https://localhost:8080/"
        },
        "id": "ur_xMycFGBKA",
        "outputId": "a48990be-f8c3-487d-de31-08d72c286688"
      },
      "outputs": [
        {
          "data": {
            "text/plain": [
              "label      0\n",
              "message    0\n",
              "dtype: int64"
            ]
          },
          "execution_count": 4,
          "metadata": {},
          "output_type": "execute_result"
        }
      ],
      "source": [
        "df.isna().sum()"
      ]
    },
    {
      "cell_type": "markdown",
      "metadata": {
        "id": "3N_81NcJGHUQ"
      },
      "source": [
        "Répartition des labels Spam / Ham"
      ]
    },
    {
      "cell_type": "code",
      "execution_count": null,
      "metadata": {
        "colab": {
          "base_uri": "https://localhost:8080/"
        },
        "id": "02ETWqglGNpQ",
        "outputId": "b8fc70f4-91e6-40d7-e040-001f6406e3ff"
      },
      "outputs": [
        {
          "data": {
            "text/plain": [
              "ham     0.865913\n",
              "spam    0.134087\n",
              "Name: label, dtype: float64"
            ]
          },
          "execution_count": 5,
          "metadata": {},
          "output_type": "execute_result"
        }
      ],
      "source": [
        "df['label'].value_counts(normalize=True)"
      ]
    },
    {
      "cell_type": "markdown",
      "metadata": {
        "id": "Mmu13ewUw51P"
      },
      "source": [
        "**Info :** il sera nécessaire de respecter ces proportions dans l'étape de train-test-split."
      ]
    },
    {
      "cell_type": "markdown",
      "metadata": {
        "id": "flnkZ9J4GmhJ"
      },
      "source": [
        "#3.2.Longueur des messages"
      ]
    },
    {
      "cell_type": "code",
      "execution_count": null,
      "metadata": {
        "colab": {
          "base_uri": "https://localhost:8080/"
        },
        "id": "3h9-BbI9GpBf",
        "outputId": "d654f8fe-44e8-46a6-eb40-384eae1f0c48"
      },
      "outputs": [
        {
          "data": {
            "text/plain": [
              "count    5571.000000\n",
              "mean       80.484473\n",
              "std        59.946894\n",
              "min         2.000000\n",
              "25%        36.000000\n",
              "50%        62.000000\n",
              "75%       122.000000\n",
              "max       910.000000\n",
              "Name: message, dtype: float64"
            ]
          },
          "execution_count": 6,
          "metadata": {},
          "output_type": "execute_result"
        }
      ],
      "source": [
        "df['message'].str.len().describe()"
      ]
    },
    {
      "cell_type": "code",
      "execution_count": null,
      "metadata": {
        "colab": {
          "base_uri": "https://localhost:8080/",
          "height": 206
        },
        "id": "qVEVYK7btqqb",
        "outputId": "f701f749-60c0-4ac2-8373-b1f3a55aa21d"
      },
      "outputs": [
        {
          "data": {
            "text/html": [
              "\n",
              "  <div id=\"df-5349b300-c023-447e-99c2-2c108c4322ee\" class=\"colab-df-container\">\n",
              "    <div>\n",
              "<style scoped>\n",
              "    .dataframe tbody tr th:only-of-type {\n",
              "        vertical-align: middle;\n",
              "    }\n",
              "\n",
              "    .dataframe tbody tr th {\n",
              "        vertical-align: top;\n",
              "    }\n",
              "\n",
              "    .dataframe thead th {\n",
              "        text-align: right;\n",
              "    }\n",
              "</style>\n",
              "<table border=\"1\" class=\"dataframe\">\n",
              "  <thead>\n",
              "    <tr style=\"text-align: right;\">\n",
              "      <th></th>\n",
              "      <th>label</th>\n",
              "      <th>message</th>\n",
              "      <th>length</th>\n",
              "    </tr>\n",
              "  </thead>\n",
              "  <tbody>\n",
              "    <tr>\n",
              "      <th>0</th>\n",
              "      <td>ham</td>\n",
              "      <td>Ok lar... Joking wif u oni...</td>\n",
              "      <td>29</td>\n",
              "    </tr>\n",
              "    <tr>\n",
              "      <th>1</th>\n",
              "      <td>spam</td>\n",
              "      <td>Free entry in 2 a wkly comp to win FA Cup fina...</td>\n",
              "      <td>155</td>\n",
              "    </tr>\n",
              "    <tr>\n",
              "      <th>2</th>\n",
              "      <td>ham</td>\n",
              "      <td>U dun say so early hor... U c already then say...</td>\n",
              "      <td>49</td>\n",
              "    </tr>\n",
              "    <tr>\n",
              "      <th>3</th>\n",
              "      <td>ham</td>\n",
              "      <td>Nah I don't think he goes to usf, he lives aro...</td>\n",
              "      <td>61</td>\n",
              "    </tr>\n",
              "    <tr>\n",
              "      <th>4</th>\n",
              "      <td>spam</td>\n",
              "      <td>FreeMsg Hey there darling it's been 3 week's n...</td>\n",
              "      <td>147</td>\n",
              "    </tr>\n",
              "  </tbody>\n",
              "</table>\n",
              "</div>\n",
              "    <div class=\"colab-df-buttons\">\n",
              "\n",
              "  <div class=\"colab-df-container\">\n",
              "    <button class=\"colab-df-convert\" onclick=\"convertToInteractive('df-5349b300-c023-447e-99c2-2c108c4322ee')\"\n",
              "            title=\"Convert this dataframe to an interactive table.\"\n",
              "            style=\"display:none;\">\n",
              "\n",
              "  <svg xmlns=\"http://www.w3.org/2000/svg\" height=\"24px\" viewBox=\"0 -960 960 960\">\n",
              "    <path d=\"M120-120v-720h720v720H120Zm60-500h600v-160H180v160Zm220 220h160v-160H400v160Zm0 220h160v-160H400v160ZM180-400h160v-160H180v160Zm440 0h160v-160H620v160ZM180-180h160v-160H180v160Zm440 0h160v-160H620v160Z\"/>\n",
              "  </svg>\n",
              "    </button>\n",
              "\n",
              "  <style>\n",
              "    .colab-df-container {\n",
              "      display:flex;\n",
              "      gap: 12px;\n",
              "    }\n",
              "\n",
              "    .colab-df-convert {\n",
              "      background-color: #E8F0FE;\n",
              "      border: none;\n",
              "      border-radius: 50%;\n",
              "      cursor: pointer;\n",
              "      display: none;\n",
              "      fill: #1967D2;\n",
              "      height: 32px;\n",
              "      padding: 0 0 0 0;\n",
              "      width: 32px;\n",
              "    }\n",
              "\n",
              "    .colab-df-convert:hover {\n",
              "      background-color: #E2EBFA;\n",
              "      box-shadow: 0px 1px 2px rgba(60, 64, 67, 0.3), 0px 1px 3px 1px rgba(60, 64, 67, 0.15);\n",
              "      fill: #174EA6;\n",
              "    }\n",
              "\n",
              "    .colab-df-buttons div {\n",
              "      margin-bottom: 4px;\n",
              "    }\n",
              "\n",
              "    [theme=dark] .colab-df-convert {\n",
              "      background-color: #3B4455;\n",
              "      fill: #D2E3FC;\n",
              "    }\n",
              "\n",
              "    [theme=dark] .colab-df-convert:hover {\n",
              "      background-color: #434B5C;\n",
              "      box-shadow: 0px 1px 3px 1px rgba(0, 0, 0, 0.15);\n",
              "      filter: drop-shadow(0px 1px 2px rgba(0, 0, 0, 0.3));\n",
              "      fill: #FFFFFF;\n",
              "    }\n",
              "  </style>\n",
              "\n",
              "    <script>\n",
              "      const buttonEl =\n",
              "        document.querySelector('#df-5349b300-c023-447e-99c2-2c108c4322ee button.colab-df-convert');\n",
              "      buttonEl.style.display =\n",
              "        google.colab.kernel.accessAllowed ? 'block' : 'none';\n",
              "\n",
              "      async function convertToInteractive(key) {\n",
              "        const element = document.querySelector('#df-5349b300-c023-447e-99c2-2c108c4322ee');\n",
              "        const dataTable =\n",
              "          await google.colab.kernel.invokeFunction('convertToInteractive',\n",
              "                                                    [key], {});\n",
              "        if (!dataTable) return;\n",
              "\n",
              "        const docLinkHtml = 'Like what you see? Visit the ' +\n",
              "          '<a target=\"_blank\" href=https://colab.research.google.com/notebooks/data_table.ipynb>data table notebook</a>'\n",
              "          + ' to learn more about interactive tables.';\n",
              "        element.innerHTML = '';\n",
              "        dataTable['output_type'] = 'display_data';\n",
              "        await google.colab.output.renderOutput(dataTable, element);\n",
              "        const docLink = document.createElement('div');\n",
              "        docLink.innerHTML = docLinkHtml;\n",
              "        element.appendChild(docLink);\n",
              "      }\n",
              "    </script>\n",
              "  </div>\n",
              "\n",
              "\n",
              "<div id=\"df-f8e4b806-d6cf-4a56-a079-2ed70e6564c5\">\n",
              "  <button class=\"colab-df-quickchart\" onclick=\"quickchart('df-f8e4b806-d6cf-4a56-a079-2ed70e6564c5')\"\n",
              "            title=\"Suggest charts\"\n",
              "            style=\"display:none;\">\n",
              "\n",
              "<svg xmlns=\"http://www.w3.org/2000/svg\" height=\"24px\"viewBox=\"0 0 24 24\"\n",
              "     width=\"24px\">\n",
              "    <g>\n",
              "        <path d=\"M19 3H5c-1.1 0-2 .9-2 2v14c0 1.1.9 2 2 2h14c1.1 0 2-.9 2-2V5c0-1.1-.9-2-2-2zM9 17H7v-7h2v7zm4 0h-2V7h2v10zm4 0h-2v-4h2v4z\"/>\n",
              "    </g>\n",
              "</svg>\n",
              "  </button>\n",
              "\n",
              "<style>\n",
              "  .colab-df-quickchart {\n",
              "      --bg-color: #E8F0FE;\n",
              "      --fill-color: #1967D2;\n",
              "      --hover-bg-color: #E2EBFA;\n",
              "      --hover-fill-color: #174EA6;\n",
              "      --disabled-fill-color: #AAA;\n",
              "      --disabled-bg-color: #DDD;\n",
              "  }\n",
              "\n",
              "  [theme=dark] .colab-df-quickchart {\n",
              "      --bg-color: #3B4455;\n",
              "      --fill-color: #D2E3FC;\n",
              "      --hover-bg-color: #434B5C;\n",
              "      --hover-fill-color: #FFFFFF;\n",
              "      --disabled-bg-color: #3B4455;\n",
              "      --disabled-fill-color: #666;\n",
              "  }\n",
              "\n",
              "  .colab-df-quickchart {\n",
              "    background-color: var(--bg-color);\n",
              "    border: none;\n",
              "    border-radius: 50%;\n",
              "    cursor: pointer;\n",
              "    display: none;\n",
              "    fill: var(--fill-color);\n",
              "    height: 32px;\n",
              "    padding: 0;\n",
              "    width: 32px;\n",
              "  }\n",
              "\n",
              "  .colab-df-quickchart:hover {\n",
              "    background-color: var(--hover-bg-color);\n",
              "    box-shadow: 0 1px 2px rgba(60, 64, 67, 0.3), 0 1px 3px 1px rgba(60, 64, 67, 0.15);\n",
              "    fill: var(--button-hover-fill-color);\n",
              "  }\n",
              "\n",
              "  .colab-df-quickchart-complete:disabled,\n",
              "  .colab-df-quickchart-complete:disabled:hover {\n",
              "    background-color: var(--disabled-bg-color);\n",
              "    fill: var(--disabled-fill-color);\n",
              "    box-shadow: none;\n",
              "  }\n",
              "\n",
              "  .colab-df-spinner {\n",
              "    border: 2px solid var(--fill-color);\n",
              "    border-color: transparent;\n",
              "    border-bottom-color: var(--fill-color);\n",
              "    animation:\n",
              "      spin 1s steps(1) infinite;\n",
              "  }\n",
              "\n",
              "  @keyframes spin {\n",
              "    0% {\n",
              "      border-color: transparent;\n",
              "      border-bottom-color: var(--fill-color);\n",
              "      border-left-color: var(--fill-color);\n",
              "    }\n",
              "    20% {\n",
              "      border-color: transparent;\n",
              "      border-left-color: var(--fill-color);\n",
              "      border-top-color: var(--fill-color);\n",
              "    }\n",
              "    30% {\n",
              "      border-color: transparent;\n",
              "      border-left-color: var(--fill-color);\n",
              "      border-top-color: var(--fill-color);\n",
              "      border-right-color: var(--fill-color);\n",
              "    }\n",
              "    40% {\n",
              "      border-color: transparent;\n",
              "      border-right-color: var(--fill-color);\n",
              "      border-top-color: var(--fill-color);\n",
              "    }\n",
              "    60% {\n",
              "      border-color: transparent;\n",
              "      border-right-color: var(--fill-color);\n",
              "    }\n",
              "    80% {\n",
              "      border-color: transparent;\n",
              "      border-right-color: var(--fill-color);\n",
              "      border-bottom-color: var(--fill-color);\n",
              "    }\n",
              "    90% {\n",
              "      border-color: transparent;\n",
              "      border-bottom-color: var(--fill-color);\n",
              "    }\n",
              "  }\n",
              "</style>\n",
              "\n",
              "  <script>\n",
              "    async function quickchart(key) {\n",
              "      const quickchartButtonEl =\n",
              "        document.querySelector('#' + key + ' button');\n",
              "      quickchartButtonEl.disabled = true;  // To prevent multiple clicks.\n",
              "      quickchartButtonEl.classList.add('colab-df-spinner');\n",
              "      try {\n",
              "        const charts = await google.colab.kernel.invokeFunction(\n",
              "            'suggestCharts', [key], {});\n",
              "      } catch (error) {\n",
              "        console.error('Error during call to suggestCharts:', error);\n",
              "      }\n",
              "      quickchartButtonEl.classList.remove('colab-df-spinner');\n",
              "      quickchartButtonEl.classList.add('colab-df-quickchart-complete');\n",
              "    }\n",
              "    (() => {\n",
              "      let quickchartButtonEl =\n",
              "        document.querySelector('#df-f8e4b806-d6cf-4a56-a079-2ed70e6564c5 button');\n",
              "      quickchartButtonEl.style.display =\n",
              "        google.colab.kernel.accessAllowed ? 'block' : 'none';\n",
              "    })();\n",
              "  </script>\n",
              "</div>\n",
              "    </div>\n",
              "  </div>\n"
            ],
            "text/plain": [
              "  label                                            message  length\n",
              "0   ham                      Ok lar... Joking wif u oni...      29\n",
              "1  spam  Free entry in 2 a wkly comp to win FA Cup fina...     155\n",
              "2   ham  U dun say so early hor... U c already then say...      49\n",
              "3   ham  Nah I don't think he goes to usf, he lives aro...      61\n",
              "4  spam  FreeMsg Hey there darling it's been 3 week's n...     147"
            ]
          },
          "execution_count": 7,
          "metadata": {},
          "output_type": "execute_result"
        }
      ],
      "source": [
        "# Intégration d'une variable longueur de message dans le dataset\n",
        "df['length'] = df['message'].str.len()\n",
        "df.head()"
      ]
    },
    {
      "cell_type": "code",
      "execution_count": null,
      "metadata": {
        "colab": {
          "base_uri": "https://localhost:8080/",
          "height": 143
        },
        "id": "S0Wp-lvotGdB",
        "outputId": "a382e711-b72c-42e1-d64d-7f814432df91"
      },
      "outputs": [
        {
          "data": {
            "text/html": [
              "\n",
              "  <div id=\"df-543c2fb4-8735-4ab4-b364-490057a38292\" class=\"colab-df-container\">\n",
              "    <div>\n",
              "<style scoped>\n",
              "    .dataframe tbody tr th:only-of-type {\n",
              "        vertical-align: middle;\n",
              "    }\n",
              "\n",
              "    .dataframe tbody tr th {\n",
              "        vertical-align: top;\n",
              "    }\n",
              "\n",
              "    .dataframe thead th {\n",
              "        text-align: right;\n",
              "    }\n",
              "</style>\n",
              "<table border=\"1\" class=\"dataframe\">\n",
              "  <thead>\n",
              "    <tr style=\"text-align: right;\">\n",
              "      <th></th>\n",
              "      <th>mean</th>\n",
              "      <th>std</th>\n",
              "    </tr>\n",
              "    <tr>\n",
              "      <th>label</th>\n",
              "      <th></th>\n",
              "      <th></th>\n",
              "    </tr>\n",
              "  </thead>\n",
              "  <tbody>\n",
              "    <tr>\n",
              "      <th>ham</th>\n",
              "      <td>71.474295</td>\n",
              "      <td>58.443940</td>\n",
              "    </tr>\n",
              "    <tr>\n",
              "      <th>spam</th>\n",
              "      <td>138.670683</td>\n",
              "      <td>28.873603</td>\n",
              "    </tr>\n",
              "  </tbody>\n",
              "</table>\n",
              "</div>\n",
              "    <div class=\"colab-df-buttons\">\n",
              "\n",
              "  <div class=\"colab-df-container\">\n",
              "    <button class=\"colab-df-convert\" onclick=\"convertToInteractive('df-543c2fb4-8735-4ab4-b364-490057a38292')\"\n",
              "            title=\"Convert this dataframe to an interactive table.\"\n",
              "            style=\"display:none;\">\n",
              "\n",
              "  <svg xmlns=\"http://www.w3.org/2000/svg\" height=\"24px\" viewBox=\"0 -960 960 960\">\n",
              "    <path d=\"M120-120v-720h720v720H120Zm60-500h600v-160H180v160Zm220 220h160v-160H400v160Zm0 220h160v-160H400v160ZM180-400h160v-160H180v160Zm440 0h160v-160H620v160ZM180-180h160v-160H180v160Zm440 0h160v-160H620v160Z\"/>\n",
              "  </svg>\n",
              "    </button>\n",
              "\n",
              "  <style>\n",
              "    .colab-df-container {\n",
              "      display:flex;\n",
              "      gap: 12px;\n",
              "    }\n",
              "\n",
              "    .colab-df-convert {\n",
              "      background-color: #E8F0FE;\n",
              "      border: none;\n",
              "      border-radius: 50%;\n",
              "      cursor: pointer;\n",
              "      display: none;\n",
              "      fill: #1967D2;\n",
              "      height: 32px;\n",
              "      padding: 0 0 0 0;\n",
              "      width: 32px;\n",
              "    }\n",
              "\n",
              "    .colab-df-convert:hover {\n",
              "      background-color: #E2EBFA;\n",
              "      box-shadow: 0px 1px 2px rgba(60, 64, 67, 0.3), 0px 1px 3px 1px rgba(60, 64, 67, 0.15);\n",
              "      fill: #174EA6;\n",
              "    }\n",
              "\n",
              "    .colab-df-buttons div {\n",
              "      margin-bottom: 4px;\n",
              "    }\n",
              "\n",
              "    [theme=dark] .colab-df-convert {\n",
              "      background-color: #3B4455;\n",
              "      fill: #D2E3FC;\n",
              "    }\n",
              "\n",
              "    [theme=dark] .colab-df-convert:hover {\n",
              "      background-color: #434B5C;\n",
              "      box-shadow: 0px 1px 3px 1px rgba(0, 0, 0, 0.15);\n",
              "      filter: drop-shadow(0px 1px 2px rgba(0, 0, 0, 0.3));\n",
              "      fill: #FFFFFF;\n",
              "    }\n",
              "  </style>\n",
              "\n",
              "    <script>\n",
              "      const buttonEl =\n",
              "        document.querySelector('#df-543c2fb4-8735-4ab4-b364-490057a38292 button.colab-df-convert');\n",
              "      buttonEl.style.display =\n",
              "        google.colab.kernel.accessAllowed ? 'block' : 'none';\n",
              "\n",
              "      async function convertToInteractive(key) {\n",
              "        const element = document.querySelector('#df-543c2fb4-8735-4ab4-b364-490057a38292');\n",
              "        const dataTable =\n",
              "          await google.colab.kernel.invokeFunction('convertToInteractive',\n",
              "                                                    [key], {});\n",
              "        if (!dataTable) return;\n",
              "\n",
              "        const docLinkHtml = 'Like what you see? Visit the ' +\n",
              "          '<a target=\"_blank\" href=https://colab.research.google.com/notebooks/data_table.ipynb>data table notebook</a>'\n",
              "          + ' to learn more about interactive tables.';\n",
              "        element.innerHTML = '';\n",
              "        dataTable['output_type'] = 'display_data';\n",
              "        await google.colab.output.renderOutput(dataTable, element);\n",
              "        const docLink = document.createElement('div');\n",
              "        docLink.innerHTML = docLinkHtml;\n",
              "        element.appendChild(docLink);\n",
              "      }\n",
              "    </script>\n",
              "  </div>\n",
              "\n",
              "\n",
              "<div id=\"df-900cf09b-205d-49c6-b31c-4645ae6f3e9e\">\n",
              "  <button class=\"colab-df-quickchart\" onclick=\"quickchart('df-900cf09b-205d-49c6-b31c-4645ae6f3e9e')\"\n",
              "            title=\"Suggest charts\"\n",
              "            style=\"display:none;\">\n",
              "\n",
              "<svg xmlns=\"http://www.w3.org/2000/svg\" height=\"24px\"viewBox=\"0 0 24 24\"\n",
              "     width=\"24px\">\n",
              "    <g>\n",
              "        <path d=\"M19 3H5c-1.1 0-2 .9-2 2v14c0 1.1.9 2 2 2h14c1.1 0 2-.9 2-2V5c0-1.1-.9-2-2-2zM9 17H7v-7h2v7zm4 0h-2V7h2v10zm4 0h-2v-4h2v4z\"/>\n",
              "    </g>\n",
              "</svg>\n",
              "  </button>\n",
              "\n",
              "<style>\n",
              "  .colab-df-quickchart {\n",
              "      --bg-color: #E8F0FE;\n",
              "      --fill-color: #1967D2;\n",
              "      --hover-bg-color: #E2EBFA;\n",
              "      --hover-fill-color: #174EA6;\n",
              "      --disabled-fill-color: #AAA;\n",
              "      --disabled-bg-color: #DDD;\n",
              "  }\n",
              "\n",
              "  [theme=dark] .colab-df-quickchart {\n",
              "      --bg-color: #3B4455;\n",
              "      --fill-color: #D2E3FC;\n",
              "      --hover-bg-color: #434B5C;\n",
              "      --hover-fill-color: #FFFFFF;\n",
              "      --disabled-bg-color: #3B4455;\n",
              "      --disabled-fill-color: #666;\n",
              "  }\n",
              "\n",
              "  .colab-df-quickchart {\n",
              "    background-color: var(--bg-color);\n",
              "    border: none;\n",
              "    border-radius: 50%;\n",
              "    cursor: pointer;\n",
              "    display: none;\n",
              "    fill: var(--fill-color);\n",
              "    height: 32px;\n",
              "    padding: 0;\n",
              "    width: 32px;\n",
              "  }\n",
              "\n",
              "  .colab-df-quickchart:hover {\n",
              "    background-color: var(--hover-bg-color);\n",
              "    box-shadow: 0 1px 2px rgba(60, 64, 67, 0.3), 0 1px 3px 1px rgba(60, 64, 67, 0.15);\n",
              "    fill: var(--button-hover-fill-color);\n",
              "  }\n",
              "\n",
              "  .colab-df-quickchart-complete:disabled,\n",
              "  .colab-df-quickchart-complete:disabled:hover {\n",
              "    background-color: var(--disabled-bg-color);\n",
              "    fill: var(--disabled-fill-color);\n",
              "    box-shadow: none;\n",
              "  }\n",
              "\n",
              "  .colab-df-spinner {\n",
              "    border: 2px solid var(--fill-color);\n",
              "    border-color: transparent;\n",
              "    border-bottom-color: var(--fill-color);\n",
              "    animation:\n",
              "      spin 1s steps(1) infinite;\n",
              "  }\n",
              "\n",
              "  @keyframes spin {\n",
              "    0% {\n",
              "      border-color: transparent;\n",
              "      border-bottom-color: var(--fill-color);\n",
              "      border-left-color: var(--fill-color);\n",
              "    }\n",
              "    20% {\n",
              "      border-color: transparent;\n",
              "      border-left-color: var(--fill-color);\n",
              "      border-top-color: var(--fill-color);\n",
              "    }\n",
              "    30% {\n",
              "      border-color: transparent;\n",
              "      border-left-color: var(--fill-color);\n",
              "      border-top-color: var(--fill-color);\n",
              "      border-right-color: var(--fill-color);\n",
              "    }\n",
              "    40% {\n",
              "      border-color: transparent;\n",
              "      border-right-color: var(--fill-color);\n",
              "      border-top-color: var(--fill-color);\n",
              "    }\n",
              "    60% {\n",
              "      border-color: transparent;\n",
              "      border-right-color: var(--fill-color);\n",
              "    }\n",
              "    80% {\n",
              "      border-color: transparent;\n",
              "      border-right-color: var(--fill-color);\n",
              "      border-bottom-color: var(--fill-color);\n",
              "    }\n",
              "    90% {\n",
              "      border-color: transparent;\n",
              "      border-bottom-color: var(--fill-color);\n",
              "    }\n",
              "  }\n",
              "</style>\n",
              "\n",
              "  <script>\n",
              "    async function quickchart(key) {\n",
              "      const quickchartButtonEl =\n",
              "        document.querySelector('#' + key + ' button');\n",
              "      quickchartButtonEl.disabled = true;  // To prevent multiple clicks.\n",
              "      quickchartButtonEl.classList.add('colab-df-spinner');\n",
              "      try {\n",
              "        const charts = await google.colab.kernel.invokeFunction(\n",
              "            'suggestCharts', [key], {});\n",
              "      } catch (error) {\n",
              "        console.error('Error during call to suggestCharts:', error);\n",
              "      }\n",
              "      quickchartButtonEl.classList.remove('colab-df-spinner');\n",
              "      quickchartButtonEl.classList.add('colab-df-quickchart-complete');\n",
              "    }\n",
              "    (() => {\n",
              "      let quickchartButtonEl =\n",
              "        document.querySelector('#df-900cf09b-205d-49c6-b31c-4645ae6f3e9e button');\n",
              "      quickchartButtonEl.style.display =\n",
              "        google.colab.kernel.accessAllowed ? 'block' : 'none';\n",
              "    })();\n",
              "  </script>\n",
              "</div>\n",
              "    </div>\n",
              "  </div>\n"
            ],
            "text/plain": [
              "             mean        std\n",
              "label                       \n",
              "ham     71.474295  58.443940\n",
              "spam   138.670683  28.873603"
            ]
          },
          "execution_count": 11,
          "metadata": {},
          "output_type": "execute_result"
        }
      ],
      "source": [
        "# Evaluation de spam/ham sur la longueur moyenne des messages\n",
        "df.groupby(by=['label'])['length'].agg(['mean', 'std'])"
      ]
    },
    {
      "cell_type": "markdown",
      "metadata": {
        "id": "x4wHjwxZzHRz"
      },
      "source": [
        "#3.3.Nombre de mots"
      ]
    },
    {
      "cell_type": "code",
      "execution_count": null,
      "metadata": {
        "colab": {
          "base_uri": "https://localhost:8080/",
          "height": 143
        },
        "id": "CWCewKVNzNuW",
        "outputId": "dd012ce8-6a06-4047-c9aa-45108eb86dbf"
      },
      "outputs": [
        {
          "data": {
            "text/html": [
              "\n",
              "  <div id=\"df-0f983a84-dbbe-428c-bb82-06bbd5c821f2\" class=\"colab-df-container\">\n",
              "    <div>\n",
              "<style scoped>\n",
              "    .dataframe tbody tr th:only-of-type {\n",
              "        vertical-align: middle;\n",
              "    }\n",
              "\n",
              "    .dataframe tbody tr th {\n",
              "        vertical-align: top;\n",
              "    }\n",
              "\n",
              "    .dataframe thead th {\n",
              "        text-align: right;\n",
              "    }\n",
              "</style>\n",
              "<table border=\"1\" class=\"dataframe\">\n",
              "  <thead>\n",
              "    <tr style=\"text-align: right;\">\n",
              "      <th></th>\n",
              "      <th>mean</th>\n",
              "      <th>std</th>\n",
              "    </tr>\n",
              "    <tr>\n",
              "      <th>label</th>\n",
              "      <th></th>\n",
              "      <th></th>\n",
              "    </tr>\n",
              "  </thead>\n",
              "  <tbody>\n",
              "    <tr>\n",
              "      <th>ham</th>\n",
              "      <td>14.432007</td>\n",
              "      <td>11.629230</td>\n",
              "    </tr>\n",
              "    <tr>\n",
              "      <th>spam</th>\n",
              "      <td>23.953146</td>\n",
              "      <td>5.794904</td>\n",
              "    </tr>\n",
              "  </tbody>\n",
              "</table>\n",
              "</div>\n",
              "    <div class=\"colab-df-buttons\">\n",
              "\n",
              "  <div class=\"colab-df-container\">\n",
              "    <button class=\"colab-df-convert\" onclick=\"convertToInteractive('df-0f983a84-dbbe-428c-bb82-06bbd5c821f2')\"\n",
              "            title=\"Convert this dataframe to an interactive table.\"\n",
              "            style=\"display:none;\">\n",
              "\n",
              "  <svg xmlns=\"http://www.w3.org/2000/svg\" height=\"24px\" viewBox=\"0 -960 960 960\">\n",
              "    <path d=\"M120-120v-720h720v720H120Zm60-500h600v-160H180v160Zm220 220h160v-160H400v160Zm0 220h160v-160H400v160ZM180-400h160v-160H180v160Zm440 0h160v-160H620v160ZM180-180h160v-160H180v160Zm440 0h160v-160H620v160Z\"/>\n",
              "  </svg>\n",
              "    </button>\n",
              "\n",
              "  <style>\n",
              "    .colab-df-container {\n",
              "      display:flex;\n",
              "      gap: 12px;\n",
              "    }\n",
              "\n",
              "    .colab-df-convert {\n",
              "      background-color: #E8F0FE;\n",
              "      border: none;\n",
              "      border-radius: 50%;\n",
              "      cursor: pointer;\n",
              "      display: none;\n",
              "      fill: #1967D2;\n",
              "      height: 32px;\n",
              "      padding: 0 0 0 0;\n",
              "      width: 32px;\n",
              "    }\n",
              "\n",
              "    .colab-df-convert:hover {\n",
              "      background-color: #E2EBFA;\n",
              "      box-shadow: 0px 1px 2px rgba(60, 64, 67, 0.3), 0px 1px 3px 1px rgba(60, 64, 67, 0.15);\n",
              "      fill: #174EA6;\n",
              "    }\n",
              "\n",
              "    .colab-df-buttons div {\n",
              "      margin-bottom: 4px;\n",
              "    }\n",
              "\n",
              "    [theme=dark] .colab-df-convert {\n",
              "      background-color: #3B4455;\n",
              "      fill: #D2E3FC;\n",
              "    }\n",
              "\n",
              "    [theme=dark] .colab-df-convert:hover {\n",
              "      background-color: #434B5C;\n",
              "      box-shadow: 0px 1px 3px 1px rgba(0, 0, 0, 0.15);\n",
              "      filter: drop-shadow(0px 1px 2px rgba(0, 0, 0, 0.3));\n",
              "      fill: #FFFFFF;\n",
              "    }\n",
              "  </style>\n",
              "\n",
              "    <script>\n",
              "      const buttonEl =\n",
              "        document.querySelector('#df-0f983a84-dbbe-428c-bb82-06bbd5c821f2 button.colab-df-convert');\n",
              "      buttonEl.style.display =\n",
              "        google.colab.kernel.accessAllowed ? 'block' : 'none';\n",
              "\n",
              "      async function convertToInteractive(key) {\n",
              "        const element = document.querySelector('#df-0f983a84-dbbe-428c-bb82-06bbd5c821f2');\n",
              "        const dataTable =\n",
              "          await google.colab.kernel.invokeFunction('convertToInteractive',\n",
              "                                                    [key], {});\n",
              "        if (!dataTable) return;\n",
              "\n",
              "        const docLinkHtml = 'Like what you see? Visit the ' +\n",
              "          '<a target=\"_blank\" href=https://colab.research.google.com/notebooks/data_table.ipynb>data table notebook</a>'\n",
              "          + ' to learn more about interactive tables.';\n",
              "        element.innerHTML = '';\n",
              "        dataTable['output_type'] = 'display_data';\n",
              "        await google.colab.output.renderOutput(dataTable, element);\n",
              "        const docLink = document.createElement('div');\n",
              "        docLink.innerHTML = docLinkHtml;\n",
              "        element.appendChild(docLink);\n",
              "      }\n",
              "    </script>\n",
              "  </div>\n",
              "\n",
              "\n",
              "<div id=\"df-f4793867-4fff-4150-ad6d-2ad17ec26722\">\n",
              "  <button class=\"colab-df-quickchart\" onclick=\"quickchart('df-f4793867-4fff-4150-ad6d-2ad17ec26722')\"\n",
              "            title=\"Suggest charts\"\n",
              "            style=\"display:none;\">\n",
              "\n",
              "<svg xmlns=\"http://www.w3.org/2000/svg\" height=\"24px\"viewBox=\"0 0 24 24\"\n",
              "     width=\"24px\">\n",
              "    <g>\n",
              "        <path d=\"M19 3H5c-1.1 0-2 .9-2 2v14c0 1.1.9 2 2 2h14c1.1 0 2-.9 2-2V5c0-1.1-.9-2-2-2zM9 17H7v-7h2v7zm4 0h-2V7h2v10zm4 0h-2v-4h2v4z\"/>\n",
              "    </g>\n",
              "</svg>\n",
              "  </button>\n",
              "\n",
              "<style>\n",
              "  .colab-df-quickchart {\n",
              "      --bg-color: #E8F0FE;\n",
              "      --fill-color: #1967D2;\n",
              "      --hover-bg-color: #E2EBFA;\n",
              "      --hover-fill-color: #174EA6;\n",
              "      --disabled-fill-color: #AAA;\n",
              "      --disabled-bg-color: #DDD;\n",
              "  }\n",
              "\n",
              "  [theme=dark] .colab-df-quickchart {\n",
              "      --bg-color: #3B4455;\n",
              "      --fill-color: #D2E3FC;\n",
              "      --hover-bg-color: #434B5C;\n",
              "      --hover-fill-color: #FFFFFF;\n",
              "      --disabled-bg-color: #3B4455;\n",
              "      --disabled-fill-color: #666;\n",
              "  }\n",
              "\n",
              "  .colab-df-quickchart {\n",
              "    background-color: var(--bg-color);\n",
              "    border: none;\n",
              "    border-radius: 50%;\n",
              "    cursor: pointer;\n",
              "    display: none;\n",
              "    fill: var(--fill-color);\n",
              "    height: 32px;\n",
              "    padding: 0;\n",
              "    width: 32px;\n",
              "  }\n",
              "\n",
              "  .colab-df-quickchart:hover {\n",
              "    background-color: var(--hover-bg-color);\n",
              "    box-shadow: 0 1px 2px rgba(60, 64, 67, 0.3), 0 1px 3px 1px rgba(60, 64, 67, 0.15);\n",
              "    fill: var(--button-hover-fill-color);\n",
              "  }\n",
              "\n",
              "  .colab-df-quickchart-complete:disabled,\n",
              "  .colab-df-quickchart-complete:disabled:hover {\n",
              "    background-color: var(--disabled-bg-color);\n",
              "    fill: var(--disabled-fill-color);\n",
              "    box-shadow: none;\n",
              "  }\n",
              "\n",
              "  .colab-df-spinner {\n",
              "    border: 2px solid var(--fill-color);\n",
              "    border-color: transparent;\n",
              "    border-bottom-color: var(--fill-color);\n",
              "    animation:\n",
              "      spin 1s steps(1) infinite;\n",
              "  }\n",
              "\n",
              "  @keyframes spin {\n",
              "    0% {\n",
              "      border-color: transparent;\n",
              "      border-bottom-color: var(--fill-color);\n",
              "      border-left-color: var(--fill-color);\n",
              "    }\n",
              "    20% {\n",
              "      border-color: transparent;\n",
              "      border-left-color: var(--fill-color);\n",
              "      border-top-color: var(--fill-color);\n",
              "    }\n",
              "    30% {\n",
              "      border-color: transparent;\n",
              "      border-left-color: var(--fill-color);\n",
              "      border-top-color: var(--fill-color);\n",
              "      border-right-color: var(--fill-color);\n",
              "    }\n",
              "    40% {\n",
              "      border-color: transparent;\n",
              "      border-right-color: var(--fill-color);\n",
              "      border-top-color: var(--fill-color);\n",
              "    }\n",
              "    60% {\n",
              "      border-color: transparent;\n",
              "      border-right-color: var(--fill-color);\n",
              "    }\n",
              "    80% {\n",
              "      border-color: transparent;\n",
              "      border-right-color: var(--fill-color);\n",
              "      border-bottom-color: var(--fill-color);\n",
              "    }\n",
              "    90% {\n",
              "      border-color: transparent;\n",
              "      border-bottom-color: var(--fill-color);\n",
              "    }\n",
              "  }\n",
              "</style>\n",
              "\n",
              "  <script>\n",
              "    async function quickchart(key) {\n",
              "      const quickchartButtonEl =\n",
              "        document.querySelector('#' + key + ' button');\n",
              "      quickchartButtonEl.disabled = true;  // To prevent multiple clicks.\n",
              "      quickchartButtonEl.classList.add('colab-df-spinner');\n",
              "      try {\n",
              "        const charts = await google.colab.kernel.invokeFunction(\n",
              "            'suggestCharts', [key], {});\n",
              "      } catch (error) {\n",
              "        console.error('Error during call to suggestCharts:', error);\n",
              "      }\n",
              "      quickchartButtonEl.classList.remove('colab-df-spinner');\n",
              "      quickchartButtonEl.classList.add('colab-df-quickchart-complete');\n",
              "    }\n",
              "    (() => {\n",
              "      let quickchartButtonEl =\n",
              "        document.querySelector('#df-f4793867-4fff-4150-ad6d-2ad17ec26722 button');\n",
              "      quickchartButtonEl.style.display =\n",
              "        google.colab.kernel.accessAllowed ? 'block' : 'none';\n",
              "    })();\n",
              "  </script>\n",
              "</div>\n",
              "    </div>\n",
              "  </div>\n"
            ],
            "text/plain": [
              "            mean        std\n",
              "label                      \n",
              "ham    14.432007  11.629230\n",
              "spam   23.953146   5.794904"
            ]
          },
          "execution_count": 13,
          "metadata": {},
          "output_type": "execute_result"
        }
      ],
      "source": [
        "# Intégration d'une variable nombre de mots dans le dataset\n",
        "df['word_count'] = df['message'].str.count(' ') + 1\n",
        "\n",
        "# Evaluation de spam/ham sur le nombre de mots dans les messages\n",
        "df.groupby(by=['label'])['word_count'].agg(['mean', 'std'])"
      ]
    },
    {
      "cell_type": "markdown",
      "metadata": {
        "id": "kLf91bE3IluB"
      },
      "source": [
        "#4.Preprocessing des messages"
      ]
    },
    {
      "cell_type": "markdown",
      "metadata": {
        "id": "w9EqLa4UIqVM"
      },
      "source": [
        "##4.1 Vectorisation\n",
        "Cette méthode consiste à convertir la collection de messages en une matrice de comptage des tokens (i.e. mots ou caractères du corpus).  \n",
        "Cette implémentation produit une représentation creuse (sparse) des comptages à l'aide de scipy.sparse.csr_matrix.  \n",
        "Dans cette méthode un certain nombre d'éléments sont paramétrables, comme par exemple :\n",
        "- `stop_words`,\n",
        "- `ngram_range`,\n",
        "- `max_df`,\n",
        "- `max_features`,\n",
        "- etc.  \n",
        "\n",
        "Plus d'infos sur sklearn [CountVectorizer()](https://scikit-learn.org/stable/modules/generated/sklearn.feature_extraction.text.CountVectorizer.html#)."
      ]
    },
    {
      "cell_type": "code",
      "execution_count": null,
      "metadata": {
        "colab": {
          "base_uri": "https://localhost:8080/"
        },
        "id": "E0PgsPvcIqoJ",
        "outputId": "3a9b6683-7ab8-4c1e-e702-6a19e726f19e"
      },
      "outputs": [
        {
          "name": "stdout",
          "output_type": "stream",
          "text": [
            "Messages : 0                        Ok lar... Joking wif u oni...\n",
            "1    Free entry in 2 a wkly comp to win FA Cup fina...\n",
            "2    U dun say so early hor... U c already then say...\n",
            "Name: message, dtype: object\n",
            "\n",
            "Features : ['08452810075over18' '2005' '21st' '87121' 'already' 'apply' 'comp' 'cup'\n",
            " 'dun' 'early' 'entry' 'fa' 'final' 'free' 'hor' 'in' 'joking' 'lar' 'may'\n",
            " 'ok' 'oni' 'question' 'rate' 'receive' 'say' 'so' 'std' 'text' 'then'\n",
            " 'tkts' 'to' 'txt' 'wif' 'win' 'wkly']\n",
            "\n",
            "Matrix : [[0 0 0 0 0 0 0 0 0 0 0 0 0 0 0 0 1 1 0 1 1 0 0 0 0 0 0 0 0 0 0 0 1 0 0]\n",
            " [1 1 1 1 0 1 1 1 0 0 2 2 1 1 0 1 0 0 1 0 0 1 1 1 0 0 1 1 0 1 3 1 0 1 1]\n",
            " [0 0 0 0 1 0 0 0 1 1 0 0 0 0 1 0 0 0 0 0 0 0 0 0 2 1 0 0 1 0 0 0 0 0 0]]\n"
          ]
        }
      ],
      "source": [
        "# Explication sur les 3 premiers messages\n",
        "vectorizer = CountVectorizer()\n",
        "test_count_vect = vectorizer.fit_transform(df['message'][0:3])\n",
        "\n",
        "print(\"Messages :\", df['message'][0:3])\n",
        "print(\"\\nFeatures :\", vectorizer.get_feature_names_out())\n",
        "print(\"\\nMatrix :\", test_count_vect.toarray())"
      ]
    },
    {
      "cell_type": "markdown",
      "metadata": {
        "id": "w1OkFly6Iu2P"
      },
      "source": [
        "##4.2 Transformation et vectorisation TF-IDF\n",
        "Le TF-IDF (de l'anglais term frequency-inverse document frequency) est une méthode de pondération souvent utilisée en recherche d'information et en particulier dans la fouille de textes ([Wikipedia](https://fr.wikipedia.org/wiki/TF-IDF)).  \n",
        "\n",
        "La méthode de sklearn `TfidfVectorizer()` consiste à convertir une collection de messagess en une matrice TF-IDF. Cette méthode est équivalente à `CountVectorizer()` suivi de `TfidfTransformer()`.  \n",
        "\n",
        "Dans cette méthode un certain nombre d'éléments sont paramétrables, comme par exemple :\n",
        "- `stop_words`,\n",
        "- `ngram_range`,\n",
        "- `max_df`,\n",
        "- `max_features`,\n",
        "- etc.  \n",
        "\n",
        "Plus d'infos sur sklearn [TfidfVectorizer()](https://scikit-learn.org/stable/modules/generated/sklearn.feature_extraction.text.TfidfVectorizer.html#).\n"
      ]
    },
    {
      "cell_type": "code",
      "execution_count": null,
      "metadata": {
        "colab": {
          "base_uri": "https://localhost:8080/"
        },
        "id": "5cRpKiylIvKq",
        "outputId": "97a021f5-80dc-497c-a0eb-69600865b6fe"
      },
      "outputs": [
        {
          "name": "stdout",
          "output_type": "stream",
          "text": [
            "Messages : 0                        Ok lar... Joking wif u oni...\n",
            "1    Free entry in 2 a wkly comp to win FA Cup fina...\n",
            "2    U dun say so early hor... U c already then say...\n",
            "Name: message, dtype: object\n",
            "\n",
            "Features : ['08452810075over18' '2005' '21st' '87121' 'already' 'apply' 'comp' 'cup'\n",
            " 'dun' 'early' 'entry' 'fa' 'final' 'free' 'hor' 'in' 'joking' 'lar' 'may'\n",
            " 'ok' 'oni' 'question' 'rate' 'receive' 'say' 'so' 'std' 'text' 'then'\n",
            " 'tkts' 'to' 'txt' 'wif' 'win' 'wkly']\n",
            "\n",
            "Matrix : [[0.         0.         0.         0.         0.         0.\n",
            "  0.         0.         0.         0.         0.         0.\n",
            "  0.         0.         0.         0.         0.4472136  0.4472136\n",
            "  0.         0.4472136  0.4472136  0.         0.         0.\n",
            "  0.         0.         0.         0.         0.         0.\n",
            "  0.         0.         0.4472136  0.         0.        ]\n",
            " [0.16439899 0.16439899 0.16439899 0.16439899 0.         0.16439899\n",
            "  0.16439899 0.16439899 0.         0.         0.32879797 0.32879797\n",
            "  0.16439899 0.16439899 0.         0.16439899 0.         0.\n",
            "  0.16439899 0.         0.         0.16439899 0.16439899 0.16439899\n",
            "  0.         0.         0.16439899 0.16439899 0.         0.16439899\n",
            "  0.49319696 0.16439899 0.         0.16439899 0.16439899]\n",
            " [0.         0.         0.         0.         0.31622777 0.\n",
            "  0.         0.         0.31622777 0.31622777 0.         0.\n",
            "  0.         0.         0.31622777 0.         0.         0.\n",
            "  0.         0.         0.         0.         0.         0.\n",
            "  0.63245553 0.31622777 0.         0.         0.31622777 0.\n",
            "  0.         0.         0.         0.         0.        ]]\n"
          ]
        }
      ],
      "source": [
        "# Explication sur les 3 premiers messages\n",
        "vectorizer = TfidfVectorizer()\n",
        "test_count_vect = vectorizer.fit_transform(df['message'][0:3])\n",
        "\n",
        "print(\"Messages :\", df['message'][0:3])\n",
        "print(\"\\nFeatures :\", vectorizer.get_feature_names_out())\n",
        "print(\"\\nMatrix :\", test_count_vect.toarray())"
      ]
    },
    {
      "cell_type": "markdown",
      "metadata": {
        "id": "QeGlRSyCDeWr"
      },
      "source": [
        "#5.Partition `train-test-split`"
      ]
    },
    {
      "cell_type": "markdown",
      "metadata": {
        "id": "9fjblwc_DfNo"
      },
      "source": [
        "Dans la description des données, nous avons remarqué que la variable cible \"Spam / Ham\" était déséquilibrée.  \n",
        "Nous devons donc adapter le train-test-split en conséquence en spécifiant le paramètre `stratify`."
      ]
    },
    {
      "cell_type": "code",
      "execution_count": null,
      "metadata": {
        "colab": {
          "base_uri": "https://localhost:8080/"
        },
        "id": "HAEiQ24bDgYN",
        "outputId": "9a35eedd-d966-422c-97c4-213bc9ebc7cf"
      },
      "outputs": [
        {
          "name": "stdout",
          "output_type": "stream",
          "text": [
            "Taille de X_rain (4178, 3) et y_train (4178,)\n",
            "Taille de X test (1393, 3) et y_test (1393,)\n"
          ]
        }
      ],
      "source": [
        "y = df['label']\n",
        "X = df.drop('label', axis=1)\n",
        "X_train, X_test, y_train, y_test = train_test_split(X, y, test_size=0.25, random_state=42, stratify=y)\n",
        "\n",
        "print(f'Taille de X_rain {X_train.shape} et y_train {y_train.shape}')\n",
        "print(f'Taille de X test {X_test.shape} et y_test {y_test.shape}')"
      ]
    },
    {
      "cell_type": "markdown",
      "metadata": {
        "id": "Lopz41kGEG4H"
      },
      "source": [
        "Vérifions que la méthode de stratification a bien fonctionné."
      ]
    },
    {
      "cell_type": "code",
      "execution_count": null,
      "metadata": {
        "colab": {
          "base_uri": "https://localhost:8080/"
        },
        "id": "rnHVb9kyEIEJ",
        "outputId": "67976a2b-3d95-4497-9a42-d1b706ccfb9b"
      },
      "outputs": [
        {
          "name": "stdout",
          "output_type": "stream",
          "text": [
            "Répartition of `Spam/Ham` dans y_train :\n",
            "ham     0.865965\n",
            "spam    0.134035\n",
            "Name: label, dtype: float64\n",
            "Répartition of `Spam/Ham` dans y_test :\n",
            "ham     0.865757\n",
            "spam    0.134243\n",
            "Name: label, dtype: float64\n"
          ]
        }
      ],
      "source": [
        "print(f'Répartition of `Spam/Ham` dans y_train :\\n{y_train.value_counts(normalize=True)}')\n",
        "print(f'Répartition of `Spam/Ham` dans y_test :\\n{y_test.value_counts(normalize=True)}')"
      ]
    },
    {
      "cell_type": "markdown",
      "metadata": {
        "id": "nIceLiesNRec"
      },
      "source": [
        "#6.Création du pipeline\n",
        "Il s'agit ici de construire le pipeline qui comportera 2 étapes essentielles dans ce projet :\n",
        "- le **preprocessing**, en appliquant la méthode de vectorisation, de transformation TF-IDF, ainsi qu'en ajustant les paramètres de ces méthodes.\n",
        "- la **modélisation**, avec un algorithme de classification de type bayésien par exemple."
      ]
    },
    {
      "cell_type": "markdown",
      "metadata": {
        "id": "voTI8RwyCxfe"
      },
      "source": [
        "Pour des utilisations ultérieures, nous pouvons préparer une fonction dédiée à la construction de pipeline."
      ]
    },
    {
      "cell_type": "code",
      "execution_count": null,
      "metadata": {
        "id": "YITewuRfCdR7"
      },
      "outputs": [],
      "source": [
        "# Fonction pipeline\n",
        "def pipe_spam(vectorizer=CountVectorizer(), classifier=ComplementNB()):\n",
        "\n",
        "  # Données numériques\n",
        "  pipe_num = Pipeline(steps=[\n",
        "       ('minmax', MinMaxScaler())\n",
        "       ])\n",
        "\n",
        "  # Données textuelles\n",
        "  pipe_text = Pipeline(steps=[\n",
        "       ('countvect', vectorizer)\n",
        "       ])\n",
        "\n",
        "  # Transformation des données\n",
        "  # Class ColumnTransformer : apply alls steps on the whole dataset\n",
        "  preparation = ColumnTransformer(\n",
        "      transformers=[\n",
        "        ('scaler', pipe_num , ['length', 'word_count']),\n",
        "        ('vectorizer', pipe_text , 'message')\n",
        "        ])\n",
        "\n",
        "\n",
        "  # Intégration du pipeline de preprocessing avec un modèle de classification\n",
        "  pipe = Pipeline(steps=[\n",
        "       ('prep', preparation),\n",
        "       ('clf', classifier)\n",
        "       ])\n",
        "\n",
        "  return(pipe)"
      ]
    },
    {
      "cell_type": "code",
      "execution_count": null,
      "metadata": {
        "colab": {
          "base_uri": "https://localhost:8080/",
          "height": 191
        },
        "id": "WMEMMuajC5jV",
        "outputId": "9f4cdd0a-a6e5-4ae1-9f13-c3a08c6a2273"
      },
      "outputs": [
        {
          "data": {
            "text/html": [
              "<style>#sk-container-id-2 {color: black;background-color: white;}#sk-container-id-2 pre{padding: 0;}#sk-container-id-2 div.sk-toggleable {background-color: white;}#sk-container-id-2 label.sk-toggleable__label {cursor: pointer;display: block;width: 100%;margin-bottom: 0;padding: 0.3em;box-sizing: border-box;text-align: center;}#sk-container-id-2 label.sk-toggleable__label-arrow:before {content: \"▸\";float: left;margin-right: 0.25em;color: #696969;}#sk-container-id-2 label.sk-toggleable__label-arrow:hover:before {color: black;}#sk-container-id-2 div.sk-estimator:hover label.sk-toggleable__label-arrow:before {color: black;}#sk-container-id-2 div.sk-toggleable__content {max-height: 0;max-width: 0;overflow: hidden;text-align: left;background-color: #f0f8ff;}#sk-container-id-2 div.sk-toggleable__content pre {margin: 0.2em;color: black;border-radius: 0.25em;background-color: #f0f8ff;}#sk-container-id-2 input.sk-toggleable__control:checked~div.sk-toggleable__content {max-height: 200px;max-width: 100%;overflow: auto;}#sk-container-id-2 input.sk-toggleable__control:checked~label.sk-toggleable__label-arrow:before {content: \"▾\";}#sk-container-id-2 div.sk-estimator input.sk-toggleable__control:checked~label.sk-toggleable__label {background-color: #d4ebff;}#sk-container-id-2 div.sk-label input.sk-toggleable__control:checked~label.sk-toggleable__label {background-color: #d4ebff;}#sk-container-id-2 input.sk-hidden--visually {border: 0;clip: rect(1px 1px 1px 1px);clip: rect(1px, 1px, 1px, 1px);height: 1px;margin: -1px;overflow: hidden;padding: 0;position: absolute;width: 1px;}#sk-container-id-2 div.sk-estimator {font-family: monospace;background-color: #f0f8ff;border: 1px dotted black;border-radius: 0.25em;box-sizing: border-box;margin-bottom: 0.5em;}#sk-container-id-2 div.sk-estimator:hover {background-color: #d4ebff;}#sk-container-id-2 div.sk-parallel-item::after {content: \"\";width: 100%;border-bottom: 1px solid gray;flex-grow: 1;}#sk-container-id-2 div.sk-label:hover label.sk-toggleable__label {background-color: #d4ebff;}#sk-container-id-2 div.sk-serial::before {content: \"\";position: absolute;border-left: 1px solid gray;box-sizing: border-box;top: 0;bottom: 0;left: 50%;z-index: 0;}#sk-container-id-2 div.sk-serial {display: flex;flex-direction: column;align-items: center;background-color: white;padding-right: 0.2em;padding-left: 0.2em;position: relative;}#sk-container-id-2 div.sk-item {position: relative;z-index: 1;}#sk-container-id-2 div.sk-parallel {display: flex;align-items: stretch;justify-content: center;background-color: white;position: relative;}#sk-container-id-2 div.sk-item::before, #sk-container-id-2 div.sk-parallel-item::before {content: \"\";position: absolute;border-left: 1px solid gray;box-sizing: border-box;top: 0;bottom: 0;left: 50%;z-index: -1;}#sk-container-id-2 div.sk-parallel-item {display: flex;flex-direction: column;z-index: 1;position: relative;background-color: white;}#sk-container-id-2 div.sk-parallel-item:first-child::after {align-self: flex-end;width: 50%;}#sk-container-id-2 div.sk-parallel-item:last-child::after {align-self: flex-start;width: 50%;}#sk-container-id-2 div.sk-parallel-item:only-child::after {width: 0;}#sk-container-id-2 div.sk-dashed-wrapped {border: 1px dashed gray;margin: 0 0.4em 0.5em 0.4em;box-sizing: border-box;padding-bottom: 0.4em;background-color: white;}#sk-container-id-2 div.sk-label label {font-family: monospace;font-weight: bold;display: inline-block;line-height: 1.2em;}#sk-container-id-2 div.sk-label-container {text-align: center;}#sk-container-id-2 div.sk-container {/* jupyter's `normalize.less` sets `[hidden] { display: none; }` but bootstrap.min.css set `[hidden] { display: none !important; }` so we also need the `!important` here to be able to override the default hidden behavior on the sphinx rendered scikit-learn.org. See: https://github.com/scikit-learn/scikit-learn/issues/21755 */display: inline-block !important;position: relative;}#sk-container-id-2 div.sk-text-repr-fallback {display: none;}</style><div id=\"sk-container-id-2\" class=\"sk-top-container\"><div class=\"sk-text-repr-fallback\"><pre>Pipeline(steps=[(&#x27;prep&#x27;,\n",
              "                 ColumnTransformer(transformers=[(&#x27;scaler&#x27;,\n",
              "                                                  Pipeline(steps=[(&#x27;minmax&#x27;,\n",
              "                                                                   MinMaxScaler())]),\n",
              "                                                  [&#x27;length&#x27;, &#x27;word_count&#x27;]),\n",
              "                                                 (&#x27;vectorizer&#x27;,\n",
              "                                                  Pipeline(steps=[(&#x27;countvect&#x27;,\n",
              "                                                                   CountVectorizer())]),\n",
              "                                                  &#x27;message&#x27;)])),\n",
              "                (&#x27;clf&#x27;, ComplementNB())])</pre><b>In a Jupyter environment, please rerun this cell to show the HTML representation or trust the notebook. <br />On GitHub, the HTML representation is unable to render, please try loading this page with nbviewer.org.</b></div><div class=\"sk-container\" hidden><div class=\"sk-item sk-dashed-wrapped\"><div class=\"sk-label-container\"><div class=\"sk-label sk-toggleable\"><input class=\"sk-toggleable__control sk-hidden--visually\" id=\"sk-estimator-id-8\" type=\"checkbox\" ><label for=\"sk-estimator-id-8\" class=\"sk-toggleable__label sk-toggleable__label-arrow\">Pipeline</label><div class=\"sk-toggleable__content\"><pre>Pipeline(steps=[(&#x27;prep&#x27;,\n",
              "                 ColumnTransformer(transformers=[(&#x27;scaler&#x27;,\n",
              "                                                  Pipeline(steps=[(&#x27;minmax&#x27;,\n",
              "                                                                   MinMaxScaler())]),\n",
              "                                                  [&#x27;length&#x27;, &#x27;word_count&#x27;]),\n",
              "                                                 (&#x27;vectorizer&#x27;,\n",
              "                                                  Pipeline(steps=[(&#x27;countvect&#x27;,\n",
              "                                                                   CountVectorizer())]),\n",
              "                                                  &#x27;message&#x27;)])),\n",
              "                (&#x27;clf&#x27;, ComplementNB())])</pre></div></div></div><div class=\"sk-serial\"><div class=\"sk-item sk-dashed-wrapped\"><div class=\"sk-label-container\"><div class=\"sk-label sk-toggleable\"><input class=\"sk-toggleable__control sk-hidden--visually\" id=\"sk-estimator-id-9\" type=\"checkbox\" ><label for=\"sk-estimator-id-9\" class=\"sk-toggleable__label sk-toggleable__label-arrow\">prep: ColumnTransformer</label><div class=\"sk-toggleable__content\"><pre>ColumnTransformer(transformers=[(&#x27;scaler&#x27;,\n",
              "                                 Pipeline(steps=[(&#x27;minmax&#x27;, MinMaxScaler())]),\n",
              "                                 [&#x27;length&#x27;, &#x27;word_count&#x27;]),\n",
              "                                (&#x27;vectorizer&#x27;,\n",
              "                                 Pipeline(steps=[(&#x27;countvect&#x27;,\n",
              "                                                  CountVectorizer())]),\n",
              "                                 &#x27;message&#x27;)])</pre></div></div></div><div class=\"sk-parallel\"><div class=\"sk-parallel-item\"><div class=\"sk-item\"><div class=\"sk-label-container\"><div class=\"sk-label sk-toggleable\"><input class=\"sk-toggleable__control sk-hidden--visually\" id=\"sk-estimator-id-10\" type=\"checkbox\" ><label for=\"sk-estimator-id-10\" class=\"sk-toggleable__label sk-toggleable__label-arrow\">scaler</label><div class=\"sk-toggleable__content\"><pre>[&#x27;length&#x27;, &#x27;word_count&#x27;]</pre></div></div></div><div class=\"sk-serial\"><div class=\"sk-item\"><div class=\"sk-serial\"><div class=\"sk-item\"><div class=\"sk-estimator sk-toggleable\"><input class=\"sk-toggleable__control sk-hidden--visually\" id=\"sk-estimator-id-11\" type=\"checkbox\" ><label for=\"sk-estimator-id-11\" class=\"sk-toggleable__label sk-toggleable__label-arrow\">MinMaxScaler</label><div class=\"sk-toggleable__content\"><pre>MinMaxScaler()</pre></div></div></div></div></div></div></div></div><div class=\"sk-parallel-item\"><div class=\"sk-item\"><div class=\"sk-label-container\"><div class=\"sk-label sk-toggleable\"><input class=\"sk-toggleable__control sk-hidden--visually\" id=\"sk-estimator-id-12\" type=\"checkbox\" ><label for=\"sk-estimator-id-12\" class=\"sk-toggleable__label sk-toggleable__label-arrow\">vectorizer</label><div class=\"sk-toggleable__content\"><pre>message</pre></div></div></div><div class=\"sk-serial\"><div class=\"sk-item\"><div class=\"sk-serial\"><div class=\"sk-item\"><div class=\"sk-estimator sk-toggleable\"><input class=\"sk-toggleable__control sk-hidden--visually\" id=\"sk-estimator-id-13\" type=\"checkbox\" ><label for=\"sk-estimator-id-13\" class=\"sk-toggleable__label sk-toggleable__label-arrow\">CountVectorizer</label><div class=\"sk-toggleable__content\"><pre>CountVectorizer()</pre></div></div></div></div></div></div></div></div></div></div><div class=\"sk-item\"><div class=\"sk-estimator sk-toggleable\"><input class=\"sk-toggleable__control sk-hidden--visually\" id=\"sk-estimator-id-14\" type=\"checkbox\" ><label for=\"sk-estimator-id-14\" class=\"sk-toggleable__label sk-toggleable__label-arrow\">ComplementNB</label><div class=\"sk-toggleable__content\"><pre>ComplementNB()</pre></div></div></div></div></div></div></div>"
            ],
            "text/plain": [
              "Pipeline(steps=[('prep',\n",
              "                 ColumnTransformer(transformers=[('scaler',\n",
              "                                                  Pipeline(steps=[('minmax',\n",
              "                                                                   MinMaxScaler())]),\n",
              "                                                  ['length', 'word_count']),\n",
              "                                                 ('vectorizer',\n",
              "                                                  Pipeline(steps=[('countvect',\n",
              "                                                                   CountVectorizer())]),\n",
              "                                                  'message')])),\n",
              "                ('clf', ComplementNB())])"
            ]
          },
          "execution_count": 42,
          "metadata": {},
          "output_type": "execute_result"
        }
      ],
      "source": [
        "# Test du pipeline\n",
        "pipe = pipe_spam(vectorizer=CountVectorizer(), classifier=ComplementNB()).fit(X_train, y_train)\n",
        "pipe"
      ]
    },
    {
      "cell_type": "markdown",
      "metadata": {
        "id": "79gtakLuFKgb"
      },
      "source": [
        "#7.Choix de la métrique d'erreur"
      ]
    },
    {
      "cell_type": "markdown",
      "metadata": {
        "id": "V1ceYqfqFKGk"
      },
      "source": [
        "##7.1.Recall\n",
        "La performance des modèles sera évaluée à travers le `recall_score`.  \n",
        "Il s'agit du taux de vrais positifs, c’est à dire la proportion de positifs que l’on a correctement identifiés.  \n",
        "C’est la capacité de notre modèle à détecter toutes les alertes, ce qui correspond bien au besoin du projet : développer un classifieur qui détecte les Spam avec la plus grande performance ([voir la documentation sklearn](https://scikit-learn.org/stable/modules/generated/sklearn.metrics.recall_score.html#sklearn.metrics.recall_score))."
      ]
    },
    {
      "cell_type": "code",
      "execution_count": null,
      "metadata": {
        "colab": {
          "base_uri": "https://localhost:8080/"
        },
        "id": "lfe_H5XhJlu1",
        "outputId": "e9978f65-6365-4314-86f6-9716fd9ffb09"
      },
      "outputs": [
        {
          "data": {
            "text/plain": [
              "0.9411764705882353"
            ]
          },
          "execution_count": 43,
          "metadata": {},
          "output_type": "execute_result"
        }
      ],
      "source": [
        "y_pred = pipe.predict(X_test)\n",
        "\n",
        "recall_score(y_test, y_pred, pos_label='spam')"
      ]
    },
    {
      "cell_type": "markdown",
      "metadata": {
        "id": "PfHmDOlHIzyG"
      },
      "source": [
        "##7.2.F1-score\n",
        "Une métrique complémentaire sera utilisée, le `F1-score` qui et peut être interprété comme une moyenne harmonique de la précision et du rappel ([voir la documentation sklearn](https://scikit-learn.org/stable/modules/generated/sklearn.metrics.f1_score.html))."
      ]
    },
    {
      "cell_type": "code",
      "execution_count": null,
      "metadata": {
        "colab": {
          "base_uri": "https://localhost:8080/"
        },
        "id": "J8ObrfENI0Ga",
        "outputId": "2064e6bf-0c3d-4bc6-b02d-d6a052365593"
      },
      "outputs": [
        {
          "data": {
            "text/plain": [
              "0.9263157894736843"
            ]
          },
          "execution_count": 27,
          "metadata": {},
          "output_type": "execute_result"
        }
      ],
      "source": [
        "f1_score(y_test, y_pred, pos_label='spam')"
      ]
    },
    {
      "cell_type": "markdown",
      "metadata": {
        "id": "2I7Q7Ol5JyTb"
      },
      "source": [
        "##7.3.Matrice de confusion\n",
        "La distribution des prédictions vraies et fausses est résumée par la `confusion_matrix` [voir la documentation de sklearn](https://scikit-learn.org/stable/modules/generated/sklearn.metrics.confusion_matrix.html)."
      ]
    },
    {
      "cell_type": "code",
      "execution_count": null,
      "metadata": {
        "colab": {
          "base_uri": "https://localhost:8080/",
          "height": 475
        },
        "id": "hwUcUQZqJzBW",
        "outputId": "65a065a9-e939-44fd-b770-3e5906545435"
      },
      "outputs": [
        {
          "data": {
            "text/plain": [
              "<sklearn.metrics._plot.confusion_matrix.ConfusionMatrixDisplay at 0x7b7c48c05960>"
            ]
          },
          "execution_count": 28,
          "metadata": {},
          "output_type": "execute_result"
        },
        {
          "data": {
            "image/png": "[encoded data removed]",
            "text/plain": [
              "<Figure size 640x480 with 2 Axes>"
            ]
          },
          "metadata": {},
          "output_type": "display_data"
        }
      ],
      "source": [
        "conf_matrix = confusion_matrix(y_true=y_test, y_pred=y_pred)\n",
        "sns.set_style(\"dark\")\n",
        "cm_plot = ConfusionMatrixDisplay(conf_matrix,\n",
        "                                display_labels=df['label'].unique())\n",
        "\n",
        "cm_plot.plot()"
      ]
    },
    {
      "cell_type": "markdown",
      "metadata": {
        "id": "mS34QbcEUlLj"
      },
      "source": [
        "##7.4.Courbe ROC [In progress]\n",
        "Réalise le Receiver operating characteristic (ROC) grâce à la méthode `roc_curve` [voir la documentation de sklearn](https://scikit-learn.org/stable/modules/generated/sklearn.metrics.roc_curve.html)."
      ]
    },
    {
      "cell_type": "code",
      "execution_count": null,
      "metadata": {
        "id": "vV2MDAzEXd-Q"
      },
      "outputs": [],
      "source": [
        "# OK avec encodage de la target\n",
        "from sklearn.metrics import roc_curve\n",
        "from sklearn.preprocessing import LabelEncoder\n",
        "fpr, tpr, thresholds = roc_curve(y_true=LabelEncoder().fit_transform(y_test),\n",
        "                                 y_score=LabelEncoder().fit_transform(y_pred))#, pos_label='spam')"
      ]
    },
    {
      "cell_type": "code",
      "execution_count": null,
      "metadata": {
        "colab": {
          "base_uri": "https://localhost:8080/",
          "height": 475
        },
        "id": "0rPHe_H2jaow",
        "outputId": "abe0fa43-5865-485a-c5c5-be8dad155b57"
      },
      "outputs": [
        {
          "data": {
            "text/plain": [
              "<sklearn.metrics._plot.roc_curve.RocCurveDisplay at 0x7b7c09a45bd0>"
            ]
          },
          "execution_count": 31,
          "metadata": {},
          "output_type": "execute_result"
        },
        {
          "data": {
            "image/png": "[encoded data removed]",
            "text/plain": [
              "<Figure size 640x480 with 1 Axes>"
            ]
          },
          "metadata": {},
          "output_type": "display_data"
        }
      ],
      "source": [
        "# Process simplifié (hors pipeline) pour utiliser les proba en sortie du classifier\n",
        "y = df['label']\n",
        "X = CountVectorizer().fit_transform(df['message'])\n",
        "X_train, X_test, y_train, y_test = train_test_split(X, y, test_size=0.25, random_state=42, stratify=y)\n",
        "\n",
        "# Model\n",
        "clf = MultinomialNB()#RandomForestClassifier()#LogisticRegression()#MultinomialNB()\n",
        "clf.fit(X_train, y_train)\n",
        "y_pred = clf.predict(X_test)\n",
        "\n",
        "y_true = LabelEncoder().fit_transform(y_test)\n",
        "y_score = LabelEncoder().fit_transform(y_pred)\n",
        "\n",
        "# Result\n",
        "recall_score(y_test, y_pred, pos_label='spam')\n",
        "fpr, tpr, thresholds = roc_curve(y_true= y_true,\n",
        "                                 y_score=y_score)#, pos_label='spam')\n",
        "\n",
        "RocCurveDisplay.from_predictions(y_test, #LabelEncoder().fit_transform(y_test),\n",
        "                                 clf.predict_proba(X_test)[:, 1],#LabelEncoder().fit_transform(y_pred)\n",
        "                                 pos_label='spam')\n",
        "\n"
      ]
    },
    {
      "cell_type": "code",
      "execution_count": null,
      "metadata": {
        "colab": {
          "base_uri": "https://localhost:8080/"
        },
        "id": "MsaR1Ie5KnBl",
        "outputId": "07f191d0-1c66-4a99-8091-7c09875d870b"
      },
      "outputs": [
        {
          "name": "stdout",
          "output_type": "stream",
          "text": [
            "[1.00000000e+00 1.75032146e-01 9.40126667e-01 ... 1.29960784e-15\n",
            " 1.00000000e+00 9.36299071e-01]\n"
          ]
        }
      ],
      "source": [
        "# Extraction proba depuis le MultinomialNB\n",
        "print(clf.predict_proba(X_test)[:, 0])#.reshape(-1, 1))"
      ]
    },
    {
      "cell_type": "code",
      "execution_count": null,
      "metadata": {
        "colab": {
          "base_uri": "https://localhost:8080/"
        },
        "id": "ozIsCIApewrg",
        "outputId": "34d3cacc-ede9-490a-b8e0-c23872f8806f"
      },
      "outputs": [
        {
          "data": {
            "text/plain": [
              "{'alpha': 1.0,\n",
              " 'class_prior': None,\n",
              " 'fit_prior': True,\n",
              " 'force_alpha': 'warn',\n",
              " 'norm': False}"
            ]
          },
          "execution_count": 34,
          "metadata": {},
          "output_type": "execute_result"
        }
      ],
      "source": [
        "pipe['clf'].get_params()"
      ]
    },
    {
      "cell_type": "markdown",
      "metadata": {
        "id": "PnctJzwmqXmo"
      },
      "source": [
        "##7.5 Fonction de scoring sur les données de test"
      ]
    },
    {
      "cell_type": "code",
      "execution_count": null,
      "metadata": {
        "id": "XdgrMos3qYEC"
      },
      "outputs": [],
      "source": [
        "def scoring_model(fitted_estimator, y_test, X_test, pos_label='spam'):\n",
        "  # Prediction\n",
        "  y_pred = fitted_estimator.predict(X_test)\n",
        "\n",
        "  # Recall\n",
        "  recall = recall_score(y_true=y_test, y_pred=y_pred, pos_label=pos_label, average=\"weighted\")\n",
        "\n",
        "  # F1-score\n",
        "  f1 = f1_score(y_true=y_test, y_pred=y_pred, pos_label=pos_label, average=\"weighted\")\n",
        "\n",
        "  # Fbeta-score\n",
        "  fbeta = fbeta_score(y_true=y_test, y_pred=y_pred, beta=2, pos_label=pos_label, average=\"weighted\")\n",
        "\n",
        "  # Confusion matrix\n",
        "  conf_matrix = confusion_matrix(y_true=y_test, y_pred=y_pred)\n",
        "\n",
        "  return({'prediction': y_pred,\n",
        "          'recall_score': recall.round(4),\n",
        "          'conf_matrix': conf_matrix,\n",
        "          'f1_score': f1.round(4),\n",
        "          'fbeta_score': fbeta.round(4)\n",
        "   }\n",
        "         )"
      ]
    },
    {
      "cell_type": "markdown",
      "metadata": {
        "id": "-XSXmQQIxeaJ"
      },
      "source": [
        "#8.Validation croisée & Recherche des hyper-paramètres\n",
        "La validation croisée et le réglage des hyper-paramètres sont gérés avec une stratégie de recherche exhaustive `GridSearchCV()`.  \n",
        "Plus d'informations pour [`GridSearchCV()`](https://scikit-learn.org/stable/modules/generated/sklearn.model_selection.GridSearchCV.html)."
      ]
    },
    {
      "cell_type": "code",
      "execution_count": null,
      "metadata": {
        "id": "XBvTW-JqLP6u"
      },
      "outputs": [],
      "source": [
        "def crossval_paramsearch(X_train, y_train, estimator, parameters, cv=5):\n",
        "  # Scoring\n",
        "  multi_scoring = {\"Recall\": make_scorer(recall_score, average=\"weighted\"), # pos_label=\"spam\" => unused when average=\"weighted\"\n",
        "                   \"F1-score\": make_scorer(f1_score, average=\"weighted\"), # pos_label=\"spam\" => unused when average=\"weighted\"\n",
        "                   \"Fbeta-score\": make_scorer(fbeta_score, beta=2, average=\"weighted\")} # pos_label=\"spam\" => unused when average=\"weighted\"\n",
        "\n",
        "  # Grid search\n",
        "  grid = GridSearchCV(estimator=estimator, param_grid=parameters,\n",
        "                      scoring=multi_scoring, refit=\"Recall\",\n",
        "                      cv=cv, n_jobs=-1, verbose=1, error_score=\"raise\")\n",
        "\n",
        "  # Fit\n",
        "  grid.fit(X_train, y_train)\n",
        "\n",
        "  # Scores and results\n",
        "  best_score = grid.best_score_.round(4)\n",
        "  best_params = grid.best_params_\n",
        "  training_time = grid.cv_results_['mean_fit_time'].mean().round(4)\n",
        "\n",
        "  # Output\n",
        "  return({\n",
        "      'best_score': best_score,\n",
        "      'best_params': best_params,\n",
        "      'training_time': training_time,\n",
        "      'fitted_model': grid.best_estimator_\n",
        "  })"
      ]
    },
    {
      "cell_type": "code",
      "execution_count": null,
      "metadata": {
        "colab": {
          "base_uri": "https://localhost:8080/"
        },
        "id": "MOzlpgJ2MUYP",
        "outputId": "6573d1f2-b843-4507-8bf9-fb2520b8258b"
      },
      "outputs": [
        {
          "data": {
            "text/plain": [
              "{'best_score': 0.9775,\n",
              " 'best_params': {'prep__vectorizer__countvect': CountVectorizer()},\n",
              " 'training_time': 0.1488,\n",
              " 'fitted_model': Pipeline(steps=[('prep',\n",
              "                  ColumnTransformer(transformers=[('scaler',\n",
              "                                                   Pipeline(steps=[('minmax',\n",
              "                                                                    MinMaxScaler())]),\n",
              "                                                   ['length', 'word_count']),\n",
              "                                                  ('vectorizer',\n",
              "                                                   Pipeline(steps=[('countvect',\n",
              "                                                                    CountVectorizer())]),\n",
              "                                                   'message')])),\n",
              "                 ('clf', ComplementNB())])}"
            ]
          },
          "execution_count": 46,
          "metadata": {},
          "output_type": "execute_result"
        }
      ],
      "source": [
        "# Model and its parameters\n",
        "#clf = GaussianNB()\n",
        "parameters = [{\n",
        "        # Params for text Vectorizer\n",
        "        'prep__vectorizer__countvect': [CountVectorizer(), TfidfVectorizer()],\n",
        "        'prep__vectorizer__countvect__ngram_range' : [(1, 1), (1, 2), (1, 3), (1, 4)],\n",
        "        'prep__vectorizer__countvect__max_features': [500, 1000, 3000, 5000, 8000, None],\n",
        "\n",
        "        # Params for numeric MinMaxScaling\n",
        "        'prep__scaler__minmax__feature_range': [(0, 1), (0, 10)],\n",
        "\n",
        "        # Params for classifier\n",
        "        'clf__alpha': range(0, 11, 1),#[0, 10],\n",
        "        'clf__force_alpha': [True, False]\n",
        "        }]\n",
        "\n",
        "crossval_paramsearch(X_train=X_train,\n",
        "                     y_train=y_train,\n",
        "                     estimator=pipe_spam(),#vectorizer=CountVectorizer(), classifier=ComplementNB()),\n",
        "                     parameters=parameters,\n",
        "                     cv=5)"
      ]
    },
    {
      "cell_type": "markdown",
      "metadata": {
        "id": "pWgEv101xeqh"
      },
      "source": [
        "#9.Comparaison de modèles\n",
        "Nous allons maintenant utiliser la fonction précédente sur plusieurs modèles de classification et ainsi comparer leurs performances"
      ]
    },
    {
      "cell_type": "markdown",
      "metadata": {
        "id": "MoQt-r-gpADI"
      },
      "source": [
        "##9.1 Fonction de comparaison\n",
        "Pour faciliter le processus de comparaison des modèles, nous pouvons créer une fonction dédiée `getClassifResults()`, basée sur les précédentes :\n",
        "- fonction `crossval_paramsearch()` pour la validation croisée et le réglage des hyper-paramètres\n",
        "- fonction `scoring_model()` pour la prédiction et la notation.\n",
        "  \n",
        "Cette fonction globale doit être flexible et adaptable à un ensemble de paramètres d'entrée :\n",
        "- `data` : l'ensemble de données à des fins de classification\n",
        "- `estimator` : le pipeline comprenant à la fois le modèle de prétraitement et de classification\n",
        "- `parameters` : une grille d'hyper-paramètres pour la recherche de grille\n",
        "- `scoring` : la métrique utilisée pour l'évaluation\n",
        "- `cv` : le nombre de sous ensembles pour la validation croisée, `5` est la valeur par défaut."
      ]
    },
    {
      "cell_type": "code",
      "execution_count": null,
      "metadata": {
        "id": "AvGRaW_xo-0-"
      },
      "outputs": [],
      "source": [
        "def getClassifResults(data, estimator, parameters, scoring='recall', cv=5):\n",
        "\n",
        "  # Prepare data\n",
        "  y = df['label']\n",
        "  X = df.drop('label', axis=1) #df['message']\n",
        "\n",
        "  # Split data\n",
        "  X_train, X_test, y_train, y_test = train_test_split(X, y, test_size=0.25, random_state=42, stratify=y)\n",
        "\n",
        "  # Cross Validation & Hyper-Paramaters tuning\n",
        "  fitted_estimator = crossval_paramsearch(X_train=X_train, y_train=y_train, estimator=estimator,\n",
        "                     parameters=parameters, cv=cv)\n",
        "\n",
        "  # Prediction and scoring\n",
        "  test_score = scoring_model(fitted_estimator=fitted_estimator['fitted_model'], y_test=y_test, X_test=X_test)\n",
        "\n",
        "  return({'fitted_model': fitted_estimator,\n",
        "          'test_score': test_score})"
      ]
    },
    {
      "cell_type": "markdown",
      "metadata": {
        "id": "ryJmVtkrxe5K"
      },
      "source": [
        "##9.2 Multinomial Naive Bayes\n",
        "Le classifieur multinomial Naive Bayes convient à la classification avec des caractéristiques discrètes (par exemple, le nombre de mots pour la classification de texte).  \n",
        "La distribution multinomiale nécessite normalement un nombre entier de caractéristiques. Cependant, en pratique, les comptages fractionnaires tels que tf-idf peuvent également fonctionner.  \n",
        "Voir la documentation [sklearn](https://scikit-learn.org/stable/modules/generated/sklearn.naive_bayes.MultinomialNB.html)."
      ]
    },
    {
      "cell_type": "code",
      "execution_count": null,
      "metadata": {
        "id": "TRz9md0irKYY"
      },
      "outputs": [],
      "source": [
        "# Model and its parameters\n",
        "estimator = pipe_spam(vectorizer=CountVectorizer(), classifier=MultinomialNB())\n",
        "\n",
        "parameters = [\n",
        "    {\n",
        "        'prep__vectorizer__countvect': [CountVectorizer(), TfidfVectorizer()],\n",
        "        'prep__vectorizer__countvect__stop_words' : [None, 'english'],\n",
        "        #'prep__vectorizer__countvect__ngram_range' : [(1, 1), (1, 2), (1, 3), (1, 4)],\n",
        "        #'prep__vectorizer__countvect__max_features': [500, 1000, 3000, 5000, 8000, None],\n",
        "        'clf__force_alpha' : [True, False]\n",
        "    }\n",
        "]\n",
        "\n",
        "# Results\n",
        "MNB_results = getClassifResults(data=df, estimator=estimator, parameters=parameters)\n",
        "\n"
      ]
    },
    {
      "cell_type": "code",
      "execution_count": null,
      "metadata": {
        "colab": {
          "base_uri": "https://localhost:8080/"
        },
        "id": "ktiB4aipCyf3",
        "outputId": "3e2bbca7-f0b1-4bc0-8453-6a9a30f57163"
      },
      "outputs": [
        {
          "name": "stdout",
          "output_type": "stream",
          "text": [
            "Best model: {'clf__force_alpha': True, 'prep__vectorizer__countvect': CountVectorizer(ngram_range=(1, 2), stop_words='english'), 'prep__vectorizer__countvect__max_features': None, 'prep__vectorizer__countvect__ngram_range': (1, 2), 'prep__vectorizer__countvect__stop_words': 'english'} \n",
            "Training time (sec): 0.4617 \n",
            "Training score (Recall): 0.9868 \n",
            "Test score (Recall): 0.9871 \n",
            "Test score (Fbeta): 0.987 \n"
          ]
        }
      ],
      "source": [
        "# Retrieve results\n",
        "print(f\"Best model: {MNB_results['fitted_model']['best_params']} \")\n",
        "print(f\"Training time (sec): {MNB_results['fitted_model']['training_time']} \")\n",
        "print(f\"Training score (Recall): {MNB_results['fitted_model']['best_score']} \")\n",
        "print(f\"Test score (Recall): {MNB_results['test_score']['recall_score']} \")\n",
        "print(f\"Test score (Fbeta): {MNB_results['test_score']['fbeta_score']} \")"
      ]
    },
    {
      "cell_type": "markdown",
      "metadata": {
        "id": "aN3x6hMGus4a"
      },
      "source": [
        "##9.3 Random Forest Classifier\n",
        "Random Forest Classifier as described in [sklearn](https://scikit-learn.org/stable/modules/generated/sklearn.ensemble.RandomForestClassifier.html)."
      ]
    },
    {
      "cell_type": "code",
      "execution_count": null,
      "metadata": {
        "colab": {
          "base_uri": "https://localhost:8080/"
        },
        "id": "JUtC30g1xfWu",
        "outputId": "dd24660c-00a5-4f9d-dedc-506d5b332990"
      },
      "outputs": [
        {
          "name": "stdout",
          "output_type": "stream",
          "text": [
            "Fitting 5 folds for each of 12 candidates, totalling 60 fits\n"
          ]
        },
        {
          "name": "stderr",
          "output_type": "stream",
          "text": [
            "/usr/local/lib/python3.10/dist-packages/sklearn/metrics/_classification.py:1396: UserWarning: Note that pos_label (set to 'spam') is ignored when average != 'binary' (got 'weighted'). You may use labels=[pos_label] to specify a single positive class.\n",
            "  warnings.warn(\n",
            "/usr/local/lib/python3.10/dist-packages/sklearn/metrics/_classification.py:1396: UserWarning: Note that pos_label (set to 'spam') is ignored when average != 'binary' (got 'weighted'). You may use labels=[pos_label] to specify a single positive class.\n",
            "  warnings.warn(\n",
            "/usr/local/lib/python3.10/dist-packages/sklearn/metrics/_classification.py:1396: UserWarning: Note that pos_label (set to 'spam') is ignored when average != 'binary' (got 'weighted'). You may use labels=[pos_label] to specify a single positive class.\n",
            "  warnings.warn(\n"
          ]
        }
      ],
      "source": [
        "# Model and its parameters\n",
        "estimator = pipe_spam(vectorizer=CountVectorizer(), classifier=RandomForestClassifier())\n",
        "\n",
        "parameters = [\n",
        "    {\n",
        "        'prep__vectorizer__countvect': [CountVectorizer(), TfidfVectorizer()],\n",
        "        #'prep__vectorizer__countvect__ngram_range' : [(1, 1), (1, 2), (1, 3), (1, 4)],\n",
        "        #'prep__vectorizer__countvect__max_features': [500, 1000, 3000, 5000, 8000, None],\n",
        "        'clf__n_estimators' : range(50, 151, 50),\n",
        "        'clf__criterion' : ('gini', 'entropy'),\n",
        "        #'clf__max_depth' : range(3, 11, 2),\n",
        "        #'clf__min_samples_split' : range(3, 11, 2),\n",
        "        #'clf__min_samples_leaf' : range(1, 21, 2)\n",
        "    }\n",
        "]\n",
        "\n",
        "# Results\n",
        "RF_results = getClassifResults(data=df, estimator=estimator, parameters=parameters)"
      ]
    },
    {
      "cell_type": "code",
      "execution_count": null,
      "metadata": {
        "colab": {
          "base_uri": "https://localhost:8080/"
        },
        "id": "4EiYsXG5DPyq",
        "outputId": "1734d865-aec7-454d-dfa5-f0f7b69d55ee"
      },
      "outputs": [
        {
          "name": "stdout",
          "output_type": "stream",
          "text": [
            "Best model: {'clf__criterion': 'gini', 'clf__n_estimators': 150, 'prep__vectorizer__countvect': CountVectorizer()} \n",
            "Training time (sec): 1.9897 \n",
            "Training score (Recall): 0.9768 \n",
            "Test score (Recall): 0.9727 \n",
            "Test score (Fbeta): 0.9718 \n"
          ]
        }
      ],
      "source": [
        "# Retrieve results\n",
        "print(f\"Best model: {RF_results['fitted_model']['best_params']} \")\n",
        "print(f\"Training time (sec): {RF_results['fitted_model']['training_time']} \")\n",
        "print(f\"Training score (Recall): {RF_results['fitted_model']['best_score']} \")\n",
        "print(f\"Test score (Recall): {RF_results['test_score']['recall_score']} \")\n",
        "print(f\"Test score (Fbeta): {RF_results['test_score']['fbeta_score']} \")"
      ]
    },
    {
      "cell_type": "markdown",
      "metadata": {
        "id": "2PU8LzmO_POp"
      },
      "source": [
        "##9.4 Gradient Boosting Classifier\n",
        "Gradient Boosting Classifier as described in [sklearn](https://scikit-learn.org/stable/modules/generated/sklearn.ensemble.GradientBoostingClassifier.html)."
      ]
    },
    {
      "cell_type": "code",
      "execution_count": null,
      "metadata": {
        "colab": {
          "base_uri": "https://localhost:8080/"
        },
        "id": "2ugJsRGV-vYO",
        "outputId": "933928e1-32a7-4451-cdbc-45469a60285b"
      },
      "outputs": [
        {
          "name": "stdout",
          "output_type": "stream",
          "text": [
            "Fitting 5 folds for each of 18 candidates, totalling 90 fits\n"
          ]
        },
        {
          "name": "stderr",
          "output_type": "stream",
          "text": [
            "/usr/local/lib/python3.10/dist-packages/sklearn/metrics/_classification.py:1396: UserWarning: Note that pos_label (set to 'spam') is ignored when average != 'binary' (got 'weighted'). You may use labels=[pos_label] to specify a single positive class.\n",
            "  warnings.warn(\n",
            "/usr/local/lib/python3.10/dist-packages/sklearn/metrics/_classification.py:1396: UserWarning: Note that pos_label (set to 'spam') is ignored when average != 'binary' (got 'weighted'). You may use labels=[pos_label] to specify a single positive class.\n",
            "  warnings.warn(\n",
            "/usr/local/lib/python3.10/dist-packages/sklearn/metrics/_classification.py:1396: UserWarning: Note that pos_label (set to 'spam') is ignored when average != 'binary' (got 'weighted'). You may use labels=[pos_label] to specify a single positive class.\n",
            "  warnings.warn(\n"
          ]
        }
      ],
      "source": [
        "# Model and its parameters\n",
        "estimator = pipe_spam(classifier=RandomForestClassifier())\n",
        "\n",
        "parameters = [\n",
        "    {\n",
        "        'prep__vectorizer__countvect': [CountVectorizer(), TfidfVectorizer()],\n",
        "        #'prep__vectorizer__countvect__ngram_range' : [(1, 1), (1, 2), (1, 3), (1, 4)],\n",
        "        #'prep__vectorizer__countvect__max_features': [500, 1000, 3000, 5000, 8000, None],\n",
        "        'clf__n_estimators' : range(50, 151, 50),\n",
        "        'clf__max_depth' : range(3, 8, 2),\n",
        "        #'clf__criterion' : ('gini', 'entropy'),\n",
        "        #'clf__max_depth' : range(3, 11, 2),\n",
        "        #'clf__min_samples_split' : range(3, 11, 2),\n",
        "        #'clf__min_samples_leaf' : range(1, 21, 2)\n",
        "    }\n",
        "]\n",
        "\n",
        "# Results\n",
        "GB_results = getClassifResults(data=df, estimator=estimator, parameters=parameters)"
      ]
    },
    {
      "cell_type": "code",
      "execution_count": null,
      "metadata": {
        "colab": {
          "base_uri": "https://localhost:8080/"
        },
        "id": "OVdMSNduEuNI",
        "outputId": "4dd9e5d4-5c4d-4714-e36a-ef9ed6ed0055"
      },
      "outputs": [
        {
          "name": "stdout",
          "output_type": "stream",
          "text": [
            "Best model: {'clf__max_depth': 7, 'clf__n_estimators': 50, 'prep__vectorizer__countvect': CountVectorizer()} \n",
            "Training time (sec): 0.7036 \n",
            "Training score (Recall): 0.8846 \n",
            "Test score (Recall): 0.8909 \n",
            "Test score (Fbeta): 0.8745 \n"
          ]
        }
      ],
      "source": [
        "# Retrieve results\n",
        "print(f\"Best model: {GB_results['fitted_model']['best_params']} \")\n",
        "print(f\"Training time (sec): {GB_results['fitted_model']['training_time']} \")\n",
        "print(f\"Training score (Recall): {GB_results['fitted_model']['best_score']} \")\n",
        "print(f\"Test score (Recall): {GB_results['test_score']['recall_score']} \")\n",
        "print(f\"Test score (Fbeta): {GB_results['test_score']['fbeta_score']} \")"
      ]
    },
    {
      "cell_type": "markdown",
      "metadata": {
        "id": "k_Cby4yzXIft"
      },
      "source": [
        "##9.5 Support Vector Machine for Classification\n",
        "Support Vector Classifier as described in [sklearn](https://scikit-learn.org/stable/modules/generated/sklearn.svm.SVC.html#)."
      ]
    },
    {
      "cell_type": "code",
      "execution_count": null,
      "metadata": {
        "colab": {
          "base_uri": "https://localhost:8080/"
        },
        "id": "Rg-5VQ28XIf7",
        "outputId": "65e90c83-e2fa-4994-daa2-612b0ef11348"
      },
      "outputs": [
        {
          "name": "stdout",
          "output_type": "stream",
          "text": [
            "Fitting 5 folds for each of 20 candidates, totalling 100 fits\n"
          ]
        },
        {
          "name": "stderr",
          "output_type": "stream",
          "text": [
            "/usr/local/lib/python3.10/dist-packages/sklearn/metrics/_classification.py:1396: UserWarning: Note that pos_label (set to 'spam') is ignored when average != 'binary' (got 'weighted'). You may use labels=[pos_label] to specify a single positive class.\n",
            "  warnings.warn(\n",
            "/usr/local/lib/python3.10/dist-packages/sklearn/metrics/_classification.py:1396: UserWarning: Note that pos_label (set to 'spam') is ignored when average != 'binary' (got 'weighted'). You may use labels=[pos_label] to specify a single positive class.\n",
            "  warnings.warn(\n",
            "/usr/local/lib/python3.10/dist-packages/sklearn/metrics/_classification.py:1396: UserWarning: Note that pos_label (set to 'spam') is ignored when average != 'binary' (got 'weighted'). You may use labels=[pos_label] to specify a single positive class.\n",
            "  warnings.warn(\n"
          ]
        }
      ],
      "source": [
        "# Model and its parameters\n",
        "estimator = pipe_spam(classifier=SVC())\n",
        "\n",
        "parameters = [\n",
        "    {\n",
        "        'prep__vectorizer__countvect': [CountVectorizer(), TfidfVectorizer()],\n",
        "        #'prep__vectorizer__countvect__ngram_range' : [(1, 1), (1, 2), (1, 3), (1, 4)],\n",
        "        #'prep__vectorizer__countvect__max_features': [500, 1000, 3000, 5000, 8000, None],\n",
        "        'clf__kernel': ('linear', 'rbf'),\n",
        "        'clf__C' : [1, 3, 5, 7, 9]\n",
        "    }\n",
        "]\n",
        "\n",
        "# Results\n",
        "SVM_results = getClassifResults(data=df, estimator=estimator, parameters=parameters)"
      ]
    },
    {
      "cell_type": "code",
      "execution_count": null,
      "metadata": {
        "colab": {
          "base_uri": "https://localhost:8080/"
        },
        "id": "e6D_Kp6EFMYg",
        "outputId": "f6c92496-5763-427c-f948-5622da786ced"
      },
      "outputs": [
        {
          "name": "stdout",
          "output_type": "stream",
          "text": [
            "Best model: {'clf__C': 7, 'clf__kernel': 'linear', 'prep__vectorizer__countvect': TfidfVectorizer()} \n",
            "Training time (sec): 1.5199 \n",
            "Training score (Recall): 0.988 \n",
            "Test score (Recall): 0.9871 \n",
            "Test score (Fbeta): 0.9869 \n"
          ]
        }
      ],
      "source": [
        "# Retrieve results\n",
        "print(f\"Best model: {SVM_results['fitted_model']['best_params']} \")\n",
        "print(f\"Training time (sec): {SVM_results['fitted_model']['training_time']} \")\n",
        "print(f\"Training score (Recall): {SVM_results['fitted_model']['best_score']} \")\n",
        "print(f\"Test score (Recall): {SVM_results['test_score']['recall_score']} \")\n",
        "print(f\"Test score (Fbeta): {SVM_results['test_score']['fbeta_score']} \")"
      ]
    },
    {
      "cell_type": "markdown",
      "metadata": {
        "id": "EWjLKpKCveYy"
      },
      "source": [
        "##9.6 Sélection de modèle\n",
        "À partir des modèles précédents et des performances obtenues, nous retiendrons le `MultinomialNB()` pour à la fois sa rapidité, sa performance et son interprétabilité."
      ]
    },
    {
      "cell_type": "markdown",
      "metadata": {
        "id": "VSrNkIab_XdI"
      },
      "source": [
        "#10 Analyse des erreurs du modèle\n",
        "Il s'agit ici de se focaliser sur les messages qui ont été mal classés :\n",
        "- les messages Ham détectés comme des Spam, erreur de type 1\n",
        "- les messages Spam détectés comme des Ham, erreur de type 2"
      ]
    },
    {
      "cell_type": "markdown",
      "metadata": {
        "id": "HKtLcYNr_7so"
      },
      "source": [
        "##10.1 Messages Spam détectés Ham"
      ]
    },
    {
      "cell_type": "markdown",
      "metadata": {
        "id": "iAppo9jof6ef"
      },
      "source": [
        "###10.1.1 Extraction des messages"
      ]
    },
    {
      "cell_type": "code",
      "execution_count": null,
      "metadata": {
        "colab": {
          "base_uri": "https://localhost:8080/"
        },
        "id": "6hp9r99qAB_3",
        "outputId": "4788bd66-9951-473c-9a69-53397208d0d0"
      },
      "outputs": [
        {
          "name": "stdout",
          "output_type": "stream",
          "text": [
            "['ham' 'spam' 'ham' ... 'spam' 'ham' 'ham']\n",
            "4942     ham\n",
            "3063    spam\n",
            "2325     ham\n",
            "4259     ham\n",
            "2067     ham\n",
            "        ... \n",
            "2412    spam\n",
            "2389     ham\n",
            "1224    spam\n",
            "4827     ham\n",
            "1481     ham\n",
            "Name: label, Length: 1393, dtype: object\n"
          ]
        }
      ],
      "source": [
        "# Etape 1 : récupération des données de test et de prediction\n",
        "y_pred = MNB_results['test_score']['prediction']\n",
        "print(y_pred)\n",
        "print(y_test)"
      ]
    },
    {
      "cell_type": "code",
      "execution_count": null,
      "metadata": {
        "colab": {
          "base_uri": "https://localhost:8080/"
        },
        "id": "jhgzVvVof-KI",
        "outputId": "34dbef59-88b3-4586-dd72-a8a81a5b1500"
      },
      "outputs": [
        {
          "name": "stdout",
          "output_type": "stream",
          "text": [
            "[False, True, False, False, False, False, False, False, True, False, False, False, True, False, False, True, True, False, False, False, False, True, False, True, False, False, False, False, False, False, False, True, False, False, False, False, False, False, False, False, True, False, True, False, False, True, False, False, False, False, False, False, False, False, False, False, True, False, False, False, False, True, False, False, False, False, False, False, False, False, False, False, False, False, False, True, False, False, True, False, False, False, False, True, False, False, False, False, False, False, False, False, False, False, False, False, True, False, True, False, False, False, False, False, False, False, False, False, False, True, False, False, False, False, True, False, False, False, False, False, False, False, False, False, False, False, False, True, False, False, False, False, False, False, True, False, False, False, False, False, False, False, False, False, False, False, False, False, True, False, False, False, False, False, False, False, False, False, False, False, False, True, False, False, False, False, False, False, False, False, False, False, False, False, False, False, False, False, False, False, False, False, False, False, False, False, False, False, True, False, False, False, False, True, False, False, False, True, False, False, False, False, False, False, False, False, False, False, False, False, False, False, True, False, False, False, False, False, False, False, False, False, False, False, False, False, False, False, False, True, False, False, False, False, False, True, True, False, False, False, True, True, True, False, False, False, False, False, False, False, False, False, False, False, True, False, False, False, False, False, True, False, False, False, False, False, True, False, True, False, False, False, True, False, True, False, False, False, False, False, False, False, False, False, False, False, False, False, True, False, False, False, False, False, False, False, False, False, False, False, False, False, False, False, False, True, False, False, False, False, False, False, False, False, False, True, False, False, False, True, False, False, False, True, False, False, False, False, False, False, False, False, False, False, False, False, False, True, False, False, False, False, True, False, False, False, False, False, False, False, False, False, False, False, False, False, False, False, False, False, False, False, False, True, False, False, False, False, False, False, False, False, False, True, False, False, False, False, False, False, False, True, True, False, False, False, False, False, False, False, False, True, True, False, False, True, False, False, False, False, False, True, False, False, False, False, False, False, False, False, False, False, False, False, False, False, True, False, False, False, False, False, True, False, False, False, False, False, False, False, False, False, False, False, False, False, False, True, True, False, False, False, False, False, False, False, False, False, False, False, False, False, False, False, False, False, False, False, False, False, False, False, False, False, False, False, False, False, True, False, False, False, False, False, False, False, True, False, False, False, False, False, False, False, True, False, False, False, False, False, False, False, True, False, False, False, True, True, False, False, True, False, False, False, False, False, False, False, False, False, False, False, False, False, False, False, False, False, False, False, False, False, False, False, False, False, True, False, False, False, False, False, False, False, False, False, False, False, False, False, False, False, True, False, False, False, True, True, False, False, False, False, False, False, False, False, True, False, False, False, False, True, False, False, False, False, True, False, False, False, False, False, True, True, True, False, False, False, True, False, False, True, False, False, False, True, False, False, False, False, False, False, True, False, False, False, False, True, False, False, False, False, False, True, False, False, False, False, False, False, True, False, False, True, False, False, False, False, False, False, True, False, False, False, False, True, False, False, False, False, False, True, False, True, False, True, False, False, False, False, False, True, False, False, True, True, False, False, False, False, False, False, False, False, False, False, False, False, False, False, False, False, False, False, False, False, False, False, False, False, False, False, False, True, True, False, False, False, False, False, False, False, False, False, True, False, False, False, False, False, False, False, False, True, False, True, False, False, False, False, False, False, False, False, False, False, False, False, False, True, False, True, False, False, False, False, False, False, False, False, True, False, False, False, False, False, False, False, False, False, False, False, True, False, False, False, False, False, False, True, False, False, False, True, False, False, True, True, False, False, False, False, False, False, False, False, True, False, False, False, False, False, False, False, False, False, True, False, True, False, False, False, False, False, True, False, False, False, False, False, False, False, True, False, True, False, True, False, True, False, False, False, False, False, False, False, False, False, False, True, False, True, False, False, False, False, False, True, False, False, False, False, False, False, False, False, False, False, False, False, False, False, False, False, False, False, True, False, False, False, True, False, False, False, False, False, False, False, False, False, False, False, False, False, False, False, False, False, True, False, False, True, False, False, False, False, False, True, False, False, False, False, False, False, False, False, False, False, False, False, False, False, False, False, False, True, False, False, True, False, False, False, True, False, False, False, False, False, False, False, False, False, False, False, False, False, False, False, False, False, False, False, True, True, False, False, False, False, False, False, True, False, False, False, False, False, False, False, False, False, False, False, False, False, False, True, False, False, False, False, False, False, False, False, False, False, True, False, False, False, False, False, False, False, False, False, False, False, False, False, False, False, False, False, False, False, False, False, False, False, False, False, False, False, False, False, False, False, False, False, False, False, False, True, False, True, False, False, False, False, False, False, False, False, False, False, False, False, True, False, False, False, False, False, False, False, True, False, False, True, False, False, False, False, False, False, True, False, True, False, False, False, False, False, False, False, False, False, False, False, False, False, False, True, False, False, False, False, False, False, False, False, False, True, False, False, False, False, False, False, True, False, False, False, False, False, False, False, False, True, False, False, False, False, False, False, True, False, False, False, False, False, False, False, True, False, True, False, True, True, False, False, False, False, False, False, False, False, False, False, False, False, False, False, False, False, False, False, False, False, False, False, False, False, False, False, False, False, False, False, False, False, False, False, False, True, False, True, False, False, True, False, False, False, False, False, True, True, False, False, False, False, False, False, False, False, False, False, False, False, True, False, False, True, False, False, False, False, True, False, False, False, False, False, False, False, False, False, False, False, True, True, False, False, False, True, False, False, False, False, False, False, False, False, False, False, False, False, False, True, False, False, True, False, False, False, False, False, False, False, False, True, False, False, False, False, False, False, True, False, False, False, False, False, True, False, False, False, False, True, False, False, False, False, False, True, False, False, False, False, False, False, False, False, False, True, False, False, False, False, False, False, False, False, False, False, False, False, False, False, False, False, False, False, False, False, False, False, False, False, False, False, True, False, False, False, False, False, True, False, True, False, False, False, False, True, False, False, False, False, True, False, False, False, False, False, False, False, False, False, False, False, True, False, False, True, False, False, False, False, True, False, False, False, False, False, False, False, False, False, False, False, False, False, False, True, False, False, False, False, False, False, False, False, False, False, False, False, False, True, False, False, False, False, False, False, False, False, False, False, False, False, False, False, False, False, False, False, False, False, False, False, True, False, False, False, False, True, False, False, False, False, False, False, False, True, True, False, True, False, False, False, False, False, False, False, True, False, False, False, False, False, False, False, True, False, False, False, True, True, False, False, False, False, False, False, False, True, False, False, False, False, False, False, True, False, False, False, True, False, True, False, False]\n",
            "[True, False, True, True, True, True, True, True, False, True, True, True, False, True, True, False, False, True, True, True, True, False, True, True, True, True, True, True, True, True, True, False, True, True, True, True, True, True, True, True, False, True, False, True, True, False, True, True, True, True, True, True, True, True, True, True, False, True, True, True, True, False, True, True, True, True, True, True, True, True, True, True, True, True, True, False, True, True, False, True, True, True, True, True, True, True, True, True, True, True, True, True, True, True, True, True, False, True, False, True, True, True, True, True, True, True, True, True, True, False, True, True, True, True, False, True, True, True, True, True, True, True, True, True, True, True, True, False, True, True, True, True, True, True, True, True, True, True, True, True, True, True, True, True, True, True, True, True, False, True, True, True, True, True, True, True, True, True, True, True, True, False, True, True, True, True, True, True, True, True, True, True, True, True, True, True, True, True, True, True, True, True, True, True, True, True, True, True, False, True, True, True, True, False, True, True, False, False, True, True, True, True, False, True, True, True, True, True, True, True, True, True, False, True, True, True, True, True, True, True, True, True, True, True, True, True, True, True, True, False, True, True, True, True, True, False, False, True, True, True, False, False, False, True, True, True, True, True, True, True, True, True, True, True, False, True, True, True, True, True, False, True, True, True, True, True, False, True, False, True, True, True, False, True, False, True, True, True, True, True, True, True, True, True, True, True, True, True, False, True, True, True, True, True, True, True, True, True, True, True, True, True, True, True, True, False, True, True, True, True, True, True, True, True, True, False, True, True, True, False, True, True, True, False, True, True, True, True, True, True, True, True, True, True, True, True, True, False, True, True, True, True, False, True, True, True, True, True, True, True, True, True, True, True, True, True, True, True, True, True, True, True, True, False, True, True, True, True, True, True, True, True, True, False, True, True, True, True, True, True, True, False, False, True, True, True, True, True, True, True, True, False, False, True, True, False, True, True, True, True, True, False, True, True, True, True, True, True, True, True, True, True, True, True, True, True, False, True, True, True, True, True, False, True, True, True, True, True, True, True, True, True, True, True, True, True, True, False, False, True, True, True, True, True, True, True, True, True, True, True, True, True, True, True, True, True, True, True, True, True, True, True, True, True, True, True, True, True, False, True, True, True, True, True, True, True, False, True, True, True, True, True, True, True, False, True, True, True, True, True, True, True, False, True, True, True, False, False, True, True, False, True, True, True, True, True, True, True, True, True, True, True, True, True, True, True, True, True, True, True, True, True, True, True, True, True, False, True, True, True, True, True, True, True, True, True, True, True, True, True, True, True, False, True, True, True, False, False, True, True, True, True, True, True, True, True, False, True, True, True, True, False, True, True, True, True, False, True, True, True, True, True, True, True, False, True, True, False, False, True, True, False, True, True, True, False, True, True, True, True, True, True, True, True, True, True, True, False, True, True, True, True, True, False, True, True, True, True, True, True, False, True, True, True, True, True, True, True, True, True, False, True, True, True, True, False, True, True, True, True, True, False, True, False, True, False, True, True, True, True, True, False, True, True, False, False, True, True, True, True, True, True, True, True, True, True, True, True, True, True, True, True, True, True, True, True, True, True, True, True, True, True, True, False, False, True, True, True, True, True, True, True, True, True, False, True, True, True, True, True, True, True, True, False, True, False, True, True, True, True, True, True, True, True, True, True, True, True, True, False, True, True, True, True, True, True, True, True, True, True, False, True, True, True, True, True, True, True, True, True, True, True, False, True, True, True, True, True, True, False, True, True, True, False, True, True, False, False, True, True, True, True, True, True, True, True, False, True, True, True, True, True, True, True, True, True, False, True, False, True, True, True, True, True, True, True, True, True, True, True, True, True, True, True, False, True, False, True, False, True, True, True, True, True, False, True, True, True, True, False, True, False, True, True, True, True, True, False, True, True, True, True, True, True, True, True, True, True, True, True, True, True, True, True, True, True, False, True, True, True, False, True, True, True, True, True, True, True, True, True, True, True, True, True, True, True, True, True, False, True, True, False, True, True, True, True, True, False, True, True, True, True, True, True, True, True, True, True, True, True, True, True, True, True, True, False, True, True, False, True, True, True, False, True, True, True, True, True, True, True, True, True, True, True, True, True, True, True, True, True, True, True, False, False, True, True, True, True, True, True, True, True, True, True, True, True, True, True, True, True, True, True, True, True, True, False, True, True, True, True, True, True, True, True, True, True, False, True, True, True, True, True, True, True, True, True, True, True, True, True, True, True, True, True, True, True, True, True, True, True, True, True, True, True, True, True, True, True, True, True, True, True, True, False, True, False, True, True, True, True, True, True, True, True, True, True, True, True, False, True, True, True, True, True, True, True, False, True, True, False, True, True, True, True, True, True, False, True, False, True, True, True, True, True, True, True, True, True, True, True, True, True, True, False, True, True, True, True, True, True, True, True, True, True, True, True, True, True, True, True, False, True, True, True, True, True, True, True, True, False, True, True, True, True, True, True, False, True, True, True, True, True, True, True, False, True, True, True, False, False, True, True, True, True, True, True, True, True, True, True, True, True, True, True, True, True, True, True, True, True, True, True, True, True, True, True, True, True, True, True, True, True, True, True, True, False, True, False, True, True, False, True, True, True, True, True, False, False, True, True, True, True, True, True, True, True, True, True, True, True, False, True, True, False, True, True, True, True, False, True, True, True, True, True, True, True, True, True, True, True, False, False, True, True, True, False, True, True, True, True, True, True, True, True, True, True, True, True, True, False, True, True, False, True, True, True, True, True, True, True, True, False, True, True, True, True, True, True, False, True, True, True, True, True, False, True, True, True, True, False, True, True, True, True, True, False, True, True, True, True, True, True, True, True, True, False, True, True, True, True, True, True, True, True, True, True, True, True, True, True, True, True, True, True, True, True, True, True, True, True, True, True, False, True, True, True, True, True, False, True, False, True, True, True, True, False, True, True, True, True, False, True, True, True, True, True, True, True, True, True, True, True, False, True, True, False, True, True, True, True, False, True, True, True, True, True, True, True, True, True, True, True, True, True, True, False, True, True, True, True, True, True, True, True, True, True, True, True, True, False, True, True, True, True, True, True, False, True, True, True, True, True, True, True, True, True, True, True, True, True, True, True, False, True, True, True, True, False, True, True, True, True, True, True, True, False, False, True, False, True, True, True, True, True, True, True, False, True, True, True, True, True, True, True, False, True, True, True, False, False, True, True, True, True, True, True, True, False, True, True, True, True, True, True, False, True, True, True, False, True, False, True, True]\n"
          ]
        }
      ],
      "source": [
        "# Etape 2 : test selon conditions pour erreur de type 2\n",
        "print(list(y_test == 'spam'))\n",
        "print(list(y_pred == 'ham'))\n"
      ]
    },
    {
      "cell_type": "code",
      "execution_count": null,
      "metadata": {
        "colab": {
          "base_uri": "https://localhost:8080/"
        },
        "id": "5fSIqdr8f-Hh",
        "outputId": "b0f5f964-4fae-4929-d9f3-4c769bb851e1"
      },
      "outputs": [
        {
          "name": "stdout",
          "output_type": "stream",
          "text": [
            "[False, False, False, False, False, False, False, False, False, False, False, False, False, False, False, False, False, False, False, False, False, False, False, True, False, False, False, False, False, False, False, False, False, False, False, False, False, False, False, False, False, False, False, False, False, False, False, False, False, False, False, False, False, False, False, False, False, False, False, False, False, False, False, False, False, False, False, False, False, False, False, False, False, False, False, False, False, False, False, False, False, False, False, True, False, False, False, False, False, False, False, False, False, False, False, False, False, False, False, False, False, False, False, False, False, False, False, False, False, False, False, False, False, False, False, False, False, False, False, False, False, False, False, False, False, False, False, False, False, False, False, False, False, False, True, False, False, False, False, False, False, False, False, False, False, False, False, False, False, False, False, False, False, False, False, False, False, False, False, False, False, False, False, False, False, False, False, False, False, False, False, False, False, False, False, False, False, False, False, False, False, False, False, False, False, False, False, False, False, False, False, False, False, False, False, False, True, False, False, False, False, False, True, False, False, False, False, False, False, False, False, False, False, False, False, False, False, False, False, False, False, False, False, False, False, False, False, False, False, False, False, False, False, False, False, False, False, False, False, False, False, False, False, False, False, False, False, False, False, False, False, False, False, False, False, False, False, False, False, False, False, False, False, False, False, False, False, False, False, False, False, False, False, False, False, False, False, False, False, False, False, False, False, False, False, False, False, False, False, False, False, False, False, False, False, False, False, False, False, False, False, False, False, False, False, False, False, False, False, False, False, False, False, False, False, False, False, False, False, False, False, False, False, False, False, False, False, False, False, False, False, False, False, False, False, False, False, False, False, False, False, False, False, False, False, False, False, False, False, False, False, False, False, False, False, False, False, False, False, False, False, False, False, False, False, False, False, False, False, False, False, False, False, False, False, False, False, False, False, False, False, False, False, False, False, False, False, False, False, False, False, False, False, False, False, False, False, False, False, False, False, False, False, False, False, False, False, False, False, False, False, False, False, False, False, False, False, False, False, False, False, False, False, False, False, False, False, False, False, False, False, False, False, False, False, False, False, False, False, False, False, False, False, False, False, False, False, False, False, False, False, False, False, False, False, False, False, False, False, False, False, False, False, False, False, False, False, False, False, False, False, False, False, False, False, False, False, False, False, False, False, False, False, False, False, False, False, False, False, False, False, False, False, False, False, False, False, False, False, False, False, False, False, False, False, False, False, False, False, False, False, False, False, False, False, False, False, False, False, False, False, False, False, False, False, False, False, False, False, False, False, False, False, False, False, False, False, False, False, False, False, False, False, False, False, False, False, False, False, False, False, False, False, False, False, False, False, False, False, False, False, False, False, False, False, False, False, False, False, False, False, False, True, True, False, False, False, True, False, False, False, False, False, False, False, False, False, False, False, False, False, False, True, False, False, False, False, False, False, False, False, False, False, False, False, False, False, False, False, False, False, False, False, True, False, False, False, False, False, False, False, False, False, False, False, False, False, False, False, False, False, False, False, False, False, False, False, False, False, False, False, False, False, False, False, False, False, False, False, False, False, False, False, False, False, False, False, False, False, False, False, False, False, False, False, False, False, False, False, False, False, False, False, False, False, False, False, False, False, False, False, False, False, False, False, False, False, False, False, False, False, False, False, False, False, False, False, False, False, False, False, False, False, False, False, False, False, False, False, False, False, True, False, False, False, False, False, False, False, False, False, False, False, False, False, False, False, False, False, False, False, False, False, False, False, False, False, False, False, False, False, False, False, False, False, False, False, False, False, False, False, False, False, False, False, False, False, False, False, False, False, False, False, False, False, False, False, False, False, False, False, False, False, False, True, False, False, False, False, False, False, False, True, False, False, False, False, False, False, False, False, False, False, False, True, False, False, False, False, False, False, False, False, False, False, False, False, False, False, False, False, False, False, False, False, False, False, False, False, False, False, False, False, False, False, False, False, False, False, False, False, False, False, False, False, False, False, False, False, False, False, False, False, False, False, False, False, False, False, False, False, False, False, False, False, False, False, False, False, False, False, False, False, False, False, False, False, False, False, False, False, False, False, False, False, False, False, False, False, False, False, False, False, False, False, False, False, False, False, False, False, False, False, False, False, False, False, False, False, False, False, False, False, False, False, False, False, False, False, False, True, False, False, False, False, False, False, False, False, False, False, False, False, False, False, False, False, False, False, False, False, False, False, False, False, False, False, False, False, False, False, False, False, False, False, False, False, False, False, False, False, False, False, False, False, False, False, False, False, False, False, False, False, False, False, False, False, False, False, False, False, False, False, False, False, False, False, False, False, False, False, False, False, False, False, False, False, False, False, False, False, False, False, False, False, False, False, False, False, False, False, False, False, False, False, False, False, False, False, False, False, False, False, False, False, False, False, False, False, False, False, False, False, False, False, False, False, False, False, False, False, False, False, True, False, False, False, False, False, False, False, False, False, False, False, False, False, False, False, False, False, False, False, False, False, False, False, False, False, False, False, False, False, False, False, False, True, False, False, False, False, False, False, False, False, False, False, False, False, False, False, False, False, False, False, False, False, False, False, False, False, False, False, False, False, False, False, False, False, False, False, False, False, False, False, False, False, False, False, False, False, False, False, False, False, False, False, False, False, False, False, False, False, False, False, False, False, False, False, False, False, False, False, False, False, False, False, False, False, False, False, False, False, False, False, False, False, False, False, False, False, False, False, False, False, False, False, False, False, False, False, False, False, False, False, False, False, False, False, False, False, False, False, False, False, False, False, False, False, False, False, False, False, False, False, False, False, False, False, False, False, False, False, False, False, False, False, False, False, False, False, False, False, False, False, False, False, False, False, False, False, False, False, False, False, False, False, False, False, False, False, False, False, False, False, False, False, False, False, False, False, False, False, False, False, False, False, False, False, False, False, False, False, False, False, False, False, False, False, False, False, False, False, False, False, False, False, False, False, False, False, False, False, False, False, False, False, False, False, False, False, False, False, False, False, False, False, False, False, False, False, False, False, False, False, False, False, False, False, False, False, False, False, False, False, False, False, False, False, False, False, False, False, False, False, False, False, False, False, False, False, False, False, False, False, False, True, False, False, False, False, False, False, False, False, False, False, False, False, False, False, False, False, False, False, False, False, False, False, False, False, False, False, False, False, False, False, False, False, False, False, False, False, False, False, False, False, False, False, False, False, False, False, False, False, False, False, False, False, False, False, False, False, False, False, False, False, False, False, False, False, False, False, False, False, False, False, False, False, False, False, False, False]\n"
          ]
        }
      ],
      "source": [
        "# Etape 3 : fonction de test de correspondance et d'extraction\n",
        "def compareList(test, pred, label):\n",
        "    # Booléen - Liste des messages réels correspondant à 'label' (spam/ham)\n",
        "    list_test = list(test == label)\n",
        "\n",
        "    # Booléen - Liste des messages prédits correspondant à 'label' (spam/ham)\n",
        "    list_pred = list(pred != label)\n",
        "\n",
        "    # Test des 2 listes de booléens quand égalité\n",
        "    return [i==j for i, j in zip(list_test, list_pred)]\n",
        "\n",
        "print(compareList(test=y_test, pred=y_pred, label='spam'))"
      ]
    },
    {
      "cell_type": "code",
      "execution_count": null,
      "metadata": {
        "colab": {
          "base_uri": "https://localhost:8080/"
        },
        "id": "LUV3M4jmf-FA",
        "outputId": "8f801893-b903-4b0c-914a-b978f504c8b1"
      },
      "outputs": [
        {
          "name": "stdout",
          "output_type": "stream",
          "text": [
            "                                                message  length  word_count\n",
            "3359  Sorry I missed your call let's talk when you h...      78          15\n",
            "750   Do you realize that in about 40 years, we'll h...     102          18\n",
            "2822  ROMCAPspam Everyone around should be respondin...     152          26\n",
            "3414                            No pic. Please re-send.      23           4\n",
            "3889                  Unlimited texts. Limited minutes.      33           4\n",
            "3980                                 ringtoneking 84484      18           2\n",
            "2246  Hi ya babe x u 4goten bout me?' scammers getti...     181          31\n",
            "395   From here after The performance award is calcu...     102          16\n",
            "1939  More people are dogging in your area now. Call...     159          27\n",
            "1662  Hi if ur lookin 4 saucy daytime fun wiv busty ...     159          25\n",
            "1268  Can U get 2 phone NOW? I wanna chat 2 set up m...     146          27\n",
            "5539  ASKED 3MOBILE IF 0870 CHATLINES INCLU IN FREE ...     158          33\n",
            "3301           RCT' THNQ Adrian for U text. Rgds Vatian      40           8\n",
            "4701                             I liked the new mobile      22           5\n",
            "1637  0A$NETWORKS allow companies to bill for SMS, s...     155          29\n",
            "1429  For sale - arsenal dartboard. Good condition b...      71          12\n",
            "730   Email AlertFrom: Jeri StewartSize: 2KBSubject:...     101          13\n",
            "4599            Have you laid your airtel line to rest?      39           8\n"
          ]
        }
      ],
      "source": [
        "# Etape 4 : récupération des messages pour les erreurs de type 2\n",
        "erreur_type2 = compareList(test=y_test, pred=y_pred, label='spam')\n",
        "msg_erreur_type2 = X_test[erreur_type2]\n",
        "\n",
        "print(msg_erreur_type2)"
      ]
    },
    {
      "cell_type": "markdown",
      "metadata": {
        "id": "cv0UincY_zHA"
      },
      "source": [
        "##10.2 Messages Ham détectés Spam"
      ]
    },
    {
      "cell_type": "code",
      "execution_count": null,
      "metadata": {
        "id": "jS0mUk4D_yiy"
      },
      "outputs": [],
      "source": [
        "# To do : based on previous section"
      ]
    },
    {
      "cell_type": "markdown",
      "metadata": {
        "id": "sdT8MjIXgCNx"
      },
      "source": [
        "## 10.3 Investigations\n",
        "A partir de maintenant plusieurs pistes sont à investiguer afin d'évaluer si les facteurs suivants sont potentiellement responsables d'une mauvaise détection :\n",
        "- longueur des messages\n",
        "- présence de chiffres, caractèes spéciaux\n",
        "- vocabulaire\n",
        "- etc.\n",
        "\n",
        "Bien sûr une bonne compréhension du modèle permettra de rendre cette investigation plus efficace !"
      ]
    },
    {
      "cell_type": "markdown",
      "metadata": {
        "id": "XwPLzVsYgEfO"
      },
      "source": [
        "#11 Feature importance"
      ]
    },
    {
      "cell_type": "markdown",
      "metadata": {
        "id": "_l9E28Z0gH12"
      },
      "source": [
        "##11.1 Modèle final"
      ]
    },
    {
      "cell_type": "code",
      "execution_count": null,
      "metadata": {
        "colab": {
          "base_uri": "https://localhost:8080/",
          "height": 191
        },
        "id": "QDWE1w8QkHLZ",
        "outputId": "6347a35c-c78f-48a4-872c-b3dbc085cc76"
      },
      "outputs": [
        {
          "data": {
            "text/html": [
              "<style>#sk-container-id-8 {color: black;background-color: white;}#sk-container-id-8 pre{padding: 0;}#sk-container-id-8 div.sk-toggleable {background-color: white;}#sk-container-id-8 label.sk-toggleable__label {cursor: pointer;display: block;width: 100%;margin-bottom: 0;padding: 0.3em;box-sizing: border-box;text-align: center;}#sk-container-id-8 label.sk-toggleable__label-arrow:before {content: \"▸\";float: left;margin-right: 0.25em;color: #696969;}#sk-container-id-8 label.sk-toggleable__label-arrow:hover:before {color: black;}#sk-container-id-8 div.sk-estimator:hover label.sk-toggleable__label-arrow:before {color: black;}#sk-container-id-8 div.sk-toggleable__content {max-height: 0;max-width: 0;overflow: hidden;text-align: left;background-color: #f0f8ff;}#sk-container-id-8 div.sk-toggleable__content pre {margin: 0.2em;color: black;border-radius: 0.25em;background-color: #f0f8ff;}#sk-container-id-8 input.sk-toggleable__control:checked~div.sk-toggleable__content {max-height: 200px;max-width: 100%;overflow: auto;}#sk-container-id-8 input.sk-toggleable__control:checked~label.sk-toggleable__label-arrow:before {content: \"▾\";}#sk-container-id-8 div.sk-estimator input.sk-toggleable__control:checked~label.sk-toggleable__label {background-color: #d4ebff;}#sk-container-id-8 div.sk-label input.sk-toggleable__control:checked~label.sk-toggleable__label {background-color: #d4ebff;}#sk-container-id-8 input.sk-hidden--visually {border: 0;clip: rect(1px 1px 1px 1px);clip: rect(1px, 1px, 1px, 1px);height: 1px;margin: -1px;overflow: hidden;padding: 0;position: absolute;width: 1px;}#sk-container-id-8 div.sk-estimator {font-family: monospace;background-color: #f0f8ff;border: 1px dotted black;border-radius: 0.25em;box-sizing: border-box;margin-bottom: 0.5em;}#sk-container-id-8 div.sk-estimator:hover {background-color: #d4ebff;}#sk-container-id-8 div.sk-parallel-item::after {content: \"\";width: 100%;border-bottom: 1px solid gray;flex-grow: 1;}#sk-container-id-8 div.sk-label:hover label.sk-toggleable__label {background-color: #d4ebff;}#sk-container-id-8 div.sk-serial::before {content: \"\";position: absolute;border-left: 1px solid gray;box-sizing: border-box;top: 0;bottom: 0;left: 50%;z-index: 0;}#sk-container-id-8 div.sk-serial {display: flex;flex-direction: column;align-items: center;background-color: white;padding-right: 0.2em;padding-left: 0.2em;position: relative;}#sk-container-id-8 div.sk-item {position: relative;z-index: 1;}#sk-container-id-8 div.sk-parallel {display: flex;align-items: stretch;justify-content: center;background-color: white;position: relative;}#sk-container-id-8 div.sk-item::before, #sk-container-id-8 div.sk-parallel-item::before {content: \"\";position: absolute;border-left: 1px solid gray;box-sizing: border-box;top: 0;bottom: 0;left: 50%;z-index: -1;}#sk-container-id-8 div.sk-parallel-item {display: flex;flex-direction: column;z-index: 1;position: relative;background-color: white;}#sk-container-id-8 div.sk-parallel-item:first-child::after {align-self: flex-end;width: 50%;}#sk-container-id-8 div.sk-parallel-item:last-child::after {align-self: flex-start;width: 50%;}#sk-container-id-8 div.sk-parallel-item:only-child::after {width: 0;}#sk-container-id-8 div.sk-dashed-wrapped {border: 1px dashed gray;margin: 0 0.4em 0.5em 0.4em;box-sizing: border-box;padding-bottom: 0.4em;background-color: white;}#sk-container-id-8 div.sk-label label {font-family: monospace;font-weight: bold;display: inline-block;line-height: 1.2em;}#sk-container-id-8 div.sk-label-container {text-align: center;}#sk-container-id-8 div.sk-container {/* jupyter's `normalize.less` sets `[hidden] { display: none; }` but bootstrap.min.css set `[hidden] { display: none !important; }` so we also need the `!important` here to be able to override the default hidden behavior on the sphinx rendered scikit-learn.org. See: https://github.com/scikit-learn/scikit-learn/issues/21755 */display: inline-block !important;position: relative;}#sk-container-id-8 div.sk-text-repr-fallback {display: none;}</style><div id=\"sk-container-id-8\" class=\"sk-top-container\"><div class=\"sk-text-repr-fallback\"><pre>Pipeline(steps=[(&#x27;prep&#x27;,\n",
              "                 ColumnTransformer(transformers=[(&#x27;scaler&#x27;,\n",
              "                                                  Pipeline(steps=[(&#x27;minmax&#x27;,\n",
              "                                                                   MinMaxScaler())]),\n",
              "                                                  [&#x27;length&#x27;, &#x27;word_count&#x27;]),\n",
              "                                                 (&#x27;vectorizer&#x27;,\n",
              "                                                  Pipeline(steps=[(&#x27;countvect&#x27;,\n",
              "                                                                   CountVectorizer(ngram_range=(1,\n",
              "                                                                                                2),\n",
              "                                                                                   stop_words=&#x27;english&#x27;))]),\n",
              "                                                  &#x27;message&#x27;)])),\n",
              "                (&#x27;clf&#x27;, MultinomialNB(force_alpha=True))])</pre><b>In a Jupyter environment, please rerun this cell to show the HTML representation or trust the notebook. <br />On GitHub, the HTML representation is unable to render, please try loading this page with nbviewer.org.</b></div><div class=\"sk-container\" hidden><div class=\"sk-item sk-dashed-wrapped\"><div class=\"sk-label-container\"><div class=\"sk-label sk-toggleable\"><input class=\"sk-toggleable__control sk-hidden--visually\" id=\"sk-estimator-id-38\" type=\"checkbox\" ><label for=\"sk-estimator-id-38\" class=\"sk-toggleable__label sk-toggleable__label-arrow\">Pipeline</label><div class=\"sk-toggleable__content\"><pre>Pipeline(steps=[(&#x27;prep&#x27;,\n",
              "                 ColumnTransformer(transformers=[(&#x27;scaler&#x27;,\n",
              "                                                  Pipeline(steps=[(&#x27;minmax&#x27;,\n",
              "                                                                   MinMaxScaler())]),\n",
              "                                                  [&#x27;length&#x27;, &#x27;word_count&#x27;]),\n",
              "                                                 (&#x27;vectorizer&#x27;,\n",
              "                                                  Pipeline(steps=[(&#x27;countvect&#x27;,\n",
              "                                                                   CountVectorizer(ngram_range=(1,\n",
              "                                                                                                2),\n",
              "                                                                                   stop_words=&#x27;english&#x27;))]),\n",
              "                                                  &#x27;message&#x27;)])),\n",
              "                (&#x27;clf&#x27;, MultinomialNB(force_alpha=True))])</pre></div></div></div><div class=\"sk-serial\"><div class=\"sk-item sk-dashed-wrapped\"><div class=\"sk-label-container\"><div class=\"sk-label sk-toggleable\"><input class=\"sk-toggleable__control sk-hidden--visually\" id=\"sk-estimator-id-39\" type=\"checkbox\" ><label for=\"sk-estimator-id-39\" class=\"sk-toggleable__label sk-toggleable__label-arrow\">prep: ColumnTransformer</label><div class=\"sk-toggleable__content\"><pre>ColumnTransformer(transformers=[(&#x27;scaler&#x27;,\n",
              "                                 Pipeline(steps=[(&#x27;minmax&#x27;, MinMaxScaler())]),\n",
              "                                 [&#x27;length&#x27;, &#x27;word_count&#x27;]),\n",
              "                                (&#x27;vectorizer&#x27;,\n",
              "                                 Pipeline(steps=[(&#x27;countvect&#x27;,\n",
              "                                                  CountVectorizer(ngram_range=(1,\n",
              "                                                                               2),\n",
              "                                                                  stop_words=&#x27;english&#x27;))]),\n",
              "                                 &#x27;message&#x27;)])</pre></div></div></div><div class=\"sk-parallel\"><div class=\"sk-parallel-item\"><div class=\"sk-item\"><div class=\"sk-label-container\"><div class=\"sk-label sk-toggleable\"><input class=\"sk-toggleable__control sk-hidden--visually\" id=\"sk-estimator-id-40\" type=\"checkbox\" ><label for=\"sk-estimator-id-40\" class=\"sk-toggleable__label sk-toggleable__label-arrow\">scaler</label><div class=\"sk-toggleable__content\"><pre>[&#x27;length&#x27;, &#x27;word_count&#x27;]</pre></div></div></div><div class=\"sk-serial\"><div class=\"sk-item\"><div class=\"sk-serial\"><div class=\"sk-item\"><div class=\"sk-estimator sk-toggleable\"><input class=\"sk-toggleable__control sk-hidden--visually\" id=\"sk-estimator-id-41\" type=\"checkbox\" ><label for=\"sk-estimator-id-41\" class=\"sk-toggleable__label sk-toggleable__label-arrow\">MinMaxScaler</label><div class=\"sk-toggleable__content\"><pre>MinMaxScaler()</pre></div></div></div></div></div></div></div></div><div class=\"sk-parallel-item\"><div class=\"sk-item\"><div class=\"sk-label-container\"><div class=\"sk-label sk-toggleable\"><input class=\"sk-toggleable__control sk-hidden--visually\" id=\"sk-estimator-id-42\" type=\"checkbox\" ><label for=\"sk-estimator-id-42\" class=\"sk-toggleable__label sk-toggleable__label-arrow\">vectorizer</label><div class=\"sk-toggleable__content\"><pre>message</pre></div></div></div><div class=\"sk-serial\"><div class=\"sk-item\"><div class=\"sk-serial\"><div class=\"sk-item\"><div class=\"sk-estimator sk-toggleable\"><input class=\"sk-toggleable__control sk-hidden--visually\" id=\"sk-estimator-id-43\" type=\"checkbox\" ><label for=\"sk-estimator-id-43\" class=\"sk-toggleable__label sk-toggleable__label-arrow\">CountVectorizer</label><div class=\"sk-toggleable__content\"><pre>CountVectorizer(ngram_range=(1, 2), stop_words=&#x27;english&#x27;)</pre></div></div></div></div></div></div></div></div></div></div><div class=\"sk-item\"><div class=\"sk-estimator sk-toggleable\"><input class=\"sk-toggleable__control sk-hidden--visually\" id=\"sk-estimator-id-44\" type=\"checkbox\" ><label for=\"sk-estimator-id-44\" class=\"sk-toggleable__label sk-toggleable__label-arrow\">MultinomialNB</label><div class=\"sk-toggleable__content\"><pre>MultinomialNB(force_alpha=True)</pre></div></div></div></div></div></div></div>"
            ],
            "text/plain": [
              "Pipeline(steps=[('prep',\n",
              "                 ColumnTransformer(transformers=[('scaler',\n",
              "                                                  Pipeline(steps=[('minmax',\n",
              "                                                                   MinMaxScaler())]),\n",
              "                                                  ['length', 'word_count']),\n",
              "                                                 ('vectorizer',\n",
              "                                                  Pipeline(steps=[('countvect',\n",
              "                                                                   CountVectorizer(ngram_range=(1,\n",
              "                                                                                                2),\n",
              "                                                                                   stop_words='english'))]),\n",
              "                                                  'message')])),\n",
              "                ('clf', MultinomialNB(force_alpha=True))])"
            ]
          },
          "execution_count": 118,
          "metadata": {},
          "output_type": "execute_result"
        }
      ],
      "source": [
        "# Prepare data\n",
        "df = df.drop_duplicates()\n",
        "y = df['label']\n",
        "X = df.drop('label', axis=1)\n",
        "\n",
        "# Split data\n",
        "X_train, X_test, y_train, y_test = train_test_split(X, y, test_size=0.25, random_state=42, stratify=y)\n",
        "\n",
        "# Model and its parameters\n",
        "best_estimator = pipe_spam(\n",
        "    vectorizer=CountVectorizer(max_features=None, ngram_range=(1, 2), stop_words='english'),\n",
        "    classifier=MultinomialNB(force_alpha=True)\n",
        "    )\n",
        "\n",
        "# Fit\n",
        "best_estimator.fit(X_train, y_train)"
      ]
    },
    {
      "cell_type": "markdown",
      "metadata": {
        "id": "kMwpGybQkH5z"
      },
      "source": [
        "##11.2 Features retenues pour l'apprentissage"
      ]
    },
    {
      "cell_type": "code",
      "execution_count": null,
      "metadata": {
        "colab": {
          "base_uri": "https://localhost:8080/"
        },
        "id": "B2tXzHXXkN6z",
        "outputId": "10127d38-b0bd-4a16-9ae1-adbf1ee6953c"
      },
      "outputs": [
        {
          "name": "stdout",
          "output_type": "stream",
          "text": [
            "Contribution des features - dimension de l'objet : 29412\n",
            "Features  - dimension de l'objet : 29412\n",
            "Noms des features - dimension de l'objet : 29412\n",
            "Vocabulaire après vectorisation - dimension de l'objet : 29410\n"
          ]
        }
      ],
      "source": [
        "# Vérification de la tailles des différents objets\n",
        "print(f\"Contribution des features - dimension de l'objet : {len(best_estimator.named_steps['clf'].feature_log_prob_[0])}\")\n",
        "print(f\"Features  - dimension de l'objet : {best_estimator.named_steps['clf'].n_features_in_}\")#feature_names_in_\n",
        "print(f\"Noms des features - dimension de l'objet : {len(best_estimator[:-1].get_feature_names_out())}\")\n",
        "print(f\"Vocabulaire après vectorisation - dimension de l'objet : {len(best_estimator.named_steps['prep'].transformers_[1][1]['countvect'].vocabulary_)}\") #prep__vectorizer__countvect"
      ]
    },
    {
      "cell_type": "code",
      "execution_count": null,
      "metadata": {
        "colab": {
          "base_uri": "https://localhost:8080/"
        },
        "id": "Iytb2botHzU9",
        "outputId": "7b469128-bf1e-4370-e109-20c1f7151c97"
      },
      "outputs": [
        {
          "data": {
            "text/plain": [
              "[('scaler',\n",
              "  Pipeline(steps=[('minmax', MinMaxScaler())]),\n",
              "  ['length', 'word_count']),\n",
              " ('vectorizer',\n",
              "  Pipeline(steps=[('countvect',\n",
              "                   CountVectorizer(ngram_range=(1, 2), stop_words='english'))]),\n",
              "  'message')]"
            ]
          },
          "execution_count": 111,
          "metadata": {},
          "output_type": "execute_result"
        }
      ],
      "source": [
        "# Some tips to dive into the pipeline and retrieve data\n",
        "best_estimator.named_steps['prep'].transformers_#[1][1]['countvect'].vocabulary_"
      ]
    },
    {
      "cell_type": "code",
      "execution_count": null,
      "metadata": {
        "colab": {
          "base_uri": "https://localhost:8080/"
        },
        "id": "zpP4ZyAgKBC7",
        "outputId": "4c3760b2-3bc0-476d-8abd-45002743026c"
      },
      "outputs": [
        {
          "data": {
            "text/plain": [
              "array(['scaler__length', 'scaler__word_count', 'vectorizer__00', ...,\n",
              "       'vectorizer__ú1 20', 'vectorizer__〨ud', 'vectorizer__〨ud evening'],\n",
              "      dtype=object)"
            ]
          },
          "execution_count": 122,
          "metadata": {},
          "output_type": "execute_result"
        }
      ],
      "source": [
        "# Some tips to dive into the pipeline and retrieve data\n",
        "best_estimator[:-1].get_feature_names_out()#.shape"
      ]
    },
    {
      "cell_type": "code",
      "execution_count": null,
      "metadata": {
        "id": "flNRX569W-QU"
      },
      "outputs": [],
      "source": [
        "# Features retenues après vectorisation\n",
        "best_estimator.named_steps['prep'].transformers_[1][1]['countvect'].vocabulary_"
      ]
    },
    {
      "cell_type": "markdown",
      "metadata": {
        "id": "TV1H5P3KkmYH"
      },
      "source": [
        "##11.3 Importance - Probabilité empirique"
      ]
    },
    {
      "cell_type": "code",
      "execution_count": null,
      "metadata": {
        "colab": {
          "base_uri": "https://localhost:8080/"
        },
        "id": "cUNXzCINkpd1",
        "outputId": "e45913a0-3eb3-4485-eecf-d885a160e0d9"
      },
      "outputs": [
        {
          "data": {
            "text/plain": [
              "array([[ -5.29301795,  -5.31054427, -11.20156451, ..., -11.20156451,\n",
              "        -10.50841733, -10.50841733],\n",
              "       [ -6.02719731,  -6.19168878,  -8.62629202, ..., -10.01258638,\n",
              "        -10.70573356, -10.70573356]])"
            ]
          },
          "execution_count": 138,
          "metadata": {},
          "output_type": "execute_result"
        }
      ],
      "source": [
        "# Probabilités\n",
        "best_estimator.named_steps['clf'].feature_log_prob_"
      ]
    },
    {
      "cell_type": "code",
      "execution_count": null,
      "metadata": {
        "colab": {
          "base_uri": "https://localhost:8080/"
        },
        "id": "LWwKnUFAm7fO",
        "outputId": "7b7016b2-a4ad-4d08-acef-60f52008bba4"
      },
      "outputs": [
        {
          "data": {
            "text/plain": [
              "array([ -5.29301795,  -5.31054427, -11.20156451, ..., -11.20156451,\n",
              "       -10.50841733, -10.50841733])"
            ]
          },
          "execution_count": 139,
          "metadata": {},
          "output_type": "execute_result"
        }
      ],
      "source": [
        "# Probabilités HAM\n",
        "best_estimator.named_steps['clf'].feature_log_prob_[0]"
      ]
    },
    {
      "cell_type": "code",
      "execution_count": null,
      "metadata": {
        "colab": {
          "base_uri": "https://localhost:8080/"
        },
        "id": "nm5Tu0sgm9jb",
        "outputId": "4bbb787f-4138-4d49-93c4-c3227d42fe5f"
      },
      "outputs": [
        {
          "data": {
            "text/plain": [
              "array([ -6.02719731,  -6.19168878,  -8.62629202, ..., -10.01258638,\n",
              "       -10.70573356, -10.70573356])"
            ]
          },
          "execution_count": 140,
          "metadata": {},
          "output_type": "execute_result"
        }
      ],
      "source": [
        "# Probabilités SPAM\n",
        "best_estimator.named_steps['clf'].feature_log_prob_[1]"
      ]
    },
    {
      "cell_type": "code",
      "execution_count": null,
      "metadata": {
        "colab": {
          "base_uri": "https://localhost:8080/",
          "height": 206
        },
        "id": "GW1PpMyqnHoS",
        "outputId": "0bd5e101-7ad1-47c8-d52f-e2b4c93df089"
      },
      "outputs": [
        {
          "data": {
            "text/html": [
              "\n",
              "  <div id=\"df-b3a5b887-acdb-4cec-a29c-cd63aa44c899\" class=\"colab-df-container\">\n",
              "    <div>\n",
              "<style scoped>\n",
              "    .dataframe tbody tr th:only-of-type {\n",
              "        vertical-align: middle;\n",
              "    }\n",
              "\n",
              "    .dataframe tbody tr th {\n",
              "        vertical-align: top;\n",
              "    }\n",
              "\n",
              "    .dataframe thead th {\n",
              "        text-align: right;\n",
              "    }\n",
              "</style>\n",
              "<table border=\"1\" class=\"dataframe\">\n",
              "  <thead>\n",
              "    <tr style=\"text-align: right;\">\n",
              "      <th></th>\n",
              "      <th>feature</th>\n",
              "      <th>importance_ham</th>\n",
              "      <th>importance_spam</th>\n",
              "    </tr>\n",
              "  </thead>\n",
              "  <tbody>\n",
              "    <tr>\n",
              "      <th>0</th>\n",
              "      <td>scaler__length</td>\n",
              "      <td>0.005027</td>\n",
              "      <td>0.002412</td>\n",
              "    </tr>\n",
              "    <tr>\n",
              "      <th>1</th>\n",
              "      <td>scaler__word_count</td>\n",
              "      <td>0.004939</td>\n",
              "      <td>0.002046</td>\n",
              "    </tr>\n",
              "    <tr>\n",
              "      <th>2</th>\n",
              "      <td>vectorizer__00</td>\n",
              "      <td>0.000014</td>\n",
              "      <td>0.000179</td>\n",
              "    </tr>\n",
              "    <tr>\n",
              "      <th>3</th>\n",
              "      <td>vectorizer__00 easter</td>\n",
              "      <td>0.000014</td>\n",
              "      <td>0.000045</td>\n",
              "    </tr>\n",
              "    <tr>\n",
              "      <th>4</th>\n",
              "      <td>vectorizer__00 sub</td>\n",
              "      <td>0.000014</td>\n",
              "      <td>0.000090</td>\n",
              "    </tr>\n",
              "  </tbody>\n",
              "</table>\n",
              "</div>\n",
              "    <div class=\"colab-df-buttons\">\n",
              "\n",
              "  <div class=\"colab-df-container\">\n",
              "    <button class=\"colab-df-convert\" onclick=\"convertToInteractive('df-b3a5b887-acdb-4cec-a29c-cd63aa44c899')\"\n",
              "            title=\"Convert this dataframe to an interactive table.\"\n",
              "            style=\"display:none;\">\n",
              "\n",
              "  <svg xmlns=\"http://www.w3.org/2000/svg\" height=\"24px\" viewBox=\"0 -960 960 960\">\n",
              "    <path d=\"M120-120v-720h720v720H120Zm60-500h600v-160H180v160Zm220 220h160v-160H400v160Zm0 220h160v-160H400v160ZM180-400h160v-160H180v160Zm440 0h160v-160H620v160ZM180-180h160v-160H180v160Zm440 0h160v-160H620v160Z\"/>\n",
              "  </svg>\n",
              "    </button>\n",
              "\n",
              "  <style>\n",
              "    .colab-df-container {\n",
              "      display:flex;\n",
              "      gap: 12px;\n",
              "    }\n",
              "\n",
              "    .colab-df-convert {\n",
              "      background-color: #E8F0FE;\n",
              "      border: none;\n",
              "      border-radius: 50%;\n",
              "      cursor: pointer;\n",
              "      display: none;\n",
              "      fill: #1967D2;\n",
              "      height: 32px;\n",
              "      padding: 0 0 0 0;\n",
              "      width: 32px;\n",
              "    }\n",
              "\n",
              "    .colab-df-convert:hover {\n",
              "      background-color: #E2EBFA;\n",
              "      box-shadow: 0px 1px 2px rgba(60, 64, 67, 0.3), 0px 1px 3px 1px rgba(60, 64, 67, 0.15);\n",
              "      fill: #174EA6;\n",
              "    }\n",
              "\n",
              "    .colab-df-buttons div {\n",
              "      margin-bottom: 4px;\n",
              "    }\n",
              "\n",
              "    [theme=dark] .colab-df-convert {\n",
              "      background-color: #3B4455;\n",
              "      fill: #D2E3FC;\n",
              "    }\n",
              "\n",
              "    [theme=dark] .colab-df-convert:hover {\n",
              "      background-color: #434B5C;\n",
              "      box-shadow: 0px 1px 3px 1px rgba(0, 0, 0, 0.15);\n",
              "      filter: drop-shadow(0px 1px 2px rgba(0, 0, 0, 0.3));\n",
              "      fill: #FFFFFF;\n",
              "    }\n",
              "  </style>\n",
              "\n",
              "    <script>\n",
              "      const buttonEl =\n",
              "        document.querySelector('#df-b3a5b887-acdb-4cec-a29c-cd63aa44c899 button.colab-df-convert');\n",
              "      buttonEl.style.display =\n",
              "        google.colab.kernel.accessAllowed ? 'block' : 'none';\n",
              "\n",
              "      async function convertToInteractive(key) {\n",
              "        const element = document.querySelector('#df-b3a5b887-acdb-4cec-a29c-cd63aa44c899');\n",
              "        const dataTable =\n",
              "          await google.colab.kernel.invokeFunction('convertToInteractive',\n",
              "                                                    [key], {});\n",
              "        if (!dataTable) return;\n",
              "\n",
              "        const docLinkHtml = 'Like what you see? Visit the ' +\n",
              "          '<a target=\"_blank\" href=https://colab.research.google.com/notebooks/data_table.ipynb>data table notebook</a>'\n",
              "          + ' to learn more about interactive tables.';\n",
              "        element.innerHTML = '';\n",
              "        dataTable['output_type'] = 'display_data';\n",
              "        await google.colab.output.renderOutput(dataTable, element);\n",
              "        const docLink = document.createElement('div');\n",
              "        docLink.innerHTML = docLinkHtml;\n",
              "        element.appendChild(docLink);\n",
              "      }\n",
              "    </script>\n",
              "  </div>\n",
              "\n",
              "\n",
              "<div id=\"df-0e55606d-7f5b-4775-9069-16f6efc4cd6d\">\n",
              "  <button class=\"colab-df-quickchart\" onclick=\"quickchart('df-0e55606d-7f5b-4775-9069-16f6efc4cd6d')\"\n",
              "            title=\"Suggest charts\"\n",
              "            style=\"display:none;\">\n",
              "\n",
              "<svg xmlns=\"http://www.w3.org/2000/svg\" height=\"24px\"viewBox=\"0 0 24 24\"\n",
              "     width=\"24px\">\n",
              "    <g>\n",
              "        <path d=\"M19 3H5c-1.1 0-2 .9-2 2v14c0 1.1.9 2 2 2h14c1.1 0 2-.9 2-2V5c0-1.1-.9-2-2-2zM9 17H7v-7h2v7zm4 0h-2V7h2v10zm4 0h-2v-4h2v4z\"/>\n",
              "    </g>\n",
              "</svg>\n",
              "  </button>\n",
              "\n",
              "<style>\n",
              "  .colab-df-quickchart {\n",
              "      --bg-color: #E8F0FE;\n",
              "      --fill-color: #1967D2;\n",
              "      --hover-bg-color: #E2EBFA;\n",
              "      --hover-fill-color: #174EA6;\n",
              "      --disabled-fill-color: #AAA;\n",
              "      --disabled-bg-color: #DDD;\n",
              "  }\n",
              "\n",
              "  [theme=dark] .colab-df-quickchart {\n",
              "      --bg-color: #3B4455;\n",
              "      --fill-color: #D2E3FC;\n",
              "      --hover-bg-color: #434B5C;\n",
              "      --hover-fill-color: #FFFFFF;\n",
              "      --disabled-bg-color: #3B4455;\n",
              "      --disabled-fill-color: #666;\n",
              "  }\n",
              "\n",
              "  .colab-df-quickchart {\n",
              "    background-color: var(--bg-color);\n",
              "    border: none;\n",
              "    border-radius: 50%;\n",
              "    cursor: pointer;\n",
              "    display: none;\n",
              "    fill: var(--fill-color);\n",
              "    height: 32px;\n",
              "    padding: 0;\n",
              "    width: 32px;\n",
              "  }\n",
              "\n",
              "  .colab-df-quickchart:hover {\n",
              "    background-color: var(--hover-bg-color);\n",
              "    box-shadow: 0 1px 2px rgba(60, 64, 67, 0.3), 0 1px 3px 1px rgba(60, 64, 67, 0.15);\n",
              "    fill: var(--button-hover-fill-color);\n",
              "  }\n",
              "\n",
              "  .colab-df-quickchart-complete:disabled,\n",
              "  .colab-df-quickchart-complete:disabled:hover {\n",
              "    background-color: var(--disabled-bg-color);\n",
              "    fill: var(--disabled-fill-color);\n",
              "    box-shadow: none;\n",
              "  }\n",
              "\n",
              "  .colab-df-spinner {\n",
              "    border: 2px solid var(--fill-color);\n",
              "    border-color: transparent;\n",
              "    border-bottom-color: var(--fill-color);\n",
              "    animation:\n",
              "      spin 1s steps(1) infinite;\n",
              "  }\n",
              "\n",
              "  @keyframes spin {\n",
              "    0% {\n",
              "      border-color: transparent;\n",
              "      border-bottom-color: var(--fill-color);\n",
              "      border-left-color: var(--fill-color);\n",
              "    }\n",
              "    20% {\n",
              "      border-color: transparent;\n",
              "      border-left-color: var(--fill-color);\n",
              "      border-top-color: var(--fill-color);\n",
              "    }\n",
              "    30% {\n",
              "      border-color: transparent;\n",
              "      border-left-color: var(--fill-color);\n",
              "      border-top-color: var(--fill-color);\n",
              "      border-right-color: var(--fill-color);\n",
              "    }\n",
              "    40% {\n",
              "      border-color: transparent;\n",
              "      border-right-color: var(--fill-color);\n",
              "      border-top-color: var(--fill-color);\n",
              "    }\n",
              "    60% {\n",
              "      border-color: transparent;\n",
              "      border-right-color: var(--fill-color);\n",
              "    }\n",
              "    80% {\n",
              "      border-color: transparent;\n",
              "      border-right-color: var(--fill-color);\n",
              "      border-bottom-color: var(--fill-color);\n",
              "    }\n",
              "    90% {\n",
              "      border-color: transparent;\n",
              "      border-bottom-color: var(--fill-color);\n",
              "    }\n",
              "  }\n",
              "</style>\n",
              "\n",
              "  <script>\n",
              "    async function quickchart(key) {\n",
              "      const quickchartButtonEl =\n",
              "        document.querySelector('#' + key + ' button');\n",
              "      quickchartButtonEl.disabled = true;  // To prevent multiple clicks.\n",
              "      quickchartButtonEl.classList.add('colab-df-spinner');\n",
              "      try {\n",
              "        const charts = await google.colab.kernel.invokeFunction(\n",
              "            'suggestCharts', [key], {});\n",
              "      } catch (error) {\n",
              "        console.error('Error during call to suggestCharts:', error);\n",
              "      }\n",
              "      quickchartButtonEl.classList.remove('colab-df-spinner');\n",
              "      quickchartButtonEl.classList.add('colab-df-quickchart-complete');\n",
              "    }\n",
              "    (() => {\n",
              "      let quickchartButtonEl =\n",
              "        document.querySelector('#df-0e55606d-7f5b-4775-9069-16f6efc4cd6d button');\n",
              "      quickchartButtonEl.style.display =\n",
              "        google.colab.kernel.accessAllowed ? 'block' : 'none';\n",
              "    })();\n",
              "  </script>\n",
              "</div>\n",
              "    </div>\n",
              "  </div>\n"
            ],
            "text/plain": [
              "                 feature  importance_ham  importance_spam\n",
              "0         scaler__length        0.005027         0.002412\n",
              "1     scaler__word_count        0.004939         0.002046\n",
              "2         vectorizer__00        0.000014         0.000179\n",
              "3  vectorizer__00 easter        0.000014         0.000045\n",
              "4     vectorizer__00 sub        0.000014         0.000090"
            ]
          },
          "execution_count": 141,
          "metadata": {},
          "output_type": "execute_result"
        }
      ],
      "source": [
        "# DataFrame\n",
        "df_importance = pd.DataFrame({\n",
        "    'feature' : best_estimator[:-1].get_feature_names_out(),\n",
        "    'importance_ham': np.exp(best_estimator.named_steps['clf'].feature_log_prob_[0, :]),\n",
        "    'importance_spam': np.exp(best_estimator.named_steps['clf'].feature_log_prob_[1, :])\n",
        "})\n",
        "\n",
        "df_importance.head()"
      ]
    },
    {
      "cell_type": "markdown",
      "metadata": {
        "id": "raW5FPGhnOWj"
      },
      "source": [
        "##11.4 Résultats"
      ]
    },
    {
      "cell_type": "code",
      "execution_count": null,
      "metadata": {
        "colab": {
          "base_uri": "https://localhost:8080/",
          "height": 497
        },
        "id": "UaBaZN-dnOsd",
        "outputId": "fd807004-e3ee-4cc5-e88d-6d9cd05d2cf2"
      },
      "outputs": [
        {
          "data": {
            "text/plain": [
              "[Text(0.5, 1.0, 'Classe SPAM - Top 20 Features')]"
            ]
          },
          "execution_count": 149,
          "metadata": {},
          "output_type": "execute_result"
        },
        {
          "data": {
            "image/png": "[encoded data removed]",
            "text/plain": [
              "<Figure size 640x480 with 1 Axes>"
            ]
          },
          "metadata": {},
          "output_type": "display_data"
        }
      ],
      "source": [
        "sns.barplot(data = df_importance.sort_values(by='importance_spam', ascending=False)[:20],\n",
        "            x=\"importance_spam\", y=\"feature\").set(title='Classe SPAM - Top 20 Features')"
      ]
    },
    {
      "cell_type": "markdown",
      "metadata": {
        "id": "DiOev_DunVZZ"
      },
      "source": [
        "Voici donc une sélection des features et donc du vocabulaire qui conduit le classifieur à détecter des messages comme des Spam."
      ]
    },
    {
      "cell_type": "markdown",
      "metadata": {
        "id": "wZlNdzkd2tYr"
      },
      "source": [
        "#12 Prochaines étapes\n",
        "Dans une logique de perfectionnement du classifieur et de ce projet de manière générale, voici quelques idées de prochaines étapes :\n",
        "-  Poursuivre l'analyse et la compréhesion des erreurs du modèle\n",
        "-  Poursuivre l'analyse et la compréhesion des feature importances\n",
        "- Améliorer les performances du modèle\n",
        "- Tester ce modèle sur un nouveau dataset de SMS\n",
        "- etc."
      ]
    },
    {
      "cell_type": "markdown",
      "metadata": {
        "id": "2OYoCHyjUrNH"
      },
      "source": [
        "# Fin du challenge\n",
        "Bravo ! Vous êtes arrivés sans peine jusqu'à la fin de ce challenge ML ✌ !"
      ]
    }
  ],
  "metadata": {
    "colab": {
      "provenance": [],
      "toc_visible": true
    },
    "kernelspec": {
      "display_name": "Python 3",
      "name": "python3"
    },
    "language_info": {
      "name": "python",
      "version": "3.11.5"
    }
  },
  "nbformat": 4,
  "nbformat_minor": 0
}
