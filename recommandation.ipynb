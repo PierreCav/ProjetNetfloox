{
 "cells": [
  {
   "cell_type": "code",
   "execution_count": 26,
   "metadata": {},
   "outputs": [],
   "source": [
    "import pandas as pd\n",
    "from sqlalchemy import create_engine\n",
    "from dotenv import load_dotenv\n",
    "import os\n",
    "import matplotlib.pyplot as plt\n",
    "import seaborn as sns ;\n",
    "from sklearn.feature_extraction.text import CountVectorizer, TfidfVectorizer\n",
    "from sklearn.metrics.pairwise import cosine_similarity\n"
   ]
  },
  {
   "cell_type": "code",
   "execution_count": 28,
   "metadata": {},
   "outputs": [],
   "source": [
    "\n",
    "def data_load():\n",
    "    load_dotenv('BDD_URL.env')\n",
    "    BDD_URL = os.environ['BDD_URL']\n",
    "    engine = create_engine(BDD_URL)\n",
    "\n",
    "\n",
    "    SQL= \"\"\"\n",
    "    SET search_path to principal;\n",
    "    SELECT  \"tconst\", \"primaryTitle\", \"titleType\", \"isAdult\", \"startYear\", \"runtimeMinutes\", \"genres\", \"averageRating\", \"directors\", \"writers\", \"actor\", \"producer\", \"cinematographer\", \"composer\", \"editor\", \"production_designer\", \"self\", \"archive_footage\", \"archive_sound\"\n",
    "    from \"castview\"\n",
    "    where \"titleType\" = 'movie' and \"runtimeMinutes\" < 380 and \"runtimeMinutes\" Is NOT null and \"averageRating\" is NOT NULL and \"genres\" is NOT NULL and \"startYear\" is NOT NULL and \"isAdult\" is NOT NULL  and \"directors\" is NOT NULL and  \"writers\" is NOT NULL  and  \"actor\" is NOT NULL  and  \"producer\" is NOT NULL\n",
    "    ORDER BY \"tconst\" desc\n",
    "    limit 100;\n",
    "    \"\"\"\n",
    "    df = pd.read_sql(SQL, engine)\n",
    "    engine.dispose()\n",
    "    return df\n",
    "df = data_load()"
   ]
  },
  {
   "cell_type": "code",
   "execution_count": 4,
   "metadata": {},
   "outputs": [],
   "source": [
    "def liste_en_texte(lst):\n",
    "    if isinstance(lst, list):\n",
    "        return ' '.join(lst)\n",
    "    else:\n",
    "        return lst\n",
    "    \n",
    "def cleanText(df):\n",
    "    df.fillna('missing', inplace=True)\n",
    "    df=df.str.replace(',', ' ')\n",
    "    return df"
   ]
  },
  {
   "cell_type": "code",
   "execution_count": 5,
   "metadata": {},
   "outputs": [],
   "source": [
    "columns_to_clean = ['primaryTitle', 'titleType', 'genres', 'directors', 'writers', \n",
    "                    'actor', 'producer', 'cinematographer', 'composer', 'editor', \n",
    "                    'production_designer', 'self', 'archive_footage', 'archive_sound']\n",
    "\n",
    "for column in columns_to_clean:\n",
    "    df[column] = cleanText(df[column])"
   ]
  },
  {
   "cell_type": "code",
   "execution_count": 6,
   "metadata": {},
   "outputs": [],
   "source": [
    "def BooleanToText (df):\n",
    "    return df.apply(lambda x: 'True' if x == 1 else 'False')"
   ]
  },
  {
   "cell_type": "code",
   "execution_count": 7,
   "metadata": {},
   "outputs": [],
   "source": [
    "def DateToCategory (df):\n",
    "    \n",
    "    df.fillna(df.mean(), inplace=True) # a valider\n",
    "    \n",
    "    bins = list(range(1800, 2056, 5))  # Intervalles de 5\n",
    "    labels = [f\"between{start}and{start+4}\" for start in range(1800, 2051, 5)]\n",
    "\n",
    "    return pd.cut(df, bins=bins, labels=labels, right=False)\n"
   ]
  },
  {
   "cell_type": "code",
   "execution_count": 8,
   "metadata": {},
   "outputs": [],
   "source": [
    "def RuntimeToCategory (df):\n",
    "    \n",
    "    df.fillna(df.mean(), inplace=True) # a valider\n",
    "    \n",
    "    bins = list(range(0, 615, 15))  # Intervalles de 10h\n",
    "    labels = [f\"runtime_Between{start}and{start+15}\" for start in range(0, 600, 15)]\n",
    "\n",
    "    return pd.cut(df, bins=bins, labels=labels, right=False) #qcut "
   ]
  },
  {
   "cell_type": "code",
   "execution_count": 9,
   "metadata": {},
   "outputs": [],
   "source": [
    "def RatingToCategory (df):\n",
    "    \n",
    "    df.fillna(df.mean(), inplace=True) # a valider\n",
    "    \n",
    "    bins = list(range(0, 12, 2))  \n",
    "    labels = ['*','**','***','****','*****']\n",
    "\n",
    "    return pd.cut(df, bins=bins, labels=labels, right=False)"
   ]
  },
  {
   "cell_type": "code",
   "execution_count": 10,
   "metadata": {},
   "outputs": [],
   "source": [
    "def listTostr (df):\n",
    "    return df.apply(lambda x: ' '.join(map(str, x)))"
   ]
  },
  {
   "cell_type": "code",
   "execution_count": 13,
   "metadata": {},
   "outputs": [],
   "source": [
    "def crewmod (x, type):\n",
    "    return ' '.join([type +'_'+ name for name in x.split()])"
   ]
  },
  {
   "cell_type": "code",
   "execution_count": 14,
   "metadata": {},
   "outputs": [
    {
     "data": {
      "text/plain": [
       "'6 Gunn titleType_movie Rating_**** startYear_between2015and2019 runtime_Between105and120 Drama ADULT_False directors_Kiran_Gawade writers_Kiran_Gawade actor_Bhushan_Pradhan actor_Devadhar_Archit actor_Ganesh_Vasant_Patil actor_Sunil_Barve producer_Abhishek_Jathar producer_Ujjwala_Gawde '"
      ]
     },
     "execution_count": 14,
     "metadata": {},
     "output_type": "execute_result"
    }
   ],
   "source": [
    "df['feature'] = df['primaryTitle'] + ' '\n",
    "\n",
    "df['feature'] += 'titleType_'+df['titleType'] + ' '\n",
    "\n",
    "df['feature'] += 'Rating_'+RatingToCategory(df['averageRating']).astype(str) + ' '\n",
    "\n",
    "df['feature'] += 'startYear_'+DateToCategory(df['startYear']).astype(str) + ' '\n",
    "\n",
    "df['feature'] += RuntimeToCategory (df['runtimeMinutes']).astype(str)+ ' '\n",
    "\n",
    "df['feature'] += df['genres'] + ' '\n",
    "\n",
    "df['feature'] += 'ADULT_'+BooleanToText (df['isAdult']).astype(str)+' '\n",
    "\n",
    "df['feature'] += df['directors'].apply(crewmod, type='directors').astype(str)+' '\n",
    "df['feature'] += df['writers'].apply(crewmod, type='writers').astype(str)+' '\n",
    "df['feature'] += df['actor'].apply(crewmod, type='actor').astype(str)+' '\n",
    "df['feature'] += df['producer'].apply(crewmod, type='producer').astype(str)+' '\n",
    "\n",
    "df['feature'][0]"
   ]
  },
  {
   "cell_type": "code",
   "execution_count": 15,
   "metadata": {},
   "outputs": [],
   "source": [
    "cv = CountVectorizer(analyzer=\"word\")\n",
    "count_vect = cv.fit_transform(df['feature'])"
   ]
  },
  {
   "cell_type": "code",
   "execution_count": 18,
   "metadata": {},
   "outputs": [],
   "source": [
    "def findfilm(index):\n",
    "    if index < len(df):\n",
    "        return df.iloc[index][['tconst', 'primaryTitle']].tolist()\n",
    "    else:\n",
    "        return None  \n",
    "\n",
    "\n",
    "def getindex(filmm):\n",
    "    index_list = df[df['primaryTitle'] == filmm].index\n",
    "    if len(index_list) > 0:\n",
    "        return index_list[0]\n",
    "    else:\n",
    "        return None\n",
    "\n",
    "def Indexliste(array,listlent):\n",
    "    R = list(enumerate(array, 0))\n",
    "    sort_R=sorted(R, key=lambda x: x[1], reverse=True)\n",
    "    sort_R=sort_R[1:listlent+1] # les 1 pour supprimer le film lui meme de la list des recommendations\n",
    "    return sort_R\n"
   ]
  },
  {
   "cell_type": "code",
   "execution_count": 19,
   "metadata": {},
   "outputs": [],
   "source": [
    "def recommend(film='' , Nbfilm=5):\n",
    "    indexfilm = getindex(film)\n",
    "    if indexfilm == None :\n",
    "        return []\n",
    "    \n",
    "    vecteursimilarite = cosine_similarity(count_vect,count_vect[indexfilm])\n",
    "    liste = Indexliste(vecteursimilarite, Nbfilm)\n",
    "    # rekomand = [[movie[0],findfilm(movie[0]),round(movie[1],2)] for movie in liste]\n",
    "    rekomand = [findfilm(movie[0]) for movie in liste]\n",
    "    return rekomand"
   ]
  },
  {
   "cell_type": "code",
   "execution_count": 24,
   "metadata": {},
   "outputs": [
    {
     "data": {
      "text/plain": [
       "[['tt9916362', 'Coven'],\n",
       " ['tt9904004', 'Your Iron Lady'],\n",
       " ['tt9902160', 'Herself'],\n",
       " ['tt9892546', 'Aladdin'],\n",
       " ['tt9875128', 'Halahal'],\n",
       " ['tt9911196', 'The Marriage Escape'],\n",
       " ['tt9904802', 'Enemy Lines'],\n",
       " ['tt9897258', 'Rose Stone Star'],\n",
       " ['tt9890308', 'Nasir'],\n",
       " ['tt9916190', 'Safeguard']]"
      ]
     },
     "execution_count": 24,
     "metadata": {},
     "output_type": "execute_result"
    }
   ],
   "source": [
    "recommend(film='Wet Dog', Nbfilm=10)"
   ]
  }
 ],
 "metadata": {
  "kernelspec": {
   "display_name": "Python 3",
   "language": "python",
   "name": "python3"
  },
  "language_info": {
   "codemirror_mode": {
    "name": "ipython",
    "version": 3
   },
   "file_extension": ".py",
   "mimetype": "text/x-python",
   "name": "python",
   "nbconvert_exporter": "python",
   "pygments_lexer": "ipython3",
   "version": "3.11.5"
  }
 },
 "nbformat": 4,
 "nbformat_minor": 2
}
